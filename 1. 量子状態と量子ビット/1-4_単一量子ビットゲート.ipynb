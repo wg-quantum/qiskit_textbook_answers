{
 "cells": [
  {
   "cell_type": "markdown",
   "id": "20941b80",
   "metadata": {},
   "source": [
    "$$\\newcommand{\\ket}[1]{\\left|{#1}\\right\\rangle}$$\n",
    "$$\\newcommand{\\bra}[1]{\\left\\langle{#1}\\right|}$$\n",
    "$$\\newcommand{\\braket}[2]{\\left\\langle{#1}\\right\\rangle{#2}}$$"
   ]
  },
  {
   "cell_type": "markdown",
   "id": "261620ed",
   "metadata": {},
   "source": [
    "2"
   ]
  },
  {
   "cell_type": "markdown",
   "id": "3a82de21",
   "metadata": {},
   "source": [
    "1. $\\ket{+}$ および $\\ket{-}$ が実際にXゲートの固有状態であることを確認してください。"
   ]
  },
  {
   "cell_type": "markdown",
   "id": "4782e452",
   "metadata": {},
   "source": [
    "\\begin{align*}\n",
    " X\\ket{+} &= X\\frac{1}{\\sqrt2}(\\ket{0} + \\ket{1}) \\qquad ...\\ket{+}を\\ket{0}, \\ket{1}に変換する。 \\\\\n",
    " &= \\frac{1}{\\sqrt2}(\\ket{1} + \\ket{0}) \\qquad ...Xゲートを\\ket{0}, \\ket{1}に適用する。 \\\\\n",
    " &= \\frac{1}{\\sqrt2}(\\ket{0} + \\ket{1}) \\qquad ...\\ket{0}, \\ket{1}の位置を交換する。 \\\\\n",
    " &= \\ket{+} \\qquad\\qquad\\qquad ...\\ket{+}に変換する。 \\\\\n",
    "\\end{align*}"
   ]
  },
  {
   "cell_type": "markdown",
   "id": "ebd7a284-3698-4154-a344-4fdb84c10589",
   "metadata": {},
   "source": [
    "\\begin{align*}\n",
    "X\\ket{-} &= X\\frac{1}{\\sqrt2}(\\ket{0} - \\ket{1}) \\qquad ...\\ket{-}を\\ket{0}, \\ket{1}に変換する。 \\\\\n",
    " &= \\frac{1}{\\sqrt2}(\\ket{1} - \\ket{0}) \\qquad ...Xゲートを\\ket{0}, \\ket{1}に適用する。 \\\\\n",
    " &= -\\frac{1}{\\sqrt2}(\\ket{0} - \\ket{1}) \\qquad ...\\ket{0}, \\ket{1}の位置を交換する。 \\\\\n",
    " &= -\\ket{-} \\qquad\\qquad\\qquad ...\\ket{-}に変換する。 \\\\\n",
    "\\end{align*}"
   ]
  },
  {
   "cell_type": "markdown",
   "id": "5fe1cf4a",
   "metadata": {},
   "source": [
    "2. 上の状態は、どのような固有値を持っていますか。"
   ]
  },
  {
   "cell_type": "markdown",
   "id": "fccbaf3e",
   "metadata": {},
   "source": [
    "1の結果より、固有状態が $\\ket{+}$ のとき固有値は $1$ 、固有状態が $\\ket{-}$ のとき固有値は $-1$である。"
   ]
  },
  {
   "cell_type": "markdown",
   "id": "505edf12",
   "metadata": {},
   "source": [
    "3. これらの固有値がブロッホ球に表示されないのはなぜですか？　（英語版にはない問題）"
   ]
  },
  {
   "cell_type": "markdown",
   "id": "27218891",
   "metadata": {},
   "source": [
    "2のこれらの固有値は状態全体にかかる係数のためグローバル位相である。  \n",
    "グローバル位相は測定できず、ブロッホ球を描く際には不要なパラメータのため。  \n",
    "参照:https://qiskit.org/textbook/ja/ch-states/representing-qubit-states.html#3.-%E3%83%96%E3%83%AD%E3%83%83%E3%83%9B%E7%90%83-"
   ]
  },
  {
   "cell_type": "markdown",
   "id": "7c8030b1",
   "metadata": {},
   "source": [
    "4. Yゲートの固有状態と、ブロッホ球上の座標を見つけてください。"
   ]
  },
  {
   "cell_type": "markdown",
   "id": "1073a71b-d272-4358-9d73-316acf407151",
   "metadata": {},
   "source": [
    "行列Aの固有方程式 $det(A−λI)=0$ を用いて、Yゲートの固有状態を求める。※λは固有値。  \n",
    "行列AにYを代入すると、   \n",
    "\\begin{align*}\n",
    " det(Y-λI)\n",
    " &= det(\\begin{bmatrix} 0 & -i \\\\ i & 0 \\end{bmatrix}-λ\\begin{bmatrix} 1 & 0 \\\\ 0 & 1 \\end{bmatrix}) \\\\\n",
    " &= det(\\begin{bmatrix} -λ & -i \\\\ i & -λ \\end{bmatrix}) \\\\ \n",
    "\\end{align*}\n",
    "となる。  \n",
    "\n",
    "まず、上記の式から固有値λを求める。\n",
    "\\begin{align*}\n",
    " det(\\begin{bmatrix} -λ & -i \\\\ i & -λ \\end{bmatrix}) &= 0 \\\\\n",
    " (-λ)(-λ) - (-i)(i) &= 0 \\\\\n",
    " λ^2 - 1 &= 0 \\\\\n",
    " (λ+1)(λ-1) &= 0 \\\\\n",
    " λ &= ±1 \\\\\n",
    "\\end{align*}\n",
    "\n",
    "次に、固有ベクトルを求める。  \n",
    "(i)$λ=1$を$(Y−λI)\\vec{x} = \\vec{0}$ に代入すると、  \n",
    "\\begin{align*}\n",
    " (Y−I)\\vec{x} &= \\vec{0} \\\\\n",
    " \\begin{bmatrix} -1 & -i \\\\ i & -1 \\end{bmatrix}\\begin{bmatrix} x_1 \\\\ x_2 \\end{bmatrix} &= \\vec{0} \\\\\n",
    " x_1 + ix_2 &= 0 \\\\\n",
    " \\begin{cases}\n",
    "  x_1 = t \\\\\n",
    "  x_2 = it \\\\\n",
    " \\end{cases}\n",
    "  （tは任意定数、t≠0） \n",
    "\\end{align*} \n",
    "となるから、固有ベクトルは  \n",
    "\\begin{align*}\n",
    " t\\begin{bmatrix} 1 \\\\ i \\end{bmatrix} （tは任意定数、t≠0） \\\\\n",
    "\\end{align*}\n",
    "\n",
    "(ii)$λ=-1$を$(Y−λI)\\vec{x} = \\vec{0}$ に代入すると、  \n",
    "\\begin{align*}\n",
    " (Y+I)\\vec{x} &= \\vec{0} \\\\\n",
    " \\begin{bmatrix} 1 & -i \\\\ i & 1 \\end{bmatrix}\\begin{bmatrix} x_1 \\\\ x_2 \\end{bmatrix} &= \\vec{0} \\\\\n",
    " x_1 - ix_2 &= 0 \\\\\n",
    " \\begin{cases}\n",
    "  x_1 = t \\\\\n",
    "  x_2 = -it \\\\\n",
    " \\end{cases}\n",
    "  （tは任意定数、t≠0） \n",
    "\\end{align*} \n",
    "となるから、固有ベクトルは  \n",
    "\\begin{align*}\n",
    " t\\begin{bmatrix} 1 \\\\ -i \\end{bmatrix} （tは任意定数、t≠0） \\\\\n",
    "\\end{align*}\n",
    "\n",
    "量子ビットの状態を正規化すると、$\\sqrt{t^2 + t^2} = 1$ なので $t = \\frac{1}{\\sqrt2}$ となる。  \n",
    "\n",
    "(i)(ii)および$t=\\frac{1}{\\sqrt2}$より、  \n",
    "Yゲートの固有状態は  \n",
    "\\begin{align*}\n",
    " t\\begin{bmatrix} 1 \\\\ i \\end{bmatrix} =  \\frac{1}{\\sqrt2}(\\ket{0} + i\\ket{1}) = \\ket{↺}\\\\\n",
    " t\\begin{bmatrix} 1 \\\\ -i \\end{bmatrix} =  \\frac{1}{\\sqrt2}(\\ket{0} - i\\ket{1}) = \\ket{↻}\\\\\n",
    "\\end{align*}\n",
    "である。"
   ]
  },
  {
   "cell_type": "markdown",
   "id": "088bd80c-910b-4d8c-9cc5-7c4b1839ed1d",
   "metadata": {},
   "source": [
    "固有状態が$\\ket{↺}$の場合のブロッホ球上の座標$(\\theta,\\phi)$を求める。 \n",
    "\n",
    "\\begin{align*}\n",
    " \\ket{q} &= \\cos\\frac{\\theta}{2}\\ket{0} + e^{\\mathrm{i}\\phi}\\sin\\frac{\\theta}{2}\\ket{1} \\\\\n",
    " \\ket{↺} &= \\frac{1}{\\sqrt2}\\ket{0} + i\\frac{1}{\\sqrt2}\\ket{1} \\\\\n",
    "\\end{align*}\n",
    "\n",
    "より、\n",
    "\n",
    "\\begin{align*}\n",
    "\\begin{cases}\n",
    "\\cos\\frac{\\theta}{2} &= \\frac{1}{\\sqrt2} \\\\\n",
    "\\sin\\frac{\\theta}{2} &= \\frac{1}{\\sqrt2} \\\\\n",
    "e^{\\mathrm{i}\\phi} &= i\n",
    "\\end{cases}\n",
    "\\end{align*}\n",
    "\n",
    "$e^{\\mathrm{i}\\phi}=i$について、オイラーの公式 $e^{\\mathrm{i}\\phi}=\\cos\\phi+i\\sin\\phi$ を用いると、  \n",
    "\\begin{align*}\n",
    "\\begin{cases}\n",
    "\\cos\\phi &= 0 \\\\\n",
    "i\\sin\\phi &= i \\\\\n",
    "\\end{cases}\n",
    "\\end{align*}\n",
    "\n",
    "\n",
    "上記の式を解くと、固有状態$\\ket{↺}$のブロッホ球上の座標$(\\theta,\\phi)$は$(\\frac{\\pi}{2},\\frac{\\pi}{2})$となる。"
   ]
  },
  {
   "cell_type": "markdown",
   "id": "7cdc0ba7-be0f-4a6a-a185-f762dd86208c",
   "metadata": {},
   "source": [
    "固有状態が$\\ket{↻}$の場合のブロッホ球上の座標$(\\theta,\\phi)$を求める。 \n",
    "\n",
    "\\begin{align*}\n",
    " \\ket{q} &= \\cos\\frac{\\theta}{2}\\ket{0} + e^{\\mathrm{i}\\phi}\\sin\\frac{\\theta}{2}\\ket{1} \\\\\n",
    " \\ket{↻} &= \\frac{1}{\\sqrt2}\\ket{0} - i\\frac{1}{\\sqrt2}\\ket{1} \\\\\n",
    "\\end{align*}\n",
    "\n",
    "より、\n",
    "\n",
    "\\begin{align*}\n",
    "\\begin{cases}\n",
    "\\cos\\frac{\\theta}{2} &= \\frac{1}{\\sqrt2} \\\\\n",
    "\\sin\\frac{\\theta}{2} &= \\frac{1}{\\sqrt2} \\\\\n",
    "e^{\\mathrm{i}\\phi} &= -i\n",
    "\\end{cases}\n",
    "\\end{align*}\n",
    "\n",
    "$e^{\\mathrm{i}\\phi}=-i$について、オイラーの公式 $e^{\\mathrm{i}\\phi}=\\cos\\phi+i\\sin\\phi$ を用いると、  \n",
    "\\begin{align*}\n",
    "\\begin{cases}\n",
    "\\cos\\phi &= 0 \\\\\n",
    "i\\sin\\phi &= -i \\\\\n",
    "\\end{cases}\n",
    "\\end{align*}\n",
    "\n",
    "上記の式を解くと、固有状態$\\ket{↻}$のブロッホ球上の座標$(\\theta,\\phi)$は$(\\frac{\\pi}{2},\\frac{3\\pi}{2})$となる。"
   ]
  },
  {
   "cell_type": "markdown",
   "id": "1395c8fa",
   "metadata": {},
   "source": [
    "3"
   ]
  },
  {
   "cell_type": "markdown",
   "id": "6bdbc137",
   "metadata": {},
   "source": [
    "1. Hゲートをベクトル $\\ket{0}$ 、 $\\ket{1}$ 、 $\\ket{+}$ および $\\ket{-}$ の外積として記述してください。"
   ]
  },
  {
   "cell_type": "markdown",
   "id": "b9873d46-3190-4e81-a040-2c3a0d115397",
   "metadata": {},
   "source": [
    "\\begin{cases}\n",
    " H\\ket{0}\\bra{0} = \\ket{+}\\bra{0} \\\\\n",
    " H\\ket{1}\\bra{1} = \\ket{-}\\bra{1} \\\\\n",
    "\\end{cases}\n",
    "上記の2式を足す。\n",
    "\\begin{align*}\n",
    " H\\ket{0}\\bra{0} + H\\ket{1}\\bra{1} &= \\ket{+}\\bra{0} + \\ket{-}\\bra{1} \\qquad ...左項をHゲートでまとめる。 \\\\\n",
    " H(\\ket{0}\\bra{0} + \\ket{1}\\bra{1}) &= \\ket{+}\\bra{0} + \\ket{-}\\bra{1} \\qquad ...\\ket{0}\\bra{0}+\\ket{1}\\bra{1}=I　\\\\\n",
    " HI &= \\ket{+}\\bra{0} + \\ket{-}\\bra{1} \\qquad ...HI=H \\\\\n",
    " H &= \\ket{+}\\bra{0} + \\ket{-}\\bra{1} \\\\\n",
    "\\end{align*}\n",
    "\n",
    "上記より、Hゲートをベクトル$\\ket{0}$ 、$\\ket{1}$ 、$\\ket{+}$および$\\ket{-}$ の外積として記述することができる。\n",
    "\n",
    "\\begin{align*}\n",
    " H &= \\ket{+}\\bra{0} + \\ket{-}\\bra{1} \\\\\n",
    " &= \\begin{bmatrix} \\frac{1}{\\sqrt2} \\\\ \\frac{1}{\\sqrt2} \\end{bmatrix}\n",
    " \\begin{bmatrix} 1 & 0 \\end{bmatrix} \n",
    " +\\begin{bmatrix} \\frac{1}{\\sqrt2} \\\\ \\frac{-1}{\\sqrt2} \\end{bmatrix}\n",
    " \\begin{bmatrix} 0 & 1 \\end{bmatrix} \\\\\n",
    " &= \\begin{bmatrix} \\frac{1}{\\sqrt2} & 0 \\\\ \\frac{1}{\\sqrt2} & 0 \\end{bmatrix}\n",
    " +\\begin{bmatrix} 0 & \\frac{1}{\\sqrt2} \\\\ 0 & \\frac{-1}{\\sqrt2} \\end{bmatrix} \\\\\n",
    " &= \\begin{bmatrix} \\frac{1}{\\sqrt2} & \\frac{1}{\\sqrt2} \\\\ \\frac{1}{\\sqrt2} & \\frac{-1}{\\sqrt2} \\end{bmatrix}\\\\\n",
    " &= \\frac{1}{\\sqrt2}\\begin{bmatrix} 1 & 1 \\\\ 1 & -1 \\end{bmatrix}\\\\\n",
    "\\end{align*}"
   ]
  },
  {
   "cell_type": "markdown",
   "id": "726e8d5b-2534-4b0f-a567-220feae4a1e1",
   "metadata": {},
   "source": [
    "別解  \n",
    "\n",
    "\\begin{align*}\n",
    "H &= \\frac{1}{\\sqrt2}\\begin{bmatrix} 1 & 1 \\\\ 1 & -1 \\end{bmatrix}  \\\\\n",
    "&=\\begin{bmatrix} \\frac{1}{\\sqrt2} & \\frac{1}{\\sqrt2} \\\\ \\frac{1}{\\sqrt2} & \\frac{-1}{\\sqrt2} \\end{bmatrix}  \\\\\n",
    "&= \\begin{bmatrix} \\frac{1}{\\sqrt2} & 0 \\\\ \\frac{1}{\\sqrt2} & 0 \\end{bmatrix}\n",
    " +\\begin{bmatrix} 0 & \\frac{1}{\\sqrt2} \\\\ 0 & \\frac{-1}{\\sqrt2} \\end{bmatrix}  \\\\\n",
    "&= \\begin{bmatrix} \\frac{1}{\\sqrt2} \\\\ \\frac{1}{\\sqrt2} \\end{bmatrix}\n",
    " \\begin{bmatrix} 1 & 0 \\end{bmatrix} \n",
    " +\\begin{bmatrix} \\frac{1}{\\sqrt2} \\\\ \\frac{-1}{\\sqrt2} \\end{bmatrix}\n",
    " \\begin{bmatrix} 0 & 1 \\end{bmatrix}  \\\\\n",
    "&= \\ket{+}\\bra{0} + \\ket{-}\\bra{1}  \\\\\n",
    "\\end{align*}"
   ]
  },
  {
   "cell_type": "markdown",
   "id": "42998971",
   "metadata": {},
   "source": [
    "2. ゲートを連ねたHZHを任意の量子ビット状態に適用することは、Xゲートを適用することと同等であることを示してください。"
   ]
  },
  {
   "cell_type": "markdown",
   "id": "d69fb327",
   "metadata": {},
   "source": [
    "\\begin{align*}\n",
    "  HZH&=\\frac{1}{\\sqrt2}\n",
    "  \\begin{bmatrix} 1 & 1 \\\\ 1 & -1 \\end{bmatrix}\n",
    "  \\begin{bmatrix} 1 & 0 \\\\ 0 & -1 \\end{bmatrix}\n",
    "  \\frac{1}{\\sqrt2}\n",
    "  \\begin{bmatrix} 1 & 1 \\\\ 1 & -1 \\end{bmatrix} \\\\\n",
    "  &=\\frac{1}{\\sqrt2}⋅\\frac{1}{\\sqrt2}\n",
    "  \\begin{bmatrix} 1 & 1 \\\\ 1 & -1 \\end{bmatrix}\n",
    "  \\begin{bmatrix} 1 & 0 \\\\ 0 & -1 \\end{bmatrix}\n",
    "  \\begin{bmatrix} 1 & 1 \\\\ 1 & -1 \\end{bmatrix}  \\qquad ...ZHを先に計算する。 \\\\\n",
    "  &=\\frac{1}{2}\n",
    "  \\begin{bmatrix} 1 & 1 \\\\ 1 & -1 \\end{bmatrix}\n",
    "  \\begin{bmatrix} 1 & 1 \\\\ -1 & 1 \\end{bmatrix} \\\\\n",
    "  &=\\frac{1}{2}\n",
    "  \\begin{bmatrix} 0 & 2 \\\\ 2 & 0 \\end{bmatrix} \\\\\n",
    "  &=\n",
    "  \\begin{bmatrix} 0 & 1 \\\\ 1 & 0 \\end{bmatrix} \\\\\n",
    "  &=X\n",
    "\\end{align*}\n",
    "以上より、HZHとXは同等であることが分かる。"
   ]
  },
  {
   "cell_type": "markdown",
   "id": "cdc4936f",
   "metadata": {},
   "source": [
    "3. Yゲート（グローバルフェーズを無視）と同等のX、Z、Hゲートの組み合わせを見つけてください。"
   ]
  },
  {
   "cell_type": "markdown",
   "id": "dfd15181-bca4-4491-a952-e0efccec3fc0",
   "metadata": {},
   "source": [
    "HZHとHXHを掛け合わせる。\n",
    "\n",
    "\\begin{align*}\n",
    " HZHHXH &= HZIXH \\\\\n",
    " &= HZXH \\\\\n",
    " &= \\frac{1}{\\sqrt2}\\begin{bmatrix} 1 & 1 \\\\ 1 & -1 \\end{bmatrix}\n",
    " \\begin{bmatrix} 1 & 0 \\\\ 0 & -1 \\end{bmatrix}\n",
    " \\begin{bmatrix} 0 & 1 \\\\ 1 & 0 \\end{bmatrix}\n",
    " \\frac{1}{\\sqrt2}\\begin{bmatrix} 1 & 1 \\\\ 1 & -1 \\end{bmatrix} \\\\\n",
    " &= \\frac{1}{\\sqrt2}\\begin{bmatrix} 1 & 1 \\\\ 1 & -1 \\end{bmatrix}\n",
    " \\begin{bmatrix} 1 & 0 \\\\ 0 & -1 \\end{bmatrix}\n",
    " \\frac{1}{\\sqrt2}\\begin{bmatrix} 1 & -1 \\\\ 1 & 1 \\end{bmatrix} \\\\\n",
    " &= \\frac{1}{\\sqrt2}\\begin{bmatrix} 1 & 1 \\\\ 1 & -1 \\end{bmatrix}\n",
    " \\frac{1}{\\sqrt2}\\begin{bmatrix} 1 & -1 \\\\ -1 & -1 \\end{bmatrix} \\\\\n",
    " &= \\begin{bmatrix} 0 & -1 \\\\ 1 & 0 \\end{bmatrix} \\\\\n",
    "\\end{align*}\n",
    "\n",
    "$\\ket{0}$、$\\ket{1}$にそれぞれHZXHを適用する。\n",
    "\\begin{align*}\n",
    " HZXH\\ket{0} &= \\ket{1} \\\\\n",
    " HZXH\\ket{1} &= -\\ket{0} \\\\\n",
    "\\end{align*}\n",
    "\n",
    "$\\ket{0}$、$\\ket{1}$にそれぞれYゲートを適用する。\n",
    "\\begin{align*}\n",
    " Y\\ket{0} &= \\mathrm{i}\\ket{1} \\\\\n",
    " Y\\ket{1} &= -\\mathrm{i}\\ket{0} \\\\\n",
    "\\end{align*}\n",
    "\n",
    "よって、グローバルフェーズを無視した場合にYとHZXHは同等である。"
   ]
  },
  {
   "cell_type": "markdown",
   "id": "44323cbc",
   "metadata": {},
   "source": [
    "4"
   ]
  },
  {
   "cell_type": "markdown",
   "id": "ca658880",
   "metadata": {},
   "source": [
    "1. $\\ket{+}$ 状態で量子ビットを初期化する場合、 $\\ket{-}$ 状態で量子ビットを測定する確率はどれくらいですか？"
   ]
  },
  {
   "cell_type": "markdown",
   "id": "11a97f86-c1ae-4921-b406-961cb27760a5",
   "metadata": {},
   "source": [
    "状態 $\\ket{\\phi}$ を状態 $\\ket{x}$ で測定する確率を見つけるには、$p(\\ket{x}) = |\\braket{x|\\phi}|^2$ を利用する。  \n",
    "\n",
    "したがって、状態 $\\ket{-}$ を状態 $\\ket{+}$ で測定する確率を見つけるには、$p(\\ket{+}) = |\\braket{+|-}|^2$ を解く。  \n",
    "\n",
    "\\begin{align*}\n",
    " p(\\ket{+}) &= |\\braket{+|-}|^2 \\\\\n",
    " &=|\\frac{1}{\\sqrt2}\n",
    "  \\begin{bmatrix} 1 & 1 \\end{bmatrix}\n",
    "  \\frac{1}{\\sqrt2}\n",
    "  \\begin{bmatrix} 1 \\\\ -1 \\end{bmatrix}|^2 \\\\\n",
    " &=0 \\\\\n",
    "\\end{align*}\n",
    "\n",
    "よって、$\\ket{+}$ 状態で量子ビットを初期化する場合、 $\\ket{-}$ 状態で量子ビットを測定する確率は0である。"
   ]
  },
  {
   "cell_type": "markdown",
   "id": "29843ce7",
   "metadata": {},
   "source": [
    "2. Qiskitを使用して、 $\\ket{+}$ と $\\ket{-}$ の状態で $\\ket{0}$ 量子ビットを測定する確率を表示してください。（ヒント： .get_counts()および plot_histogram()を使用することができます。)"
   ]
  },
  {
   "cell_type": "code",
   "execution_count": 2,
   "id": "191b5ebe-c896-4126-b9b9-4fbbdabbd257",
   "metadata": {},
   "outputs": [
    {
     "name": "stderr",
     "output_type": "stream",
     "text": [
      "<frozen importlib._bootstrap>:219: RuntimeWarning: scipy._lib.messagestream.MessageStream size changed, may indicate binary incompatibility. Expected 56 from C header, got 64 from PyObject\n"
     ]
    }
   ],
   "source": [
    "from qiskit import QuantumCircuit, assemble, Aer\n",
    "from math import pi, sqrt\n",
    "from qiskit.visualization import plot_bloch_multivector, plot_histogram\n",
    "sim = Aer.get_backend('aer_simulator')"
   ]
  },
  {
   "cell_type": "code",
   "execution_count": 11,
   "id": "47ddb1fd-2b98-4ce3-b351-cacabbe52ef4",
   "metadata": {},
   "outputs": [
    {
     "data": {
      "image/png": "[encoded data removed]",
      "text/plain": [
       "<Figure size 504x360 with 1 Axes>"
      ]
     },
     "execution_count": 11,
     "metadata": {},
     "output_type": "execute_result"
    }
   ],
   "source": [
    "# 初期状態を|+>と定義する。\n",
    "initial_state = [1/sqrt(2), 1/sqrt(2)]\n",
    "\n",
    "# 量子ビットを初期化して測定する。\n",
    "qc = QuantumCircuit(1,1)\n",
    "qc.initialize(initial_state, 0)\n",
    "qc.measure(0,0)\n",
    "\n",
    "# 実行可能なQobjに回路をアセンブルする。\n",
    "qobj = assemble(qc)  \n",
    "\n",
    "# シミュレーションを行い、状態ベクトルを返す。\n",
    "counts = sim.run(qobj).result().get_counts()  \n",
    "plot_histogram(counts)"
   ]
  },
  {
   "cell_type": "code",
   "execution_count": 9,
   "id": "df386929-ef2b-416d-88ac-d72fc24110d5",
   "metadata": {},
   "outputs": [
    {
     "data": {
      "image/png": "[encoded data removed]",
      "text/plain": [
       "<Figure size 504x360 with 1 Axes>"
      ]
     },
     "execution_count": 9,
     "metadata": {},
     "output_type": "execute_result"
    }
   ],
   "source": [
    "# 初期状態を|->と定義する。\n",
    "initial_state = [1/sqrt(2), -1/sqrt(2)]\n",
    "\n",
    "# 量子ビットを初期化して測定する。\n",
    "qc = QuantumCircuit(1,1)\n",
    "qc.initialize(initial_state, 0)\n",
    "qc.measure(0,0)\n",
    "\n",
    "# 実行可能なQobjに回路をアセンブルする。\n",
    "qobj = assemble(qc)  \n",
    "\n",
    "# シミュレーションを行い、状態ベクトルを返す。\n",
    "counts = sim.run(qobj).result().get_counts()  \n",
    "plot_histogram(counts)"
   ]
  },
  {
   "cell_type": "markdown",
   "id": "4edca592",
   "metadata": {},
   "source": [
    "上記の結果より、$\\ket{+}$状態で$\\ket{0}$量子ビットを測定する確率は約$0.5$、$\\ket{-}$状態で$\\ket{0}$量子ビットを測定する確率は約$0.5$である。"
   ]
  },
  {
   "cell_type": "markdown",
   "id": "364f87a0",
   "metadata": {},
   "source": [
    "3. Y基底で測定する関数を作成してみてください。"
   ]
  },
  {
   "cell_type": "code",
   "execution_count": 1,
   "id": "afa2fb53",
   "metadata": {},
   "outputs": [],
   "source": [
    "# Z基底にH,Sゲート(Sダガーゲート)を作用させると、Y基底での測定と同義になる。\n",
    "def y_measurement(qc,qubit,cbit):  #Y基底で測定する回路qcを作成する関数\n",
    "    qc.sdg(qubit)  #Sダガーゲート（後ほど出てくる）\n",
    "    qc.h(qubit)  #Hゲート\n",
    "    qc.measure(qubit,cbit)  #測定\n",
    "    return qc"
   ]
  },
  {
   "cell_type": "code",
   "execution_count": 13,
   "id": "423c945d-8dc2-49a8-a6b1-c399b025d8cc",
   "metadata": {},
   "outputs": [
    {
     "data": {
      "image/png": "[encoded data removed]",
      "text/plain": [
       "<Figure size 434.526x144.48 with 1 Axes>"
      ]
     },
     "execution_count": 13,
     "metadata": {},
     "output_type": "execute_result"
    }
   ],
   "source": [
    "# 以下、初期状態|↺>で測定した場合の実行例\n",
    "from qiskit import QuantumCircuit, assemble, Aer\n",
    "from math import pi, sqrt\n",
    "from qiskit.visualization import plot_bloch_multivector, plot_histogram\n",
    "sim = Aer.get_backend('aer_simulator')\n",
    "\n",
    "# 初期状態を|↺>と定義する。\n",
    "initial_state = [1/sqrt(2), complex(0,1/sqrt(2))]\n",
    "\n",
    "qc = QuantumCircuit(1,1)  #1量子ビットと1古典ビットで回路の土台を用意\n",
    "qc.initialize(initial_state, 0)\n",
    "qc.barrier()\n",
    "y_measurement(qc, 0, 0)\n",
    " \n",
    "#回路の描写\n",
    "qc.draw(output='mpl')  "
   ]
  },
  {
   "cell_type": "code",
   "execution_count": 14,
   "id": "1e356fe8-5b4f-44c8-af18-2aaa184dc8e2",
   "metadata": {},
   "outputs": [
    {
     "data": {
      "image/png": "[encoded data removed]",
      "text/plain": [
       "<Figure size 504x360 with 1 Axes>"
      ]
     },
     "execution_count": 14,
     "metadata": {},
     "output_type": "execute_result"
    }
   ],
   "source": [
    "# 実行可能なQobjに回路をアセンブルする。\n",
    "qobj = assemble(qc)  \n",
    "\n",
    "# シミュレーションを行い、状態ベクトルを返す。\n",
    "counts = sim.run(qobj).result().get_counts()  \n",
    "plot_histogram(counts)"
   ]
  },
  {
   "cell_type": "markdown",
   "id": "1e17ad93",
   "metadata": {},
   "source": [
    "6"
   ]
  },
  {
   "cell_type": "markdown",
   "id": "3ae26e15",
   "metadata": {},
   "source": [
    "1. Iゲートの固有状態は何でしょうか。"
   ]
  },
  {
   "cell_type": "markdown",
   "id": "3fd05b72-9273-4470-9989-5ff1f1740410",
   "metadata": {},
   "source": [
    "\\begin{align*}\n",
    "I\\ket{q} &= I(\\cos(\\frac{\\theta}{2})\\ket{0} + e^{\\mathrm{i}\\phi}\\sin(\\frac{\\theta}{2})\\ket{1}) \\\\\n",
    "&= \\cos(\\frac{\\theta}{2})I\\ket{0} + e^{\\mathrm{i}\\phi}\\sin(\\frac{\\theta}{2})I\\ket{1} \\\\\n",
    "&= \\cos(\\frac{\\theta}{2})\\ket{0} + e^{\\mathrm{i}\\phi}\\sin(\\frac{\\theta}{2})\\ket{1}  \\qquad ...I\\ket{0}=\\ket{0}, I\\ket{1}=\\ket{1}\\\\\n",
    "&= \\ket{q}\n",
    "\\end{align*}"
   ]
  },
  {
   "cell_type": "markdown",
   "id": "cfc51a42-0d8a-4d67-b5f9-fe1dad8a9c36",
   "metadata": {},
   "source": [
    "$I\\ket{q}=\\ket{q}$より、Iゲートの固有状態は任意の状態である。  \n",
    "\n",
    "$\\ket{+}$にIゲートを適用した例"
   ]
  },
  {
   "cell_type": "markdown",
   "id": "ea1db782",
   "metadata": {},
   "source": [
    "\\begin{align*}\n",
    "I\\ket{+} &= I(\\frac{1}{\\sqrt2}(\\ket{0} + \\ket{1})) \\\\\n",
    "&= \\frac{1}{\\sqrt2}(I\\ket{0} + I\\ket{1}) \\\\\n",
    "&= \\frac{1}{\\sqrt2}(\\ket{0} + \\ket{1}) \\\\\n",
    "&= \\ket{+}\n",
    "\\end{align*}"
   ]
  },
  {
   "cell_type": "code",
   "execution_count": null,
   "id": "9a126901",
   "metadata": {},
   "outputs": [],
   "source": []
  }
 ],
 "metadata": {
  "kernelspec": {
   "display_name": "Python 3 (ipykernel)",
   "language": "python",
   "name": "python3"
  },
  "language_info": {
   "codemirror_mode": {
    "name": "ipython",
    "version": 3
   },
   "file_extension": ".py",
   "mimetype": "text/x-python",
   "name": "python",
   "nbconvert_exporter": "python",
   "pygments_lexer": "ipython3",
   "version": "3.8.13"
  },
  "widgets": {
   "application/vnd.jupyter.widget-state+json": {
    "state": {},
    "version_major": 2,
    "version_minor": 0
   }
  }
 },
 "nbformat": 4,
 "nbformat_minor": 5
}
