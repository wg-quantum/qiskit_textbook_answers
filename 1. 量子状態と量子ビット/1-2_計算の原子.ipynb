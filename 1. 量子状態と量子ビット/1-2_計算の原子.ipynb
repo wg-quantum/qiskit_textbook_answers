{
 "cells": [
  {
   "cell_type": "markdown",
   "metadata": {},
   "source": [
    "# 1.2 計算の原子"
   ]
  },
  {
   "cell_type": "markdown",
   "metadata": {},
   "source": [
    "1. 好きな数字を考えて、2進法で書いてみてください。"
   ]
  },
  {
   "cell_type": "markdown",
   "metadata": {},
   "source": [
    "例として、100を2進法で書く。  \n",
    "数字を2進法で書くために2のべき乗の和として表す。テキストブックに記載されている「9213」の例を参考に「100」について考えると以下のように書ける。\n",
    "$$\n",
    "100  = (1 \\times 2^6) + (1 \\times 2^5) + (0 \\times 2^4) + (0 \\times 2^3) + (1 \\times 2^2) + (0 \\times 2^1) + (0 \\times 2^0)\n",
    "$$\n",
    "したがって、「100」を2進法で書くと「1100100」となる。"
   ]
  },
  {
   "cell_type": "markdown",
   "metadata": {},
   "source": [
    "2. n個のビットがあるとしたら、それは何種類の状態になるでしょうか？"
   ]
  },
  {
   "cell_type": "markdown",
   "metadata": {},
   "source": [
    "1つのビットにつき「0」と「1」の2つの状態を持つことができる。  \n",
    "したがって、n個のビットがある場合には、$2^n$の状態を持つことができる。  \n",
    "例）3ビットの場合、「000」、「001」、「010」、「011」、「100」、「101」、「110」、「111」と$2^3=8$種類の状態を持つことができる。"
   ]
  }
 ],
 "metadata": {
  "kernelspec": {
   "display_name": "Python 3.9.6 ('knowledgemall')",
   "language": "python",
   "name": "python3"
  },
  "language_info": {
   "name": "python",
   "version": "3.9.6"
  },
  "orig_nbformat": 4,
  "vscode": {
   "interpreter": {
    "hash": "d05a638398e64313926bda0c006a70ce2b3ef253f8ae895e0079e883a99603f6"
   }
  }
 },
 "nbformat": 4,
 "nbformat_minor": 2
}
