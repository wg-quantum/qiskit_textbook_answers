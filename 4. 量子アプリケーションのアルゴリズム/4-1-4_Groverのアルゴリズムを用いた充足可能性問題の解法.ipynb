{
 "cells": [
  {
   "cell_type": "markdown",
   "id": "6fb6e18f",
   "metadata": {},
   "source": [
    "$$\\newcommand{\\ket}[1]{\\left|{#1}\\right\\rangle}$$\n",
    "$$\\newcommand{\\bra}[1]{\\left\\langle{#1}\\right|}$$"
   ]
  },
  {
   "cell_type": "markdown",
   "id": "3f73bb65",
   "metadata": {},
   "source": [
    "## 4. 練習問題: "
   ]
  },
  {
   "cell_type": "markdown",
   "id": "bb2cd210",
   "metadata": {},
   "source": [
    "### 1.\n",
    "Qiskit Aquaを使用して、次の3-SAT問題を解いてください：\n",
    "$f(x_1,x_2,x_3)=(x_1∨x_2∨¬x_3)∧(¬x_1∨¬x_2∨¬x_3)∧(¬x_1∨x_2∨x_3)$ 。\n",
    "結果は期待したものでしたか？\n",
    "***"
   ]
  },
  {
   "cell_type": "markdown",
   "id": "03f4e0d6",
   "metadata": {},
   "source": [
    "まず\"正直に\" 真理値表を書き出し、解を確認しておく。"
   ]
  },
  {
   "cell_type": "markdown",
   "id": "e6f43722",
   "metadata": {},
   "source": [
    "|$x_1$|$x_2$|$x_3$|$f$|コメント|\n",
    "|:-|:-|:-|:-|:-|\n",
    "|0|0|0|1|解|\n",
    "|0|0|1|0|$f$がFalseなので解ではない|\n",
    "|0|1|0|1|解|\n",
    "|0|1|1|1|解|\n",
    "|1|0|0|0|$f$がFalseなので解ではない|\n",
    "|1|0|1|1|解|\n",
    "|1|1|0|1|解|\n",
    "|1|1|1|0|$f$がFalseなので解ではない|"
   ]
  },
  {
   "cell_type": "markdown",
   "id": "a79bbdcb",
   "metadata": {},
   "source": [
    "この3-SAT問題は、5つの充足解を持つことが分かる。"
   ]
  },
  {
   "cell_type": "markdown",
   "id": "74e2297f",
   "metadata": {},
   "source": [
    "以下、Groverのアルゴリズムを実行し解を探索する。  \n",
    "  \n",
    "※ただしQiskit Aquaは現在使用が非推奨となっており、Qiskit Algorithm等への移行が行われている。本回答では以下のドキュメントを参考に、移行後のモジュールで実装を行う。  \n",
    "【移行ガイド】  \n",
    "https://qiskit.org/documentation/stable/0.28/aqua_tutorials/Qiskit%20Algorithms%20Migration%20Guide.html  \n",
    "【Qiskit Tutorials】  \n",
    "https://qiskit.org/documentation/stable/0.35/tutorials/algorithms/07_grover_examples.html"
   ]
  },
  {
   "cell_type": "code",
   "execution_count": 1,
   "id": "5cc7c833",
   "metadata": {},
   "outputs": [],
   "source": [
    "#必要なモジュールをimportする\n",
    "import numpy as np\n",
    "import numpy as np\n",
    "from qiskit import Aer\n",
    "from qiskit.utils import QuantumInstance\n",
    "from qiskit.tools.visualization import plot_histogram\n",
    "from qiskit.algorithms import Grover, AmplificationProblem\n",
    "from qiskit.circuit.library.phase_oracle import PhaseOracle"
   ]
  },
  {
   "cell_type": "code",
   "execution_count": 2,
   "id": "2d19ed12",
   "metadata": {},
   "outputs": [
    {
     "data": {
      "image/png": "[encoded data removed]",
      "text/plain": [
       "<Figure size 504x360 with 1 Axes>"
      ]
     },
     "metadata": {},
     "output_type": "display_data"
    }
   ],
   "source": [
    "#ここでは、3-SAT問題をブール論理表現の文字列で入力する。(DIMACS-CNF形式のファイルを与えることも可能)\n",
    "input_3sat = '(x1 | x2 | ~x3) & (~x1 | ~x2 | ~x3) & (~x1 | x2 | x3)'\n",
    "\n",
    "#Groverインスタンスを生成し、結果を得る。\n",
    "oracle = PhaseOracle(input_3sat)\n",
    "problem = AmplificationProblem(oracle, is_good_state=oracle.evaluate_bitstring)\n",
    "grover = Grover(quantum_instance=QuantumInstance(Aer.get_backend('aer_simulator'), shots=1024))\n",
    "result = grover.amplify(problem)\n",
    "display(plot_histogram(result.circuit_results[-1]))"
   ]
  },
  {
   "cell_type": "markdown",
   "id": "37199e8c",
   "metadata": {},
   "source": [
    "期待する5つの充足解が得られた。 \n",
    "  \n",
    "resultの中身を見てみると、4度目の試行で2回のGroverイテレーションに到達し、期待する結果 (good_state) が得られていることが分かる："
   ]
  },
  {
   "cell_type": "code",
   "execution_count": 3,
   "id": "58d9ba28",
   "metadata": {},
   "outputs": [
    {
     "name": "stdout",
     "output_type": "stream",
     "text": [
      "{   'assignment': '110',\n",
      "    'circuit_results': [   {   '000': 41,\n",
      "                               '001': 280,\n",
      "                               '010': 34,\n",
      "                               '011': 34,\n",
      "                               '100': 300,\n",
      "                               '101': 37,\n",
      "                               '110': 17,\n",
      "                               '111': 281},\n",
      "                           {   '000': 35,\n",
      "                               '001': 298,\n",
      "                               '010': 33,\n",
      "                               '011': 43,\n",
      "                               '100': 286,\n",
      "                               '101': 32,\n",
      "                               '110': 33,\n",
      "                               '111': 264},\n",
      "                           {   '000': 34,\n",
      "                               '001': 316,\n",
      "                               '010': 34,\n",
      "                               '011': 25,\n",
      "                               '100': 268,\n",
      "                               '101': 29,\n",
      "                               '110': 30,\n",
      "                               '111': 288},\n",
      "                           {   '000': 208,\n",
      "                               '001': 6,\n",
      "                               '010': 195,\n",
      "                               '011': 214,\n",
      "                               '100': 5,\n",
      "                               '101': 176,\n",
      "                               '110': 217,\n",
      "                               '111': 3}],\n",
      "    'iterations': [1, 1, 1, 2],\n",
      "    'max_probability': 0.2119140625,\n",
      "    'oracle_evaluation': True,\n",
      "    'top_measurement': '110'}\n"
     ]
    }
   ],
   "source": [
    "print(result)"
   ]
  }
 ],
 "metadata": {
  "kernelspec": {
   "display_name": "Python 3 (ipykernel)",
   "language": "python",
   "name": "python3"
  },
  "language_info": {
   "codemirror_mode": {
    "name": "ipython",
    "version": 3
   },
   "file_extension": ".py",
   "mimetype": "text/x-python",
   "name": "python",
   "nbconvert_exporter": "python",
   "pygments_lexer": "ipython3",
   "version": "3.10.0"
  }
 },
 "nbformat": 4,
 "nbformat_minor": 5
}
