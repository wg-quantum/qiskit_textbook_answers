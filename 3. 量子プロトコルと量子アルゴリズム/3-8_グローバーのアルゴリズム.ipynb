{
 "cells": [
  {
   "cell_type": "markdown",
   "id": "6fb6e18f",
   "metadata": {},
   "source": [
    "$$\\newcommand{\\ket}[1]{\\left|{#1}\\right\\rangle}$$\n",
    "$$\\newcommand{\\bra}[1]{\\left\\langle{#1}\\right|}$$"
   ]
  },
  {
   "cell_type": "code",
   "execution_count": 1,
   "id": "909e3672",
   "metadata": {},
   "outputs": [],
   "source": [
    "# 初期化\n",
    "import matplotlib.pyplot as plt\n",
    "import numpy as np\n",
    "\n",
    "# Qiskitをインポート\n",
    "from qiskit import IBMQ, Aer, assemble, transpile\n",
    "from qiskit import QuantumCircuit, ClassicalRegister, QuantumRegister\n",
    "from qiskit.providers.ibmq import least_busy\n",
    "\n",
    "# 基本的な描画ツールをインポート\n",
    "from qiskit.visualization import plot_histogram\n",
    "\n",
    "#本テキストで提供されている grover_problem_oracle をインポート\n",
    "from qiskit_textbook.problems import grover_problem_oracle"
   ]
  },
  {
   "cell_type": "markdown",
   "id": "3f73bb65",
   "metadata": {},
   "source": [
    "## 4. 練習問題: "
   ]
  },
  {
   "cell_type": "markdown",
   "id": "bb2cd210",
   "metadata": {},
   "source": [
    "### 1.\n",
    "grover_problem_oracle(4, variant=2) は4量子ビットを使用していて、1つの解を持ちます。\n",
    "\n",
    "  a. この解を測定する確率が90％を超えるには、何回の反復が必要ですか？\n",
    "\n",
    "  b. グローバーのアルゴリズムを使用して、この解となる状態を見つけてください。\n",
    "\n",
    "  c. 上記の問題1aで計算した反復数をさらに増やすとどうなりますか？それはなぜでしょうか？\n",
    "***"
   ]
  },
  {
   "cell_type": "markdown",
   "id": "0007b370",
   "metadata": {},
   "source": [
    "### 1 - a. \n",
    "　本章テキストの前半 (https://ibm.box.com/s/haur9aijeltnt7r05mf9atqqirguweob) で見たように、初期状態 $\\ket{s}$ に対して oracle + diffuser の操作のセット ($U_s U_{\\omega}$) を $t$ 回繰り返すと、操作後の状態は\n",
    " \n",
    " \\begin{equation}\n",
    " (U_s U_{\\omega})^t \\ket{s} = \\sin{\\theta_t}\\ket{\\omega} + \\cos{\\theta_t}\\ket{s'} \\quad\\quad \\left(\\theta_t = (2t + 1)\\theta \\quad \\rm{and} \\quad \\theta =\\arcsin{\\frac{1}{\\sqrt{\\mathit{N}}}}\\right)\n",
    " \\end{equation}\n",
    " \n",
    " と表せる。解を測定する確率が90%を超えるには、$\\sin^2{\\theta_t} > 0.9$ となる $t$ を求めればよい。今は4量子ビット系であるから、$N=2^4$ のもとでこれを解く。"
   ]
  },
  {
   "cell_type": "code",
   "execution_count": 2,
   "id": "4b6e0641",
   "metadata": {},
   "outputs": [
    {
     "name": "stdout",
     "output_type": "stream",
     "text": [
      "probability\n",
      "t = 1 : 0.47265625\n",
      "t = 2 : 0.908447265625\n",
      "t = 3 : 0.9613189697265625\n",
      "t = 4 : 0.5817041397094724\n"
     ]
    }
   ],
   "source": [
    "N = 2**4\n",
    "theta = np.arcsin(1/np.sqrt(N))\n",
    "\n",
    "def probability(t):\n",
    "     p = (np.sin((2*t+1)*theta))**2\n",
    "     return p\n",
    "\n",
    "print('probability')\n",
    "for i in range(1,5):\n",
    "    print(f't = {i} : {probability(i)}')"
   ]
  },
  {
   "cell_type": "markdown",
   "id": "99da5bae",
   "metadata": {},
   "source": [
    "よって、最低2回、最善では3回の反復が必要である。"
   ]
  },
  {
   "cell_type": "markdown",
   "id": "636e6a44",
   "metadata": {},
   "source": [
    "***\n",
    "### ※補足\n",
    "　初期状態 $\\ket{s}$ は、 解のみから成る状態 $\\ket{\\omega}$ と解を含まない状態 $\\ket{s'}$\n",
    " \n",
    " \\begin{equation}\n",
    " \\ket{\\omega} = \\frac{1}{\\sqrt{N}}\\sum_{x \\in 解}\\ket{x}, \\quad \\ket{s'} = \\frac{1}{\\sqrt{N-M}}\\sum_{x\\in解以外}\\ket{x}\n",
    " \\end{equation}\n",
    " \n",
    " を用いて\n",
    " \n",
    " \\begin{equation}\n",
    " \\ket{s}=\\frac{1}{\\sqrt{N}}\\left(\\sqrt{M}\\ket{\\omega}+\\sqrt{N-M}\\ket{s'}\\right)  := \\sin{\\theta}\\ket{\\omega} + \\cos{\\theta}\\ket{s'}\n",
    " \\end{equation}\n",
    " \n",
    " と書ける。テキストや本問は $M=1$ の場合である。\n",
    " \n",
    " 　これに対して oracle + diffuser のセット ($U_s U_{\\omega}$) を $t$ 回繰り返すと、操作後の状態として\n",
    " \n",
    " \\begin{equation}\n",
    " (U_s U_{\\omega})^t \\ket{s} = \\sin{\\theta_t}\\ket{\\omega} + \\cos{\\theta_t}\\ket{s'} \\quad\\quad \\left(\\theta_t = (2t + 1)\\theta \\quad \\rm{and} \\quad \\theta =\\arcsin{\\sqrt{\\mathit{\\frac{M}{N}}}}\\right)\n",
    " \\end{equation}\n",
    " \n",
    " が得られる。\n",
    " \n",
    " 　最適な反復回数は、これが $\\ket{\\omega}$に最も近づくとき、つまり $\\theta_t$ が $\\pi/2$ に最も近くなるときの $t$ であり、\n",
    "  \n",
    " \\begin{equation}\n",
    " \\frac{\\pi}{4\\theta}-\\frac{1}{2}\n",
    " \\end{equation}\n",
    " \n",
    " に最も近い整数 $t^*$ であると見積もられる。この整数 $t^*$ の上限は、\n",
    " \n",
    " \\begin{equation}\n",
    " \\theta \\ge \\sin{\\theta}=\\sqrt{\\frac{M}{N}}\n",
    " \\end{equation}\n",
    " \n",
    " を用いて\n",
    " \n",
    " \\begin{equation}\n",
    " t^* \\le \\left(\\frac{\\pi}{4\\theta}-\\frac{1}{2}\\right)+1 = \\frac{\\pi}{4\\theta}+\\frac{1}{2} \\le \\frac{\\pi}{4}\\sqrt{\\frac{M}{N}}+\\frac{1}{2} \n",
    " \\end{equation}\n",
    " \n",
    "と評価できる。このことから、グローバーのアルゴリズムの計算量は $O(\\sqrt{M/N})$ であり、古典アルゴリズムの $O(M/N)$ に対して2次の加速を実現していることが分かる。\n",
    "***"
   ]
  },
  {
   "cell_type": "markdown",
   "id": "915e3204",
   "metadata": {},
   "source": [
    "### 1 - b. \n",
    "　テキストの例と同様にグローバーのアルゴリズムを実行する。（利用できる関数はそのまま利用する。）"
   ]
  },
  {
   "cell_type": "code",
   "execution_count": 3,
   "id": "d99fcc98",
   "metadata": {},
   "outputs": [],
   "source": [
    "def initialize_s(qc, qubits):\n",
    "    for q in qubits:\n",
    "        qc.h(q) #すべてのqubitをH-gateで初期化する\n",
    "    return qc\n",
    "\n",
    "def diffuser(nqubits):\n",
    "    qc = QuantumCircuit(nqubits)\n",
    "    # Hゲートで |s> -> |00..0> に変換\n",
    "    for qubit in range(nqubits):\n",
    "        qc.h(qubit)\n",
    "    # Xゲートで |00..0> -> |11..1> に変換\n",
    "    for qubit in range(nqubits):\n",
    "        qc.x(qubit)\n",
    "    # マルチ制御Zゲートをかけます\n",
    "    qc.h(nqubits-1)\n",
    "    qc.mct(list(range(nqubits-1)), nqubits-1)  # マルチ制御トフォリ\n",
    "    qc.h(nqubits-1)\n",
    "    # |11..1> -> |00..0> に変換\n",
    "    for qubit in range(nqubits):\n",
    "        qc.x(qubit)\n",
    "    # |00..0> -> |s> に変換\n",
    "    for qubit in range(nqubits):\n",
    "        qc.h(qubit)\n",
    "    # Diffuserをゲートにします\n",
    "    U_s = qc.to_gate()\n",
    "    U_s.name = \"U$_s$\"\n",
    "    return U_s"
   ]
  },
  {
   "cell_type": "code",
   "execution_count": 4,
   "id": "4fa6046f",
   "metadata": {},
   "outputs": [
    {
     "data": {
      "image/png": "[encoded data removed]",
      "text/plain": [
       "<Figure size 1381.08x325.08 with 1 Axes>"
      ]
     },
     "execution_count": 4,
     "metadata": {},
     "output_type": "execute_result"
    }
   ],
   "source": [
    "#初期状態を用意\n",
    "n = 4\n",
    "oracle = grover_problem_oracle(n, variant=2)\n",
    "grover_circuit = QuantumCircuit(n)\n",
    "grover_circuit = initialize_s(grover_circuit, [0,1,2,3])\n",
    "\n",
    "#最善の反復回数として、oracle + diffuser のセットを3回作用させる\n",
    "for i in range(3):\n",
    "    grover_circuit.append(oracle, [0,1,2,3])\n",
    "    grover_circuit.append(diffuser(n), [0,1,2,3])\n",
    "\n",
    "grover_circuit.measure_all()\n",
    "grover_circuit.draw('mpl')"
   ]
  },
  {
   "cell_type": "code",
   "execution_count": 5,
   "id": "aeb02462",
   "metadata": {},
   "outputs": [
    {
     "data": {
      "image/png": "[encoded data removed]",
      "text/plain": [
       "<Figure size 504x360 with 1 Axes>"
      ]
     },
     "execution_count": 5,
     "metadata": {},
     "output_type": "execute_result"
    }
   ],
   "source": [
    "aer_sim = Aer.get_backend('aer_simulator')\n",
    "transpiled_grover_circuit = transpile(grover_circuit, aer_sim)\n",
    "qobj = assemble(transpiled_grover_circuit)\n",
    "results = aer_sim.run(qobj).result()\n",
    "counts = results.get_counts()\n",
    "plot_histogram(counts)"
   ]
  },
  {
   "cell_type": "markdown",
   "id": "da1f7a0f",
   "metadata": {},
   "source": [
    "状態 $\\ket{0011}$ が求めるべき1つの解であると推定できる。実際、grover_problem_oracle には n=4, variant=2 のとき以下のように解が設定されている："
   ]
  },
  {
   "cell_type": "code",
   "execution_count": 6,
   "id": "f7a3b68c",
   "metadata": {},
   "outputs": [
    {
     "name": "stdout",
     "output_type": "stream",
     "text": [
      "Solutions:\n",
      "|0011>\n"
     ]
    },
    {
     "data": {
      "text/plain": [
       "<qiskit.circuit.library.generalized_gates.diagonal.Diagonal at 0x2b1e9c4dde0>"
      ]
     },
     "execution_count": 6,
     "metadata": {},
     "output_type": "execute_result"
    }
   ],
   "source": [
    "grover_problem_oracle(4, variant=2, print_solutions=True)"
   ]
  },
  {
   "cell_type": "markdown",
   "id": "e874a3a4",
   "metadata": {},
   "source": [
    "***\n",
    "### 1 - c.\n",
    "\n",
    "　問題1-aで見たように、解の観測確率は反復回数を $t$ として $\\sin^2{(2t+1)\\theta}$ に従う。問題1-aで $t=3$ が最善であると分かったので、4回以上反復すると確率はかえって減少し始める。ただし $\\sin^2{(2t+1)\\theta}$ は周期関数であるので、長期的にはその後も増加/減少を繰り返すことになる。（しかし現実にはゲートの持つエラーがあるので、反復回数は十分な観測確率が得られるならできるだけ少ない方がよいだろう）"
   ]
  },
  {
   "cell_type": "markdown",
   "id": "15045186",
   "metadata": {},
   "source": [
    "========================================================================================================================"
   ]
  },
  {
   "cell_type": "markdown",
   "id": "d943537e",
   "metadata": {},
   "source": [
    "### 2.\n",
    "\n",
    "2つの解と4つの量子ビットの場合、解を測定する確率が90％を超えるには、何回の反復が必要ですか。 grover_problem_oracle(4, variant=1)を使用して回答をテストしてください（2つの解があります）。\n",
    "***"
   ]
  },
  {
   "cell_type": "markdown",
   "id": "cde91bf9",
   "metadata": {},
   "source": [
    "grover_problem_oracle(4, variant=1) は以下の2つの解を持つ："
   ]
  },
  {
   "cell_type": "code",
   "execution_count": 7,
   "id": "e4cbc828",
   "metadata": {},
   "outputs": [
    {
     "name": "stdout",
     "output_type": "stream",
     "text": [
      "Solutions:\n",
      "|0111>\n",
      "|1001>\n"
     ]
    },
    {
     "data": {
      "text/plain": [
       "<qiskit.circuit.library.generalized_gates.diagonal.Diagonal at 0x2b1e97ffac0>"
      ]
     },
     "execution_count": 7,
     "metadata": {},
     "output_type": "execute_result"
    }
   ],
   "source": [
    "grover_problem_oracle(4, variant=1, print_solutions=True)"
   ]
  },
  {
   "cell_type": "markdown",
   "id": "50eec970",
   "metadata": {},
   "source": [
    "4量子ビット系（$N=2^4$）で2つの解を持つ（$M=2$）とき、最適な反復回数 $t^*$は"
   ]
  },
  {
   "cell_type": "code",
   "execution_count": 8,
   "id": "2c148569",
   "metadata": {},
   "outputs": [
    {
     "name": "stdout",
     "output_type": "stream",
     "text": [
      "1.6734079041462837\n"
     ]
    }
   ],
   "source": [
    "N = 2**4\n",
    "M = 2\n",
    "theta = np.arcsin(np.sqrt(M/N))\n",
    "\n",
    "t = np.pi/(4*theta) - 1/2\n",
    "print(t)"
   ]
  },
  {
   "cell_type": "markdown",
   "id": "619fba9f",
   "metadata": {},
   "source": [
    "より2回と見積もられ（問題1-a 補足 参照）、実際、観測確率も以下のように $t=2$ で90%を超える。"
   ]
  },
  {
   "cell_type": "code",
   "execution_count": 9,
   "id": "ca73605d",
   "metadata": {},
   "outputs": [
    {
     "name": "stdout",
     "output_type": "stream",
     "text": [
      "probability\n",
      "t = 1 : 0.7812500000000001\n",
      "t = 2 : 0.9453124999999999\n",
      "t = 3 : 0.330078125\n",
      "t = 4 : 0.01220703125000009\n"
     ]
    }
   ],
   "source": [
    "print('probability')\n",
    "for i in range(1,5):\n",
    "    print(f't = {i} : {probability(i)}')"
   ]
  },
  {
   "cell_type": "markdown",
   "id": "60bb46bd",
   "metadata": {},
   "source": [
    "問題1-bと同様に、grover_problem_oracle(4, variant=1)を用いてグローバーのアルゴリズムを実行する。"
   ]
  },
  {
   "cell_type": "code",
   "execution_count": 10,
   "id": "c4744c38",
   "metadata": {},
   "outputs": [
    {
     "data": {
      "image/png": "[encoded data removed]",
      "text/plain": [
       "<Figure size 1080.08x325.08 with 1 Axes>"
      ]
     },
     "execution_count": 10,
     "metadata": {},
     "output_type": "execute_result"
    }
   ],
   "source": [
    "#初期状態を用意\n",
    "n = 4\n",
    "oracle = grover_problem_oracle(n, variant=1)\n",
    "grover_circuit = QuantumCircuit(n)\n",
    "grover_circuit = initialize_s(grover_circuit, [0,1,2,3])\n",
    "\n",
    "#最善の反復回数として、oracle + diffuser のセットを2回作用させる\n",
    "for i in range(2):\n",
    "    grover_circuit.append(oracle, [0,1,2,3])\n",
    "    grover_circuit.append(diffuser(n), [0,1,2,3])\n",
    "\n",
    "grover_circuit.measure_all()\n",
    "grover_circuit.draw('mpl')"
   ]
  },
  {
   "cell_type": "code",
   "execution_count": 11,
   "id": "68b2ade7",
   "metadata": {},
   "outputs": [
    {
     "data": {
      "image/png": "[encoded data removed]",
      "text/plain": [
       "<Figure size 504x360 with 1 Axes>"
      ]
     },
     "execution_count": 11,
     "metadata": {},
     "output_type": "execute_result"
    }
   ],
   "source": [
    "aer_sim = Aer.get_backend('aer_simulator')\n",
    "transpiled_grover_circuit = transpile(grover_circuit, aer_sim)\n",
    "qobj = assemble(transpiled_grover_circuit)\n",
    "results = aer_sim.run(qobj).result()\n",
    "counts = results.get_counts()\n",
    "plot_histogram(counts)"
   ]
  },
  {
   "cell_type": "markdown",
   "id": "811f5f09",
   "metadata": {},
   "source": [
    "たしかにgrover_problem_oracle(4, variant=1)に設定されている2解のみが高い確率で得られる。"
   ]
  },
  {
   "cell_type": "markdown",
   "id": "dc7a0846",
   "metadata": {},
   "source": [
    "========================================================================================================================"
   ]
  },
  {
   "cell_type": "markdown",
   "id": "22f2beb1",
   "metadata": {},
   "source": [
    "### 3.\n",
    "\n",
    "以下を入力とする関数grover_solver(oracle, iterations) を作成してください：\n",
    "\n",
    "　　ゲートとしてのグローバーオラクル(oracle)  \n",
    "　　反復の数（整数）(iterations)\n",
    "\n",
    "その際、'iterations'の反復を使用して、'oracle' ゲートでグローバーのアルゴリズムを実行する QuantumCircuit を返すようにしてください。\n",
    "***"
   ]
  },
  {
   "cell_type": "code",
   "execution_count": 12,
   "id": "7fb387d8",
   "metadata": {},
   "outputs": [],
   "source": [
    "def grover_solver(oracle, iterations):\n",
    "    \n",
    "    def initialize_s(qc, qubits):\n",
    "        for q in qubits:\n",
    "            qc.h(q)\n",
    "        return qc\n",
    "\n",
    "    def diffuser(nqubits):\n",
    "        qc = QuantumCircuit(nqubits)\n",
    "        for qubit in range(nqubits):\n",
    "            qc.h(qubit)\n",
    "        for qubit in range(nqubits):\n",
    "            qc.x(qubit)\n",
    "        qc.h(nqubits-1)\n",
    "        qc.mct(list(range(nqubits-1)), nqubits-1)\n",
    "        qc.h(nqubits-1)\n",
    "        for qubit in range(nqubits):\n",
    "            qc.x(qubit)\n",
    "        for qubit in range(nqubits):\n",
    "            qc.h(qubit)\n",
    "        U_s = qc.to_gate()\n",
    "        U_s.name = \"U$_s$\"\n",
    "        return U_s\n",
    "    \n",
    "    #初期状態を用意\n",
    "    n = oracle.num_qubits #oracle が Gate class で入力されることを想定\n",
    "    grover_circuit = QuantumCircuit(n)\n",
    "    grover_circuit = initialize_s(grover_circuit, [q for q in range(n)])\n",
    "\n",
    "    #oracle + diffuser のセットを iterations 回作用させる\n",
    "    for i in range(iterations):\n",
    "        grover_circuit.append(oracle, [q for q in range(n)])\n",
    "        grover_circuit.append(diffuser(n), [q for q in range(n)])\n",
    "\n",
    "    grover_circuit.measure_all()\n",
    "    \n",
    "    return grover_circuit"
   ]
  },
  {
   "cell_type": "markdown",
   "id": "49b53837",
   "metadata": {},
   "source": [
    "例として、問題1-bで扱った  \n",
    "　　oracle = grover_problem_oracle(4, variant=2)  \n",
    "　　iterations = 3  \n",
    "とした回路を描いてみる。"
   ]
  },
  {
   "cell_type": "code",
   "execution_count": 13,
   "id": "8b140dda",
   "metadata": {},
   "outputs": [
    {
     "data": {
      "image/png": "[encoded data removed]",
      "text/plain": [
       "<Figure size 1381.08x325.08 with 1 Axes>"
      ]
     },
     "execution_count": 13,
     "metadata": {},
     "output_type": "execute_result"
    }
   ],
   "source": [
    "grover_solver(grover_problem_oracle(4, variant=2), 3).draw('mpl')"
   ]
  }
 ],
 "metadata": {
  "kernelspec": {
   "display_name": "Python 3 (ipykernel)",
   "language": "python",
   "name": "python3"
  },
  "language_info": {
   "codemirror_mode": {
    "name": "ipython",
    "version": 3
   },
   "file_extension": ".py",
   "mimetype": "text/x-python",
   "name": "python",
   "nbconvert_exporter": "python",
   "pygments_lexer": "ipython3",
   "version": "3.10.0"
  }
 },
 "nbformat": 4,
 "nbformat_minor": 5
}
