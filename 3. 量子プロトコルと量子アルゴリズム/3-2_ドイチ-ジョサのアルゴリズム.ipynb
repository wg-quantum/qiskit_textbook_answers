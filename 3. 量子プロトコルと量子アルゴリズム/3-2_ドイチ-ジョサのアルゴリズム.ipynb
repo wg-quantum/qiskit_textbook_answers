{
 "cells": [
  {
   "cell_type": "code",
   "execution_count": 3,
   "metadata": {},
   "outputs": [],
   "source": [
    "import numpy as np\n",
    "from qiskit import IBMQ, Aer\n",
    "from qiskit import QuantumCircuit, assemble, transpile, execute\n",
    "from qiskit.visualization import plot_histogram"
   ]
  },
  {
   "cell_type": "markdown",
   "metadata": {},
   "source": [
    "1. 異なる形の分布型、定値型のオラクルを作成できますか？"
   ]
  },
  {
   "cell_type": "markdown",
   "metadata": {},
   "source": [
    "定値型として1を返すオラクルを作成する。"
   ]
  },
  {
   "cell_type": "code",
   "execution_count": 4,
   "metadata": {},
   "outputs": [
    {
     "data": {
      "image/png": "[encoded data removed]",
      "text/plain": [
       "<Figure size 146.797x264.88 with 1 Axes>"
      ]
     },
     "execution_count": 4,
     "metadata": {},
     "output_type": "execute_result"
    }
   ],
   "source": [
    "# 入力ビット数\n",
    "n = 3\n",
    "\n",
    "# 定値型オラクルの作成\n",
    "const_oracle = QuantumCircuit(n+1)\n",
    "const_oracle.x(n)\n",
    "\n",
    "const_oracle.draw('mpl')"
   ]
  },
  {
   "cell_type": "markdown",
   "metadata": {},
   "source": [
    "分布型のオラクルを作成する。"
   ]
  },
  {
   "cell_type": "code",
   "execution_count": 5,
   "metadata": {},
   "outputs": [
    {
     "data": {
      "image/png": "[encoded data removed]",
      "text/plain": [
       "<Figure size 146.797x264.88 with 1 Axes>"
      ]
     },
     "execution_count": 5,
     "metadata": {},
     "output_type": "execute_result"
    }
   ],
   "source": [
    "# 入力ビット数\n",
    "n = 3\n",
    "\n",
    "# 分布型オラクルの作成\n",
    "balanced_oracle = QuantumCircuit(n+1)\n",
    "balanced_oracle.cx(0, n)\n",
    "\n",
    "balanced_oracle.draw('mpl')"
   ]
  },
  {
   "cell_type": "markdown",
   "metadata": {},
   "source": [
    "実際に分布型であることを確認する。"
   ]
  },
  {
   "cell_type": "code",
   "execution_count": 10,
   "metadata": {},
   "outputs": [
    {
     "data": {
      "text/plain": [
       "['f(x:入力)=出力',\n",
       " 'f(0) = 0',\n",
       " 'f(1) = 0',\n",
       " 'f(2) = 0',\n",
       " 'f(3) = 0',\n",
       " 'f(4) = 1',\n",
       " 'f(5) = 1',\n",
       " 'f(6) = 1',\n",
       " 'f(7) = 1']"
      ]
     },
     "execution_count": 10,
     "metadata": {},
     "output_type": "execute_result"
    }
   ],
   "source": [
    "qc = QuantumCircuit(n+1)\n",
    "# 結果確認用の変数を用意\n",
    "results = [\"f(x:入力)=出力\"]\n",
    "for i in range(2**3):\n",
    "    qc = QuantumCircuit(5,1)\n",
    "    # 10進数を3桁の2進数に変換し、'1'のときにxゲートを作用\n",
    "    for j in range(3):\n",
    "        if format(i, '03b')[j] == '1':\n",
    "            qc.x(j)\n",
    "    qc.append(balanced_oracle, range(4))\n",
    "    # q_3ビットの測定結果をq_0に格納（q_3の結果をq_0に格納し、q_0を測定する）\n",
    "    qc.measure(3,0)\n",
    "    # 回路確認用コマンド\n",
    "    # display(qc.draw('mpl'))\n",
    "    # Qiskitのシミュレーション方法を指定\n",
    "    backend = Aer.get_backend('statevector_simulator')\n",
    "    # シミュレーション実行\n",
    "    result = execute(qc,backend).result()\n",
    "    counts = result.get_counts()\n",
    "    # 結果を格納\n",
    "    results.append(f'f({i}) = {list(counts.keys())[0]}')\n",
    "results"
   ]
  },
  {
   "cell_type": "code",
   "execution_count": 17,
   "metadata": {},
   "outputs": [],
   "source": [
    "from qiskit_textbook.problems import dj_problem_oracle\n",
    "oracle = dj_problem_oracle(1)\n",
    "# oracle = dj_problem_oracle(2)\n",
    "# oracle = dj_problem_oracle(3)\n",
    "# oracle = dj_problem_oracle(4)\n",
    "# oracle = dj_problem_oracle(5)"
   ]
  },
  {
   "cell_type": "markdown",
   "metadata": {},
   "source": [
    "2. 上記の関数`dj_problem_oracle`は、`n = 4`のドイチ-ジョサオラクルをゲートの形式で返します。ゲートの入力は5量子ビットで、最後の量子ビット（`q_4`）が出力量子ビットです。 `dj_problem_oracle` に1〜5の異なる整数を指定することで、異なるオラクルを取得できます。ドイチ-ジョサのアルゴリズムを使用して、各オラクルが分布型か定値型かを判断してください（**注**：実デバイスではなく、`qasm_simulator`を使用して試すことを強くお勧めします） 。"
   ]
  },
  {
   "cell_type": "markdown",
   "metadata": {},
   "source": [
    "例として１の場合（dj_problem_oracle(1)）を記載します。"
   ]
  },
  {
   "cell_type": "code",
   "execution_count": 18,
   "metadata": {},
   "outputs": [],
   "source": [
    "# テキストのアルゴリズムを定義\n",
    "def dj_algorithm(oracle, n):\n",
    "    dj_circuit = QuantumCircuit(n+1, n)\n",
    "    # 出力ビットの設定\n",
    "    dj_circuit.x(n)\n",
    "    dj_circuit.h(n)\n",
    "    # 入力ビットの設定\n",
    "    for qubit in range(n):\n",
    "        dj_circuit.h(qubit)\n",
    "    # オラクルゲートを追加\n",
    "    dj_circuit.append(oracle, range(n+1))\n",
    "    # Hゲートを適用\n",
    "    for qubit in range(n):\n",
    "        dj_circuit.h(qubit)\n",
    "    # 測定\n",
    "    for i in range(n):\n",
    "        dj_circuit.measure(i, i)\n",
    "    \n",
    "    return dj_circuit"
   ]
  },
  {
   "cell_type": "code",
   "execution_count": 19,
   "metadata": {},
   "outputs": [
    {
     "data": {
      "image/png": "[encoded data removed]",
      "text/plain": [
       "<Figure size 504x360 with 1 Axes>"
      ]
     },
     "execution_count": 19,
     "metadata": {},
     "output_type": "execute_result"
    }
   ],
   "source": [
    "# 入力量子ビット数\n",
    "n = 4\n",
    "# 回路に上で定義したアルゴリズムを追加\n",
    "dj_circuit = dj_algorithm(oracle, n)\n",
    "# Qiskitのシミュレーション方法を指定\n",
    "aer_sim = Aer.get_backend('aer_simulator')\n",
    "# シミュレーション実行\n",
    "transpiled_dj_circuit = transpile(dj_circuit, aer_sim)\n",
    "qobj = assemble(transpiled_dj_circuit)\n",
    "results = aer_sim.run(qobj).result()\n",
    "# 結果を格納\n",
    "answer = results.get_counts()\n",
    "plot_histogram(answer)"
   ]
  },
  {
   "cell_type": "markdown",
   "metadata": {},
   "source": [
    "シミュレーション結果より、$\\vert 0 \\rangle ^{\\otimes n}$の確率が「0」であることが分かるため、分布型である。  \n",
    "実際に分布型であることを確かめる。"
   ]
  },
  {
   "cell_type": "code",
   "execution_count": 20,
   "metadata": {},
   "outputs": [
    {
     "data": {
      "text/plain": [
       "['f(x:入力)=出力',\n",
       " 'f(0) = 0',\n",
       " 'f(1) = 1',\n",
       " 'f(2) = 1',\n",
       " 'f(3) = 0',\n",
       " 'f(4) = 1',\n",
       " 'f(5) = 0',\n",
       " 'f(6) = 0',\n",
       " 'f(7) = 1',\n",
       " 'f(8) = 1',\n",
       " 'f(9) = 0',\n",
       " 'f(10) = 0',\n",
       " 'f(11) = 1',\n",
       " 'f(12) = 0',\n",
       " 'f(13) = 1',\n",
       " 'f(14) = 1',\n",
       " 'f(15) = 0']"
      ]
     },
     "execution_count": 20,
     "metadata": {},
     "output_type": "execute_result"
    }
   ],
   "source": [
    "qc = QuantumCircuit(5,1)\n",
    "results = [\"f(x:入力)=出力\"]\n",
    "for i in range(2**4):\n",
    "    qc = QuantumCircuit(5,1)\n",
    "    for j in range(4):\n",
    "        if format(i, '04b')[j] == '1':\n",
    "            qc.x(j)\n",
    "    qc.append(oracle, range(5))\n",
    "    qc.measure(4,0)\n",
    "    # display(qc.draw('mpl'))\n",
    "    backend = Aer.get_backend('statevector_simulator')\n",
    "    result = execute(qc,backend).result()\n",
    "    counts = result.get_counts()\n",
    "    results.append(f'f({i}) = {list(counts.keys())[0]}')\n",
    "results"
   ]
  }
 ],
 "metadata": {
  "kernelspec": {
   "display_name": "Python 3.9.6 64-bit ('knowledgemall': venv)",
   "language": "python",
   "name": "python3"
  },
  "language_info": {
   "codemirror_mode": {
    "name": "ipython",
    "version": 3
   },
   "file_extension": ".py",
   "mimetype": "text/x-python",
   "name": "python",
   "nbconvert_exporter": "python",
   "pygments_lexer": "ipython3",
   "version": "3.9.6"
  },
  "orig_nbformat": 4,
  "vscode": {
   "interpreter": {
    "hash": "d05a638398e64313926bda0c006a70ce2b3ef253f8ae895e0079e883a99603f6"
   }
  }
 },
 "nbformat": 4,
 "nbformat_minor": 2
}
