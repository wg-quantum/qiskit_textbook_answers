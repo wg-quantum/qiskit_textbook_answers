{
 "cells": [
  {
   "cell_type": "markdown",
   "id": "49a580a1",
   "metadata": {},
   "source": [
    "1.異なった解の数でオラクルを作成することができますか？量子数え上げアルゴリズムの精度はどのように変化しますか?"
   ]
  },
  {
   "cell_type": "code",
   "execution_count": 4,
   "id": "859e5411",
   "metadata": {},
   "outputs": [],
   "source": [
    "import matplotlib.pyplot as plt\n",
    "import numpy as np\n",
    "import math\n",
    "\n",
    "# importing Qiskit\n",
    "import qiskit\n",
    "from qiskit import QuantumCircuit, transpile, assemble, Aer\n",
    "\n",
    "# import basic plot tools\n",
    "from qiskit.visualization import plot_histogram"
   ]
  },
  {
   "cell_type": "code",
   "execution_count": 5,
   "id": "d5b04539",
   "metadata": {},
   "outputs": [],
   "source": [
    "def qft(n):\n",
    "    #n量子ビットのQFT回路を作成\n",
    "    \"\"\"Creates an n-qubit QFT circuit\"\"\"\n",
    "    circuit = QuantumCircuit(4)\n",
    "    def swap_registers(circuit, n):\n",
    "        for qubit in range(n//2):\n",
    "            circuit.swap(qubit, n-qubit-1)\n",
    "        return circuit\n",
    "    def qft_rotations(circuit, n):\n",
    "        #swapゲートなしで回路で最初にn量子ビットのQFTを実装する\n",
    "        \"\"\"Performs qft on the first n qubits in circuit (without swaps)\"\"\"\n",
    "        if n == 0:\n",
    "            return circuit\n",
    "        n -= 1\n",
    "        circuit.h(n)\n",
    "        for qubit in range(n):\n",
    "            circuit.cp(np.pi/2**(n-qubit), qubit, n)\n",
    "        qft_rotations(circuit, n)\n",
    "    \n",
    "    qft_rotations(circuit, n)\n",
    "    swap_registers(circuit, n)\n",
    "    return circuit"
   ]
  },
  {
   "cell_type": "markdown",
   "id": "03c71258",
   "metadata": {},
   "source": [
    "異なる解のオラクルを作成"
   ]
  },
  {
   "cell_type": "code",
   "execution_count": 6,
   "id": "477c9dac",
   "metadata": {},
   "outputs": [],
   "source": [
    "def example_grover_iteration1():\n",
    "    \"\"\"16状態のうち8個の解\"\"\"\n",
    "    # 回路を作る\n",
    "    qc1 = QuantumCircuit(4)\n",
    "\n",
    "    qc1.h(0)\n",
    "    qc1.x(0)\n",
    "    qc1.h(0)\n",
    "    # 拡散\n",
    "    qc1.h(range(3))\n",
    "    qc1.x(range(3))\n",
    "    qc1.z(3)\n",
    "    qc1.mct([0,1,2],3)\n",
    "    qc1.x(range(3))\n",
    "    qc1.h(range(3))\n",
    "    qc1.z(3)\n",
    "    return qc1\n",
    "#回路を表示する\n",
    "#回路組む時の思考を書いてあげる"
   ]
  },
  {
   "cell_type": "code",
   "execution_count": 7,
   "id": "568994eb",
   "metadata": {},
   "outputs": [],
   "source": [
    "def example_grover_iteration2():\n",
    "    \"\"\"16状態のうち2個の解\"\"\"\n",
    "    # 回路を作る\n",
    "    qc2 = QuantumCircuit(4)\n",
    " \n",
    "    qc2.h(2)\n",
    "    qc2.ccx(0,1,2)\n",
    "    qc2.h(2)\n",
    "    # 拡散\n",
    "    qc2.h(range(3))\n",
    "    qc2.x(range(3))\n",
    "    qc2.z(3)\n",
    "    qc2.mct([0,1,2],3)\n",
    "    qc2.x(range(3))\n",
    "    qc2.h(range(3))\n",
    "    qc2.z(3)\n",
    "    return qc2"
   ]
  },
  {
   "cell_type": "code",
   "execution_count": 8,
   "id": "4263bddf",
   "metadata": {},
   "outputs": [],
   "source": [
    "def example_grover_iteration3():\n",
    "    \"\"\"16状態のうち0個の解\"\"\"\n",
    "    # 回路を作る\n",
    "    qc3 = QuantumCircuit(4)\n",
    "\n",
    "    qc3.h(range(3))\n",
    "    qc3.x(range(3))\n",
    "    qc3.z(3)\n",
    "    qc3.mct([0,1,2],3)\n",
    "    qc3.x(range(3))\n",
    "    qc3.h(range(3))\n",
    "    qc3.z(3)\n",
    "    return qc3"
   ]
  },
  {
   "cell_type": "code",
   "execution_count": 9,
   "id": "01e24d8e",
   "metadata": {},
   "outputs": [],
   "source": [
    "def example_grover_iteration4():\n",
    "    \"\"\"16状態のうち16個の解\"\"\"\n",
    "    # 回路を作る\n",
    "    qc4 = QuantumCircuit(4)\n",
    "\n",
    "    qc4.h(0)\n",
    "    qc4.x(0)\n",
    "    qc4.h(0)\n",
    "    qc4.x(0)\n",
    "    qc4.h(0)\n",
    "    qc4.x(0)\n",
    "    qc4.h(0)\n",
    "    # 拡散\n",
    "    qc4.h(range(3))\n",
    "    qc4.x(range(3))\n",
    "    qc4.z(3)\n",
    "    qc4.mct([0,1,2],3)\n",
    "    qc4.x(range(3))\n",
    "    qc4.h(range(3))\n",
    "    qc4.z(3)\n",
    "    return qc4"
   ]
  },
  {
   "cell_type": "code",
   "execution_count": 10,
   "id": "6973dfed",
   "metadata": {},
   "outputs": [],
   "source": [
    "grit1 = example_grover_iteration1().to_gate()\n",
    "example_grover_iteration1().draw()\n",
    "grit1.label = \"Grover\"\n",
    "cgrit1 = grit1.control()\n",
    "\n",
    "grit2 = example_grover_iteration2().to_gate()\n",
    "grit2.label = \"Grover\"\n",
    "cgrit2 = grit2.control()\n",
    "\n",
    "grit3 = example_grover_iteration3().to_gate()\n",
    "grit3.label = \"Grover\"\n",
    "cgrit3 = grit3.control()\n",
    "\n",
    "grit4 = example_grover_iteration4().to_gate()\n",
    "grit4.label = \"Grover\"\n",
    "cgrit4 = grit4.control()"
   ]
  },
  {
   "cell_type": "code",
   "execution_count": 11,
   "id": "f5fb57b7",
   "metadata": {
    "scrolled": true
   },
   "outputs": [],
   "source": [
    "def countAnswer(cgrit):\n",
    "    qft_dagger = qft(4).to_gate().inverse()\n",
    "    qft_dagger.label = \"QFT†\"\n",
    "    # 量子回路の作成\n",
    "    t = 4   # カウントする量子ビットの数\n",
    "    n = 4   # 探索する量子ビットの数\n",
    "    qc = QuantumCircuit(n+t, t) # 古典ビットとn+t量子ビットの回路\n",
    "\n",
    "    # 全ての量子ビットを |+>に初期化する\n",
    "    for qubit in range(t+n):\n",
    "        qc.h(qubit)\n",
    "\n",
    "    # Grover反復を開始\n",
    "    iterations = 1\n",
    "    for qubit in range(t):\n",
    "        for i in range(iterations):\n",
    "            qc.append(cgrit, [qubit] + [*range(t, n+t)])\n",
    "        iterations *= 2\n",
    "    \n",
    "    # 逆量子フーリエ変換\n",
    "    qc.append(qft_dagger, range(t))\n",
    "\n",
    "    # 測定\n",
    "    qc.measure(range(t), range(t))\n",
    "\n",
    "    aer_sim = Aer.get_backend('aer_simulator')\n",
    "    transpiled_qc = transpile(qc, aer_sim)\n",
    "    qobj = assemble(transpiled_qc)\n",
    "    job = aer_sim.run(qobj)\n",
    "    hist = job.result().get_counts()\n",
    "\n",
    "    measured_str = max(hist, key=hist.get)\n",
    "    measured_int = int(measured_str,2)\n",
    "    print(\"Register Output = %i\" % measured_int)\n",
    "    theta = (measured_int/(2**t))*math.pi*2\n",
    "    print(\"θ = %.5f\" % theta)\n",
    "    N = 2**n\n",
    "    M = N * (math.sin(theta/2)**2)\n",
    "    print(\"解の数 = %.1f\" % (N-M))\n",
    "    m = t - 1\n",
    "    err = (math.sqrt(2*M*N) + N/(2**(m+1)))*(2**(-m))\n",
    "    print(\"Error < %.2f\" % err)"
   ]
  },
  {
   "cell_type": "markdown",
   "id": "3ee8114d",
   "metadata": {},
   "source": [
    "解が8個の場合<br><br>\n",
    "xゲートをアダマールゲートで挟むことで、指定した量子ビットが1の場合、-がつく。"
   ]
  },
  {
   "cell_type": "code",
   "execution_count": 12,
   "id": "d4adb234",
   "metadata": {
    "scrolled": true
   },
   "outputs": [
    {
     "data": {
      "text/html": [
       "<pre style=\"word-wrap: normal;white-space: pre;background: #fff0;line-height: 1.1;font-family: &quot;Courier New&quot;,Courier,monospace\">     ┌───┐┌───┐┌───┐\n",
       "q_0: ┤ H ├┤ X ├┤ H ├\n",
       "     └───┘└───┘└───┘\n",
       "q_1: ───────────────\n",
       "                    \n",
       "q_2: ───────────────\n",
       "                    \n",
       "q_3: ───────────────\n",
       "                    </pre>"
      ],
      "text/plain": [
       "     ┌───┐┌───┐┌───┐\n",
       "q_0: ┤ H ├┤ X ├┤ H ├\n",
       "     └───┘└───┘└───┘\n",
       "q_1: ───────────────\n",
       "                    \n",
       "q_2: ───────────────\n",
       "                    \n",
       "q_3: ───────────────\n",
       "                    "
      ]
     },
     "execution_count": 12,
     "metadata": {},
     "output_type": "execute_result"
    }
   ],
   "source": [
    "#オラクルを作成する回路を描画\n",
    "qc = QuantumCircuit(4)\n",
    "\n",
    "qc.h(0)\n",
    "qc.x(0)\n",
    "qc.h(0)\n",
    "\n",
    "qc.draw()"
   ]
  },
  {
   "cell_type": "code",
   "execution_count": 13,
   "id": "0b516165",
   "metadata": {
    "scrolled": true
   },
   "outputs": [
    {
     "name": "stdout",
     "output_type": "stream",
     "text": [
      "Register Output = 4\n",
      "θ = 1.57080\n",
      "解の数 = 8.0\n",
      "Error < 2.12\n"
     ]
    }
   ],
   "source": [
    "countAnswer(cgrit1)"
   ]
  },
  {
   "cell_type": "markdown",
   "id": "22bf192c",
   "metadata": {},
   "source": [
    "解が2個の場合<br><br>\n",
    "ccxゲートをアダマールゲートで挟むことで指定した3つの量子ビットが1の場合、-がつく"
   ]
  },
  {
   "cell_type": "code",
   "execution_count": 14,
   "id": "bb3e25dc",
   "metadata": {
    "scrolled": true
   },
   "outputs": [
    {
     "data": {
      "text/html": [
       "<pre style=\"word-wrap: normal;white-space: pre;background: #fff0;line-height: 1.1;font-family: &quot;Courier New&quot;,Courier,monospace\">                    \n",
       "q_0: ───────■───────\n",
       "            │       \n",
       "q_1: ───────■───────\n",
       "     ┌───┐┌─┴─┐┌───┐\n",
       "q_2: ┤ H ├┤ X ├┤ H ├\n",
       "     └───┘└───┘└───┘\n",
       "q_3: ───────────────\n",
       "                    </pre>"
      ],
      "text/plain": [
       "                    \n",
       "q_0: ───────■───────\n",
       "            │       \n",
       "q_1: ───────■───────\n",
       "     ┌───┐┌─┴─┐┌───┐\n",
       "q_2: ┤ H ├┤ X ├┤ H ├\n",
       "     └───┘└───┘└───┘\n",
       "q_3: ───────────────\n",
       "                    "
      ]
     },
     "execution_count": 14,
     "metadata": {},
     "output_type": "execute_result"
    }
   ],
   "source": [
    "#オラクルを作成する回路を描画\n",
    "qc2 = QuantumCircuit(4)\n",
    " \n",
    "qc2.h(2)\n",
    "qc2.ccx(0,1,2)\n",
    "qc2.h(2)\n",
    "\n",
    "qc2.draw()"
   ]
  },
  {
   "cell_type": "code",
   "execution_count": 15,
   "id": "1609cbf3",
   "metadata": {
    "scrolled": true
   },
   "outputs": [
    {
     "name": "stdout",
     "output_type": "stream",
     "text": [
      "Register Output = 10\n",
      "θ = 3.92699\n",
      "解の数 = 2.3\n",
      "Error < 2.74\n"
     ]
    }
   ],
   "source": [
    "countAnswer(cgrit2)"
   ]
  },
  {
   "cell_type": "markdown",
   "id": "eb8e954d",
   "metadata": {},
   "source": [
    "解が0個の場合"
   ]
  },
  {
   "cell_type": "code",
   "execution_count": 16,
   "id": "ca764c99",
   "metadata": {},
   "outputs": [
    {
     "name": "stdout",
     "output_type": "stream",
     "text": [
      "Register Output = 8\n",
      "θ = 3.14159\n",
      "解の数 = 0.0\n",
      "Error < 2.95\n"
     ]
    }
   ],
   "source": [
    "countAnswer(cgrit3)"
   ]
  },
  {
   "cell_type": "markdown",
   "id": "c3f5a591",
   "metadata": {},
   "source": [
    "解が16個の場合<br><br>\n",
    "xゲートをアダマールゲートで挟むことで、指定した量子ビットが1の場合、-がつく。<br>\n",
    "また、xゲート後、xゲートをアダマールゲートで挟むことで、指定した量子ビットが0の場合にも、-をつける。"
   ]
  },
  {
   "cell_type": "code",
   "execution_count": 19,
   "id": "f8199739",
   "metadata": {},
   "outputs": [
    {
     "data": {
      "text/html": [
       "<pre style=\"word-wrap: normal;white-space: pre;background: #fff0;line-height: 1.1;font-family: &quot;Courier New&quot;,Courier,monospace\">     ┌───┐┌───┐┌───┐┌───┐┌───┐┌───┐┌───┐\n",
       "q_0: ┤ H ├┤ X ├┤ H ├┤ X ├┤ H ├┤ X ├┤ H ├\n",
       "     └───┘└───┘└───┘└───┘└───┘└───┘└───┘\n",
       "q_1: ───────────────────────────────────\n",
       "                                        \n",
       "q_2: ───────────────────────────────────\n",
       "                                        \n",
       "q_3: ───────────────────────────────────\n",
       "                                        </pre>"
      ],
      "text/plain": [
       "     ┌───┐┌───┐┌───┐┌───┐┌───┐┌───┐┌───┐\n",
       "q_0: ┤ H ├┤ X ├┤ H ├┤ X ├┤ H ├┤ X ├┤ H ├\n",
       "     └───┘└───┘└───┘└───┘└───┘└───┘└───┘\n",
       "q_1: ───────────────────────────────────\n",
       "                                        \n",
       "q_2: ───────────────────────────────────\n",
       "                                        \n",
       "q_3: ───────────────────────────────────\n",
       "                                        "
      ]
     },
     "execution_count": 19,
     "metadata": {},
     "output_type": "execute_result"
    }
   ],
   "source": [
    "#オラクルを作成する回路を描画\n",
    "qc4 = QuantumCircuit(4)\n",
    "\n",
    "qc4.h(0)\n",
    "qc4.x(0)\n",
    "qc4.h(0)\n",
    "qc4.x(0)\n",
    "qc4.h(0)\n",
    "qc4.x(0)\n",
    "qc4.h(0)\n",
    "\n",
    "qc4.draw()"
   ]
  },
  {
   "cell_type": "code",
   "execution_count": 20,
   "id": "8e7cbe6d",
   "metadata": {
    "scrolled": false
   },
   "outputs": [
    {
     "name": "stdout",
     "output_type": "stream",
     "text": [
      "Register Output = 0\n",
      "θ = 0.00000\n",
      "解の数 = 16.0\n",
      "Error < 0.12\n"
     ]
    }
   ],
   "source": [
    "countAnswer(cgrit4)"
   ]
  },
  {
   "cell_type": "markdown",
   "id": "abac1a47",
   "metadata": {},
   "source": [
    "A.異なる数の解のオラクルを作成することはできる。<br>\n",
    "　解の数が少なくなるほど精度は低くなり、解の数が多くなるほど精度は高くなる。"
   ]
  },
  {
   "cell_type": "code",
   "execution_count": null,
   "id": "24f83cd1",
   "metadata": {},
   "outputs": [],
   "source": []
  },
  {
   "cell_type": "markdown",
   "id": "ee789648",
   "metadata": {},
   "source": [
    "2.回路を調整して、カウント量子ビットを増減して、結果の精度を変えることはできますか？"
   ]
  },
  {
   "cell_type": "markdown",
   "id": "1d1b0cec",
   "metadata": {},
   "source": [
    "解の数の精度、エラー値はカウント量子ビットの数に依存するため、<br>\n",
    "増加させると精度が高くなり、減少させると精度が低くなると思われる。"
   ]
  },
  {
   "cell_type": "markdown",
   "id": "130d03f2",
   "metadata": {},
   "source": [
    "テキストと同じ解が5個のオラクルを作成。"
   ]
  },
  {
   "cell_type": "code",
   "execution_count": 100,
   "id": "1284b323",
   "metadata": {},
   "outputs": [],
   "source": [
    "def example_grover_iteration():\n",
    "    \"\"\"Small circuit with 5/16 solutions\"\"\"\n",
    "    # 回路を作る\n",
    "    qc = QuantumCircuit(4)\n",
    "    # オラクル\n",
    "    qc.h([2,3])\n",
    "    qc.ccx(0,1,2)\n",
    "    qc.h(2)\n",
    "    qc.x(2)\n",
    "    qc.ccx(0,2,3)\n",
    "    qc.x(2)\n",
    "    qc.h(3)\n",
    "    qc.x([1,3])\n",
    "    qc.h(2)\n",
    "    qc.mct([0,1,3],2)\n",
    "    qc.x([1,3])\n",
    "    qc.h(2)\n",
    "    # 拡散\n",
    "    qc.h(range(3))\n",
    "    qc.x(range(3))\n",
    "    qc.z(3)\n",
    "    qc.mct([0,1,2],3)\n",
    "    qc.x(range(3))\n",
    "    qc.h(range(3))\n",
    "    qc.z(3)\n",
    "    return qc"
   ]
  },
  {
   "cell_type": "code",
   "execution_count": 101,
   "id": "b3d92a32",
   "metadata": {},
   "outputs": [],
   "source": [
    "grit = example_grover_iteration().to_gate()\n",
    "grit.label = \"Grover\"\n",
    "example_grover_iteration().draw()\n",
    "cgrit = grit.control()\n",
    "#ここでグローバル変数を定義し、カウント量子ビットを調整\n",
    "#countBit = 10\n",
    "countBit = 3"
   ]
  },
  {
   "cell_type": "code",
   "execution_count": 102,
   "id": "93b9d031",
   "metadata": {},
   "outputs": [],
   "source": [
    "def qft(n):\n",
    "    #n量子ビットのQFT回路を作成\n",
    "    \"\"\"Creates an n-qubit QFT circuit\"\"\"\n",
    "    # QuantumCircuitの引数にcountBit\n",
    "    circuit = QuantumCircuit(countBit)\n",
    "    def swap_registers(circuit, n):\n",
    "        for qubit in range(n//2):\n",
    "            circuit.swap(qubit, n-qubit-1)\n",
    "        return circuit\n",
    "    def qft_rotations(circuit, n):\n",
    "        #swapゲートなしで回路で最初にn量子ビットのQFTを実装する\n",
    "        \"\"\"Performs qft on the first n qubits in circuit (without swaps)\"\"\"\n",
    "        if n == 0:\n",
    "            return circuit\n",
    "        n -= 1\n",
    "        circuit.h(n)\n",
    "        for qubit in range(n):\n",
    "            circuit.cp(np.pi/2**(n-qubit), qubit, n)\n",
    "        qft_rotations(circuit, n)\n",
    "    \n",
    "    qft_rotations(circuit, n)\n",
    "    swap_registers(circuit, n)\n",
    "    return circuit"
   ]
  },
  {
   "cell_type": "markdown",
   "id": "295cc7a0",
   "metadata": {},
   "source": [
    "上記で作成したqft呼び出し時の引数をcountBitに変更。"
   ]
  },
  {
   "cell_type": "code",
   "execution_count": 103,
   "id": "89e9dd6b",
   "metadata": {},
   "outputs": [],
   "source": [
    "# 作成したqftの引数をcountBitに変更\n",
    "qft_dagger = qft(countBit).to_gate().inverse()\n",
    "qft_dagger.label = \"QFT†\""
   ]
  },
  {
   "cell_type": "code",
   "execution_count": 104,
   "id": "4bdec66b",
   "metadata": {
    "scrolled": false
   },
   "outputs": [
    {
     "data": {
      "text/html": [
       "<pre style=\"word-wrap: normal;white-space: pre;background: #fff0;line-height: 1.1;font-family: &quot;Courier New&quot;,Courier,monospace\">     ┌───┐                                                                  »\n",
       "q_0: ┤ H ├─────■────────────────────────────────────────────────────────────»\n",
       "     ├───┤     │                                                            »\n",
       "q_1: ┤ H ├─────┼──────────■──────────■──────────────────────────────────────»\n",
       "     ├───┤     │          │          │                                      »\n",
       "q_2: ┤ H ├─────┼──────────┼──────────┼──────────■──────────■──────────■─────»\n",
       "     ├───┤┌────┴────┐┌────┴────┐┌────┴────┐┌────┴────┐┌────┴────┐┌────┴────┐»\n",
       "q_3: ┤ H ├┤0        ├┤0        ├┤0        ├┤0        ├┤0        ├┤0        ├»\n",
       "     ├───┤│         ││         ││         ││         ││         ││         │»\n",
       "q_4: ┤ H ├┤1        ├┤1        ├┤1        ├┤1        ├┤1        ├┤1        ├»\n",
       "     ├───┤│  Grover ││  Grover ││  Grover ││  Grover ││  Grover ││  Grover │»\n",
       "q_5: ┤ H ├┤2        ├┤2        ├┤2        ├┤2        ├┤2        ├┤2        ├»\n",
       "     ├───┤│         ││         ││         ││         ││         ││         │»\n",
       "q_6: ┤ H ├┤3        ├┤3        ├┤3        ├┤3        ├┤3        ├┤3        ├»\n",
       "     └───┘└─────────┘└─────────┘└─────────┘└─────────┘└─────────┘└─────────┘»\n",
       "c: 3/═══════════════════════════════════════════════════════════════════════»\n",
       "                                                                            »\n",
       "«                ┌───────┐┌─┐      \n",
       "«q_0: ───────────┤0      ├┤M├──────\n",
       "«                │       │└╥┘┌─┐   \n",
       "«q_1: ───────────┤1 QFT† ├─╫─┤M├───\n",
       "«                │       │ ║ └╥┘┌─┐\n",
       "«q_2: ─────■─────┤2      ├─╫──╫─┤M├\n",
       "«     ┌────┴────┐└───────┘ ║  ║ └╥┘\n",
       "«q_3: ┤0        ├──────────╫──╫──╫─\n",
       "«     │         │          ║  ║  ║ \n",
       "«q_4: ┤1        ├──────────╫──╫──╫─\n",
       "«     │  Grover │          ║  ║  ║ \n",
       "«q_5: ┤2        ├──────────╫──╫──╫─\n",
       "«     │         │          ║  ║  ║ \n",
       "«q_6: ┤3        ├──────────╫──╫──╫─\n",
       "«     └─────────┘          ║  ║  ║ \n",
       "«c: 3/═════════════════════╩══╩══╩═\n",
       "«                          0  1  2 </pre>"
      ],
      "text/plain": [
       "     ┌───┐                                                                  »\n",
       "q_0: ┤ H ├─────■────────────────────────────────────────────────────────────»\n",
       "     ├───┤     │                                                            »\n",
       "q_1: ┤ H ├─────┼──────────■──────────■──────────────────────────────────────»\n",
       "     ├───┤     │          │          │                                      »\n",
       "q_2: ┤ H ├─────┼──────────┼──────────┼──────────■──────────■──────────■─────»\n",
       "     ├───┤┌────┴────┐┌────┴────┐┌────┴────┐┌────┴────┐┌────┴────┐┌────┴────┐»\n",
       "q_3: ┤ H ├┤0        ├┤0        ├┤0        ├┤0        ├┤0        ├┤0        ├»\n",
       "     ├───┤│         ││         ││         ││         ││         ││         │»\n",
       "q_4: ┤ H ├┤1        ├┤1        ├┤1        ├┤1        ├┤1        ├┤1        ├»\n",
       "     ├───┤│  Grover ││  Grover ││  Grover ││  Grover ││  Grover ││  Grover │»\n",
       "q_5: ┤ H ├┤2        ├┤2        ├┤2        ├┤2        ├┤2        ├┤2        ├»\n",
       "     ├───┤│         ││         ││         ││         ││         ││         │»\n",
       "q_6: ┤ H ├┤3        ├┤3        ├┤3        ├┤3        ├┤3        ├┤3        ├»\n",
       "     └───┘└─────────┘└─────────┘└─────────┘└─────────┘└─────────┘└─────────┘»\n",
       "c: 3/═══════════════════════════════════════════════════════════════════════»\n",
       "                                                                            »\n",
       "«                ┌───────┐┌─┐      \n",
       "«q_0: ───────────┤0      ├┤M├──────\n",
       "«                │       │└╥┘┌─┐   \n",
       "«q_1: ───────────┤1 QFT† ├─╫─┤M├───\n",
       "«                │       │ ║ └╥┘┌─┐\n",
       "«q_2: ─────■─────┤2      ├─╫──╫─┤M├\n",
       "«     ┌────┴────┐└───────┘ ║  ║ └╥┘\n",
       "«q_3: ┤0        ├──────────╫──╫──╫─\n",
       "«     │         │          ║  ║  ║ \n",
       "«q_4: ┤1        ├──────────╫──╫──╫─\n",
       "«     │  Grover │          ║  ║  ║ \n",
       "«q_5: ┤2        ├──────────╫──╫──╫─\n",
       "«     │         │          ║  ║  ║ \n",
       "«q_6: ┤3        ├──────────╫──╫──╫─\n",
       "«     └─────────┘          ║  ║  ║ \n",
       "«c: 3/═════════════════════╩══╩══╩═\n",
       "«                          0  1  2 "
      ]
     },
     "execution_count": 104,
     "metadata": {},
     "output_type": "execute_result"
    }
   ],
   "source": [
    "# 量子回路の作成\n",
    "t = countBit   # カウントする量子ビットの数\n",
    "n = 4   # 探索する量子ビットの数\n",
    "qc = QuantumCircuit(n+t, t) # 古典ビットとn+t量子ビットの回路\n",
    "\n",
    "# 全ての量子ビットを |+>に初期化する\n",
    "for qubit in range(t+n):\n",
    "    qc.h(qubit)\n",
    "\n",
    "# Begin controlled Grover iterations\n",
    "iterations = 1\n",
    "for qubit in range(t):\n",
    "    for i in range(iterations):\n",
    "        qc.append(cgrit, [qubit] + [*range(t, n+t)])\n",
    "    iterations *= 2\n",
    "    \n",
    "# Do inverse QFT on counting qubits\n",
    "qc.append(qft_dagger, range(t))\n",
    "\n",
    "# Measure counting qubits\n",
    "qc.measure(range(t), range(t))\n",
    "\n",
    "# Display the circuit\n",
    "qc.draw()"
   ]
  },
  {
   "cell_type": "markdown",
   "id": "bd9fbfdb",
   "metadata": {},
   "source": [
    "回路を見ると反復回数が増加している。"
   ]
  },
  {
   "cell_type": "code",
   "execution_count": 105,
   "id": "98db9eb0",
   "metadata": {},
   "outputs": [
    {
     "name": "stdout",
     "output_type": "stream",
     "text": [
      "Register Output = 6\n",
      "θ = 4.71239\n",
      "解の数 = 8.0\n",
      "Error < 4.50\n"
     ]
    }
   ],
   "source": [
    "aer_sim = Aer.get_backend('aer_simulator')\n",
    "transpiled_qc = transpile(qc, aer_sim)\n",
    "qobj = assemble(transpiled_qc)\n",
    "job = aer_sim.run(qobj)\n",
    "hist = job.result().get_counts()\n",
    "\n",
    "measured_str = max(hist, key=hist.get)\n",
    "measured_int = int(measured_str,2)\n",
    "print(\"Register Output = %i\" % measured_int)\n",
    "theta = (measured_int/(2**t))*math.pi*2\n",
    "print(\"θ = %.5f\" % theta)\n",
    "N = 2**n\n",
    "M = N * (math.sin(theta/2)**2)\n",
    "print(\"解の数 = %.1f\" % (N-M))\n",
    "m = t - 1 # Upper bound: Will be less than this \n",
    "err = (math.sqrt(2*M*N) + N/(2**(m+1)))*(2**(-m))\n",
    "print(\"Error < %.2f\" % err)"
   ]
  },
  {
   "cell_type": "markdown",
   "id": "58b2a636",
   "metadata": {},
   "source": [
    "カウント量子ビットを10にした場合<br><br>\n",
    "Register Output = 705<br>\n",
    "θ = 4.32583<br>\n",
    "解の数 = 5.0<br>\n",
    "Error < 0.04<br>\n",
    "\n",
    "解の数が5.0になり、カウント量子ビットが4の場合より正確な値になっている。<br>エラーも0.04まで減少している。"
   ]
  },
  {
   "cell_type": "markdown",
   "id": "f50885c8",
   "metadata": {},
   "source": [
    "カウント量子ビットを3にした場合<br>\n",
    "\n",
    "Register Output = 6<br>\n",
    "θ = 4.71239<br>\n",
    "解の数 = 8.0<br>\n",
    "Error < 4.50\n",
    "\n",
    "解の数が8.0になり、実際の解の数との差が大きくなっている。<br>\n",
    "エラーも4.50まで増加している。"
   ]
  },
  {
   "cell_type": "markdown",
   "id": "6495b582",
   "metadata": {},
   "source": [
    "A.上記の結果より、カウント量子ビットの数を増加させると精度が高くなり、\n",
    "減少させると精度が低くなることが分かる。"
   ]
  }
 ],
 "metadata": {
  "kernelspec": {
   "display_name": "Python 3 (ipykernel)",
   "language": "python",
   "name": "python3"
  },
  "language_info": {
   "codemirror_mode": {
    "name": "ipython",
    "version": 3
   },
   "file_extension": ".py",
   "mimetype": "text/x-python",
   "name": "python",
   "nbconvert_exporter": "python",
   "pygments_lexer": "ipython3",
   "version": "3.10.3"
  }
 },
 "nbformat": 4,
 "nbformat_minor": 5
}
