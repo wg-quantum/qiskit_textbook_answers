{
 "cells": [
  {
   "cell_type": "markdown",
   "metadata": {},
   "source": [
    "1. QFTの上記の実装は、$QFT^{\\dag} \\ket{\\tilde{5}} = \\ket{101}$であるフーリエ状態$\\ket{\\tilde{5}}$を準備することによってテストしました。 $QFT^{\\dag} \\ket{a} = \\ket{100}$となるような状態$\\ket{a}$を見つけてみてください。"
   ]
  },
  {
   "cell_type": "markdown",
   "metadata": {},
   "source": [
    "A. 量子フーリエ変換の式は以下の通り。\n",
    "$$QFT_N \\ket{x} = \\frac{1}{\\sqrt{N}}(\\ket{0} + \\exp(\\frac{2 \\pi i}{2}x) \\ket{1}) \\otimes (\\ket{0} + \\exp(\\frac{2 \\pi i}{2^2}x) \\ket{1})  \\otimes ...  \\otimes (\\ket{0} + \\exp(\\frac{2 \\pi i}{2^{n-1}}x) \\ket{1}) \\otimes (\\ket{0} + \\exp(\\frac{2 \\pi i}{2^n}x) \\ket{1})$$\n",
    "\n",
    "つまり、逆フーリエ変換をした際に左辺が$\\ket{100}$となるような、右辺の状態を見つければよい。\\\n",
    "100を10進数表記に変換すると $1 \\times 2^2 + 0 \\times 2 ^ 1 + 0 \\times 2 ^ 0 = 4$ なので $x = 4$ 、3量子ビットなので $n = 3、N = 2^3 = 8$ これらを上式の右辺に代入すると、\n",
    "$$\\frac{1}{\\sqrt{8}}(\\ket{0} + \\exp(4\\pi i) \\ket{1}) \\otimes (\\ket{0} + \\exp(\\frac{4\\pi i}{2}) \\ket{1})  \\otimes (\\ket{0} + \\exp(\\frac{ 4\\pi i}{4}) \\ket{1})$$\n",
    "となる。よって上記状態を量子回路にて作成していくと以下の通り。"
   ]
  },
  {
   "cell_type": "code",
   "execution_count": null,
   "metadata": {},
   "outputs": [],
   "source": [
    "import numpy as np\n",
    "from numpy import pi\n",
    "# Qiskitをインポートする\n",
    "from qiskit import QuantumCircuit, Aer, assemble\n",
    "from qiskit.visualization import plot_bloch_multivector, plot_histogram\n",
    "\n",
    "# 量子ビット数\n",
    "nqubits = 3\n",
    "# 逆フーリエ変換で導出したい状態x = 4\n",
    "number = 4\n",
    "\n",
    "qc = QuantumCircuit(nqubits)\n",
    "# 各量子ビットにアダマールゲートを付与\n",
    "for qubit in range(nqubits):\n",
    "    qc.h(qubit)\n",
    "\n",
    "# 各量子ビットにpゲートを付与\n",
    "qc.p(number*pi/4,0)\n",
    "qc.p(number*pi/2,1)\n",
    "qc.p(number*pi,2)\n",
    "\n",
    "qc.draw()"
   ]
  },
  {
   "cell_type": "markdown",
   "metadata": {},
   "source": [
    "ブロッホ球で量子ビットの状態をチェックすると以下の通り。"
   ]
  },
  {
   "cell_type": "code",
   "execution_count": null,
   "metadata": {},
   "outputs": [],
   "source": [
    "sim = Aer.get_backend(\"aer_simulator\")\n",
    "qc_init = qc.copy()\n",
    "qc_init.save_statevector()\n",
    "statevector = sim.run(qc_init).result().get_statevector()\n",
    "plot_bloch_multivector(statevector)"
   ]
  },
  {
   "cell_type": "markdown",
   "metadata": {},
   "source": [
    "上記で作成した状態に逆フーリエ変換すると以下の通り。"
   ]
  },
  {
   "cell_type": "code",
   "execution_count": null,
   "metadata": {},
   "outputs": [],
   "source": [
    "def qft_rotations(circuit, n):\n",
    "    # 回路の最初のn量子ビットでqftを実行する\n",
    "    if n == 0:\n",
    "        return circuit\n",
    "    n -= 1\n",
    "    circuit.h(n)\n",
    "    for qubit in range(n):\n",
    "        circuit.cp(pi/2**(n-qubit), qubit, n)\n",
    "\n",
    "    # この関数の最後で、次の量子ビットで同じ関数を再度呼び出す（関数の前半でnを1つ減らしている）\n",
    "    qft_rotations(circuit, n)\n",
    "\n",
    "def swap_registers(circuit, n):\n",
    "    for qubit in range(n//2):\n",
    "        circuit.swap(qubit, n-qubit-1)\n",
    "    return circuit\n",
    "\n",
    "def qft(circuit, n):\n",
    "    # 回路の最初のn量子ビットでQFTを実行する\n",
    "    qft_rotations(circuit, n)\n",
    "    swap_registers(circuit, n)\n",
    "    return circuit\n",
    "\n",
    "def inverse_qft(circuit, n):\n",
    "    # 回路の最初のn量子ビットでInverse QFTを実行する\n",
    "\n",
    "    # まず、n量子ビットのQFT回路を作成する\n",
    "    qft_circ = qft(QuantumCircuit(n), n)\n",
    "    # 次に、この回路の逆をとる\n",
    "    invqft_circ = qft_circ.inverse()\n",
    "    # 上で作成した逆QFT回路を既存の回路の最初のn量子ビットに追加する\n",
    "    circuit.append(invqft_circ, circuit.qubits[:n])\n",
    "    return circuit.decompose() # .decompose() で個々のゲートを確認できる\n",
    "\n",
    "qc = inverse_qft(qc, nqubits)\n",
    "qc.measure_all()\n",
    "\n",
    "aer_sim = Aer.get_backend('aer_simulator')\n",
    "qobj = assemble(qc)\n",
    "result = aer_sim.run(qobj).result()\n",
    "counts = result.get_counts()\n",
    "plot_histogram(counts)"
   ]
  },
  {
   "cell_type": "markdown",
   "metadata": {},
   "source": [
    "2. $QFT^{\\dag} \\ket{b} = \\ket{011}$となるような状態$\\ket{b}$を見つけてみてください。"
   ]
  },
  {
   "cell_type": "markdown",
   "metadata": {},
   "source": [
    "A. 量子フーリエ変換の式は以下の通り。\n",
    "$$QFT_N \\ket{x} = \\frac{1}{\\sqrt{N}}(\\ket{0} + \\exp(\\frac{2 \\pi i}{2}x) \\ket{1}) \\otimes (\\ket{0} + \\exp(\\frac{2 \\pi i}{2^2}x) \\ket{1})  \\otimes ...  \\otimes (\\ket{0} + \\exp(\\frac{2 \\pi i}{2^{n-1}}x) \\ket{1}) \\otimes (\\ket{0} + \\exp(\\frac{2 \\pi i}{2^n}x) \\ket{1})$$\n",
    "\n",
    "つまり、逆フーリエ変換をした際に左辺が$\\ket{011}$となるような、右辺の状態を見つければよい。\\\n",
    "011を10進数表記に変換すると $0 \\times 2^2  + 1 \\times 2 ^ 1 + 1 \\times 2 ^ 0 = 3$ なので $x = 3$ 、3量子ビットなので $n = 3、N = 2^3 = 8$ これらを上式の右辺に代入すると、\n",
    "$$\\frac{1}{\\sqrt{8}}(\\ket{0} + \\exp(3\\pi i) \\ket{1}) \\otimes (\\ket{0} + \\exp(\\frac{3\\pi i}{2}) \\ket{1})  \\otimes (\\ket{0} + \\exp(\\frac{ 3\\pi i}{4}) \\ket{1})$$\n",
    "となる。よって上記状態を量子回路にて作成していくと以下の通り。"
   ]
  },
  {
   "cell_type": "code",
   "execution_count": null,
   "metadata": {},
   "outputs": [],
   "source": [
    "import numpy as np\n",
    "from numpy import pi\n",
    "# Qiskitをインポートする\n",
    "from qiskit import QuantumCircuit, Aer, assemble\n",
    "from qiskit.visualization import plot_bloch_multivector, plot_histogram\n",
    "\n",
    "# 量子ビット数\n",
    "nqubits = 3\n",
    "# 逆フーリエ変換で導出したい状態x = 3\n",
    "number = 3\n",
    "\n",
    "qc = QuantumCircuit(nqubits)\n",
    "# 各量子ビットにアダマールゲートを付与\n",
    "for qubit in range(nqubits):\n",
    "    qc.h(qubit)\n",
    "\n",
    "# 各量子ビットにpゲートを付与\n",
    "qc.p(number*pi/4,0)\n",
    "qc.p(number*pi/2,1)\n",
    "qc.p(number*pi,2)\n",
    "\n",
    "qc.draw()"
   ]
  },
  {
   "cell_type": "markdown",
   "metadata": {},
   "source": [
    "ブロッホ球で量子ビットの状態をチェックすると以下の通り。"
   ]
  },
  {
   "cell_type": "code",
   "execution_count": null,
   "metadata": {},
   "outputs": [],
   "source": [
    "sim = Aer.get_backend(\"aer_simulator\")\n",
    "qc_init = qc.copy()\n",
    "qc_init.save_statevector()\n",
    "statevector = sim.run(qc_init).result().get_statevector()\n",
    "plot_bloch_multivector(statevector)"
   ]
  },
  {
   "cell_type": "markdown",
   "metadata": {},
   "source": [
    "上記で作成した状態に逆フーリエ変換すると以下の通り。"
   ]
  },
  {
   "cell_type": "code",
   "execution_count": null,
   "metadata": {},
   "outputs": [],
   "source": [
    "def qft_rotations(circuit, n):\n",
    "    # 回路の最初のn量子ビットでqftを実行する\n",
    "    if n == 0:\n",
    "        return circuit\n",
    "    n -= 1\n",
    "    circuit.h(n)\n",
    "    for qubit in range(n):\n",
    "        circuit.cp(pi/2**(n-qubit), qubit, n)\n",
    "\n",
    "    # この関数の最後で、次の量子ビットで同じ関数を再度呼び出す（関数の前半でnを1つ減らしている）\n",
    "    qft_rotations(circuit, n)\n",
    "\n",
    "def swap_registers(circuit, n):\n",
    "    for qubit in range(n//2):\n",
    "        circuit.swap(qubit, n-qubit-1)\n",
    "    return circuit\n",
    "\n",
    "def qft(circuit, n):\n",
    "    # 回路の最初のn量子ビットでQFTを実行する\n",
    "    qft_rotations(circuit, n)\n",
    "    swap_registers(circuit, n)\n",
    "    return circuit\n",
    "\n",
    "def inverse_qft(circuit, n):\n",
    "    # 回路の最初のn量子ビットでInverse QFTを実行する\n",
    "\n",
    "    # まず、n量子ビットのQFT回路を作成する\n",
    "    qft_circ = qft(QuantumCircuit(n), n)\n",
    "    # 次に、この回路の逆をとる\n",
    "    invqft_circ = qft_circ.inverse()\n",
    "    # 上で作成した逆QFT回路を既存の回路の最初のn量子ビットに追加する\n",
    "    circuit.append(invqft_circ, circuit.qubits[:n])\n",
    "    return circuit.decompose() # .decompose() で個々のゲートを確認できる\n",
    "\n",
    "qc = inverse_qft(qc, nqubits)\n",
    "qc.measure_all()\n",
    "\n",
    "aer_sim = Aer.get_backend('aer_simulator')\n",
    "qobj = assemble(qc)\n",
    "result = aer_sim.run(qobj).result()\n",
    "counts = result.get_counts()\n",
    "plot_histogram(counts)"
   ]
  },
  {
   "cell_type": "markdown",
   "metadata": {},
   "source": [
    "3. 再帰なしでQFT関数を記述してください。 Qiskitのユニタリーシミュレーターを使用して、結果を確認してください。"
   ]
  },
  {
   "cell_type": "markdown",
   "metadata": {},
   "source": [
    "A.再起関数の代わりにforループを用いてQFT関数を実装する。コードは以下の通り。"
   ]
  },
  {
   "cell_type": "code",
   "execution_count": null,
   "metadata": {},
   "outputs": [],
   "source": [
    "import numpy as np\n",
    "from numpy import pi\n",
    "from qiskit_textbook.widgets import scalable_circuit\n",
    "# Qiskitをインポートする\n",
    "from qiskit import QuantumCircuit, Aer, assemble\n",
    "\n",
    "def qft_rotations(circuit, n):\n",
    "\n",
    "    # qubit1のインデックスをn-1から0までループさせる\n",
    "    for qubit1 in range(n-1, -1, -1):\n",
    "\n",
    "        # qubit1にアダマールゲートを付与\n",
    "        circuit.h(qubit1)\n",
    "\n",
    "        # qubit1のインデックスが0になったらループを抜けてcircuitを返す\n",
    "        if qubit1 == 0:\n",
    "            return circuit\n",
    "\n",
    "        # qubit2のインデックスを0からqubit1のインデックス-1までループさせ、それぞれCROTゲートを付与する\n",
    "        for qubit2 in range(qubit1):\n",
    "            circuit.cp(pi/2**(qubit1-qubit2), qubit2, qubit1)\n",
    "    \n",
    "def swap_registers(circuit, n):\n",
    "    for qubit in range(n//2):\n",
    "        circuit.swap(qubit, n-qubit-1)\n",
    "    return circuit\n",
    "\n",
    "def qft(circuit, n):\n",
    "    qft_rotations(circuit, n)\n",
    "    swap_registers(circuit, n)\n",
    "    return circuit\n",
    "\n",
    "scalable_circuit(qft)"
   ]
  }
 ],
 "metadata": {
  "language_info": {
   "name": "python"
  },
  "orig_nbformat": 4
 },
 "nbformat": 4,
 "nbformat_minor": 2
}
