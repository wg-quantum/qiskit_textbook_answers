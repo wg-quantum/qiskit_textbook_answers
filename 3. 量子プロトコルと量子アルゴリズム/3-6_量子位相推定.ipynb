{
 "cells": [
  {
   "cell_type": "markdown",
   "id": "fd986f97-eb7c-4d23-9b13-fb213e7ccd84",
   "metadata": {},
   "source": [
    "## 5. 練習問題\n",
    "\n",
    "1. 異なるゲート（$\\text{CNOT}$, 制御$S$, 制御$T^\\dagger$）で上記の実験を試してください。どのような結果が期待できますか？ どのような結果が得られますか？\n",
    "\n",
    "2. 制御$Y$ゲートを使って実験してみてください。正しい結果が得られますか？ （ヒント：$|\\psi\\rangle$ が$Y$の固有状態であることを確認してください！）\n",
    "\n"
   ]
  },
  {
   "cell_type": "markdown",
   "id": "db4c9de6-dcba-4854-aee8-4418c17aed33",
   "metadata": {},
   "source": [
    "必要な初期設定を行う。"
   ]
  },
  {
   "cell_type": "code",
   "execution_count": 2,
   "id": "94919f75-f37a-4f90-baa5-267edf960d22",
   "metadata": {},
   "outputs": [],
   "source": [
    "# 初期化\n",
    "import matplotlib.pyplot as plt\n",
    "import numpy as np\n",
    "import math\n",
    "\n",
    "# Qiskitをインポート\n",
    "from qiskit import IBMQ, Aer, transpile, assemble\n",
    "from qiskit import QuantumCircuit, ClassicalRegister, QuantumRegister\n",
    "\n",
    "# プロットツールをインポート\n",
    "from qiskit.visualization import plot_histogram\n",
    "\n",
    "IBMQ.load_account()\n",
    "from qiskit.tools.monitor import job_monitor\n",
    "provider = IBMQ.get_provider(hub='ibm-q')\n",
    "#print(provider.backends())\n",
    "lima = provider.get_backend('ibmq_lima')\n",
    "\n"
   ]
  },
  {
   "cell_type": "markdown",
   "id": "030dbc47-c6ad-4cec-a0fa-14f063068b82",
   "metadata": {},
   "source": [
    "逆QFTを行うコード（テキストどおり）。"
   ]
  },
  {
   "cell_type": "code",
   "execution_count": 3,
   "id": "89c8c3f7-262c-473b-b6a6-99f9bc08c380",
   "metadata": {},
   "outputs": [],
   "source": [
    "def qft_dagger(qc, n):\n",
    "    \"\"\"n-qubit QFTdagger the first n qubits in circ\"\"\"\n",
    "    # Don't forget the Swaps!\n",
    "    for qubit in range(n//2):\n",
    "        qc.swap(qubit, n-qubit-1)\n",
    "    for j in range(n):\n",
    "        for m in range(j):\n",
    "            qc.cp(-math.pi/float(2**(j-m)), m, j)\n",
    "        qc.h(j)\n"
   ]
  },
  {
   "cell_type": "markdown",
   "id": "34955d92-96e3-40bb-935c-c9c225aedf61",
   "metadata": {},
   "source": [
    "以下、各問題で指定されたゲートに応じて、固有状態の設定を行う部分と制御ユニタリ―演算を実行する部分を適切に変えればよい。"
   ]
  },
  {
   "cell_type": "markdown",
   "id": "ed8d2f51-9202-46df-97dc-0afe38966f22",
   "metadata": {},
   "source": [
    "1-1. CNOT\n",
    "\n",
    "CNOTは制御Xゲートである。Xゲートの固有ベクトルは $|+\\rangle$ および $|-\\rangle$ 。ここでは $|-\\rangle$ を使用する。\n",
    "\n",
    "$X = \n",
    "\\begin{bmatrix}\n",
    "0 & 1 \\\\\n",
    "1 & 0 \\\\\n",
    "\\end{bmatrix}\n",
    "$\n",
    "について、$|-\\rangle = \n",
    "\\frac{1}{\\sqrt{2}}\n",
    "\\begin{bmatrix}\n",
    "1 \\\\\n",
    "-1 \\\\\n",
    "\\end{bmatrix}\n",
    "$ に対する固有値は、下記の計算より $-1$ であり、したがって $\\theta = \\frac{1}{2}$ が期待される。\n",
    "\n",
    "$$X|-\\rangle = \n",
    "\\begin{bmatrix}\n",
    "0 & 1 \\\\\n",
    "1 & 0 \\\\\n",
    "\\end{bmatrix}\n",
    "\\frac{1}{\\sqrt{2}}\n",
    "\\begin{bmatrix}\n",
    "1 \\\\\n",
    "-1 \\\\\n",
    "\\end{bmatrix}\n",
    "= \n",
    "\\frac{1}{\\sqrt{2}}\n",
    "\\begin{bmatrix}\n",
    "-1 \\\\\n",
    "1 \\\\\n",
    "\\end{bmatrix}\n",
    "= -|-\\rangle\n",
    "= e^{2\\pi i\\cdot \\frac{1}{2} }|-\\rangle\n",
    "$$\n",
    "\n",
    "\n",
    "\n",
    "\n",
    "$|-\\rangle$ は、XゲートとHゲートによって構成できる。\n",
    "\n",
    "制御ユニタリ―演算はCXゲートによって構成できる。\n",
    "\n",
    "したがって"
   ]
  },
  {
   "cell_type": "code",
   "execution_count": 4,
   "id": "dfe7ac5a-0718-40bd-8759-4d7db36ed6a9",
   "metadata": {},
   "outputs": [],
   "source": [
    "qpe = QuantumCircuit(4, 3)\n",
    "################################\n",
    "# ユニタリ―演算子の固有状態を設定\n",
    "################################\n",
    "#Xゲートの場合：固有ベクトルとして|->を使用\n",
    "qpe.x(3)\n",
    "qpe.h(3)\n",
    "\n",
    "for qubit in range(3):\n",
    "    qpe.h(qubit)\n",
    "\n",
    "repetitions = 1\n",
    "for counting_qubit in range(3):\n",
    "    for i in range(repetitions):\n",
    "        ################################\n",
    "        # 制御ユニタリ―演算を実行\n",
    "        ################################\n",
    "        #Xゲートの場合\n",
    "        qpe.cx(counting_qubit, 3); # C-X\n",
    "        \n",
    "    repetitions *= 2\n",
    "\n",
    "qpe.barrier()\n",
    "\n",
    "# 逆QFTを適用\n",
    "qft_dagger(qpe, 3)\n",
    "\n",
    "# 測定\n",
    "qpe.barrier()\n",
    "for n in range(3):\n",
    "    qpe.measure(n,n)\n",
    "\n",
    "#qpe.draw()"
   ]
  },
  {
   "cell_type": "markdown",
   "id": "c509b6cb-3d4e-4edb-baff-025a1d66aa3b",
   "metadata": {},
   "source": [
    "シミュレータでの実行結果は次の通り。"
   ]
  },
  {
   "cell_type": "code",
   "execution_count": 5,
   "id": "7c543251-956c-467c-8dfc-02361d50728e",
   "metadata": {},
   "outputs": [
    {
     "name": "stderr",
     "output_type": "stream",
     "text": [
      "<frozen importlib._bootstrap>:219: RuntimeWarning: scipy._lib.messagestream.MessageStream size changed, may indicate binary incompatibility. Expected 56 from C header, got 64 from PyObject\n"
     ]
    },
    {
     "data": {
      "image/png": "[encoded data removed]",
      "text/plain": [
       "<Figure size 504x360 with 1 Axes>"
      ]
     },
     "execution_count": 5,
     "metadata": {},
     "output_type": "execute_result"
    }
   ],
   "source": [
    "aer_sim = Aer.get_backend('aer_simulator')\n",
    "shots = 2048\n",
    "t_qpe = transpile(qpe, aer_sim)\n",
    "qobj = assemble(t_qpe, shots=shots)\n",
    "results = aer_sim.run(qobj).result()\n",
    "answer = results.get_counts()\n",
    "plot_histogram(answer)"
   ]
  },
  {
   "cell_type": "markdown",
   "id": "85a4fdf5-e31c-4ebf-bfab-9883260d62b8",
   "metadata": {},
   "source": [
    "$\\theta = \\frac{100_2}{2^3} = \\frac{4}{8} = \\frac{1}{2}$ が得られた。\n",
    "\n",
    "実機での実行結果は次の通り。"
   ]
  },
  {
   "cell_type": "code",
   "execution_count": 6,
   "id": "e0da9385-7565-4aa3-943a-6c4e3030af33",
   "metadata": {},
   "outputs": [
    {
     "name": "stdout",
     "output_type": "stream",
     "text": [
      "Job Status: job has successfully run\n"
     ]
    },
    {
     "data": {
      "image/png": "[encoded data removed]",
      "text/plain": [
       "<Figure size 504x360 with 1 Axes>"
      ]
     },
     "execution_count": 6,
     "metadata": {},
     "output_type": "execute_result"
    }
   ],
   "source": [
    "# Run with 2048 shots\n",
    "shots = 2048\n",
    "t_qpe = transpile(qpe, lima, optimization_level=3)\n",
    "job = lima.run(t_qpe, shots=shots)\n",
    "job_monitor(job)\n",
    "\n",
    "# get the results from the computation\n",
    "results = job.result()\n",
    "answer = results.get_counts(qpe)\n",
    "\n",
    "plot_histogram(answer)"
   ]
  },
  {
   "cell_type": "markdown",
   "id": "9de21970-7f9e-43d5-9d4b-25be9e4a6c4f",
   "metadata": {},
   "source": [
    "1-2. 制御S\n",
    "\n",
    "Sゲートの固有ベクトルは $|0\\rangle$ および $|1\\rangle$ 。ここでは $|1\\rangle$ を使用する。\n",
    "\n",
    "\n",
    "$S = \n",
    "\\begin{bmatrix}\n",
    "1 & 0 \\\\\n",
    "0 & e^{\\frac{\\pi}{2}i} \\\\\n",
    "\\end{bmatrix}\n",
    "$\n",
    "について、$|1\\rangle = \n",
    "\\begin{bmatrix}\n",
    "0 \\\\\n",
    "1 \\\\\n",
    "\\end{bmatrix}\n",
    "$ に対する固有値は、下記の計算より $e^{\\frac{\\pi}{2}i} (= i)$ であり、したがって $\\theta = \\frac{1}{4}$ が期待される。\n",
    "\n",
    "$$S|1\\rangle = \n",
    "\\begin{bmatrix}\n",
    "1 & 0 \\\\\n",
    "0 & e^{\\frac{\\pi}{2}i} \\\\\n",
    "\\end{bmatrix}\n",
    "\\begin{bmatrix}\n",
    "0 \\\\\n",
    "1 \\\\\n",
    "\\end{bmatrix}\n",
    "= \n",
    "\\begin{bmatrix}\n",
    "0 \\\\\n",
    "e^{\\frac{\\pi}{2}i} \\\\\n",
    "\\end{bmatrix}\n",
    "= e^{\\frac{\\pi}{2}i}|1\\rangle\n",
    "= e^{2\\pi i\\cdot \\frac{1}{4} }|1\\rangle\n",
    "$$\n",
    "\n",
    "\n",
    "\n",
    "\n",
    "$|1\\rangle$ は、Xゲートによって構成できる。\n",
    "\n",
    "制御ユニタリ―演算は、$\\pi / 2$ 回転の制御Pゲートによって構成できる。\n",
    "\n",
    "1-1と同様に、コード・シミュレータおよび実機での結果を以下に示す。"
   ]
  },
  {
   "cell_type": "code",
   "execution_count": 7,
   "id": "3fd55c79-914a-4c94-ab3b-0679801e72fa",
   "metadata": {},
   "outputs": [
    {
     "data": {
      "image/png": "[encoded data removed]",
      "text/plain": [
       "<Figure size 504x360 with 1 Axes>"
      ]
     },
     "execution_count": 7,
     "metadata": {},
     "output_type": "execute_result"
    }
   ],
   "source": [
    "qpe = QuantumCircuit(4, 3)\n",
    "################################\n",
    "# ユニタリ―演算子の固有状態を設定\n",
    "################################\n",
    "#Sゲートの場合：固有ベクトルとして|1>を使用\n",
    "qpe.x(3)\n",
    "\n",
    "for qubit in range(3):\n",
    "    qpe.h(qubit)\n",
    "\n",
    "repetitions = 1\n",
    "for counting_qubit in range(3):\n",
    "    for i in range(repetitions):\n",
    "        ################################\n",
    "        # 制御ユニタリ―演算を実行\n",
    "        ################################\n",
    "        #Sゲート（π/2回転のPゲート）の場合\n",
    "        qpe.cp(math.pi/2, counting_qubit, 3); # C-S\n",
    "        \n",
    "    repetitions *= 2\n",
    "\n",
    "qpe.barrier()\n",
    "\n",
    "# 逆QFTを適用\n",
    "qft_dagger(qpe, 3)\n",
    "\n",
    "# 測定\n",
    "qpe.barrier()\n",
    "for n in range(3):\n",
    "    qpe.measure(n,n)\n",
    "\n",
    "#qpe.draw()\n",
    "aer_sim = Aer.get_backend('aer_simulator')\n",
    "shots = 2048\n",
    "t_qpe = transpile(qpe, aer_sim)\n",
    "qobj = assemble(t_qpe, shots=shots)\n",
    "results = aer_sim.run(qobj).result()\n",
    "answer = results.get_counts()\n",
    "plot_histogram(answer)"
   ]
  },
  {
   "cell_type": "markdown",
   "id": "2ef6015f-b26a-47dc-96d2-77f7eac27824",
   "metadata": {},
   "source": [
    "$\\theta = \\frac{010_2}{2^3} = \\frac{2}{8} = \\frac{1}{4}$ が得られた。\n",
    "\n",
    "実機での実行結果は次の通り。"
   ]
  },
  {
   "cell_type": "code",
   "execution_count": 8,
   "id": "057bb92b-a706-448a-9019-313e443a4fd5",
   "metadata": {},
   "outputs": [
    {
     "name": "stdout",
     "output_type": "stream",
     "text": [
      "Job Status: job has successfully run\n"
     ]
    },
    {
     "data": {
      "image/png": "[encoded data removed]",
      "text/plain": [
       "<Figure size 504x360 with 1 Axes>"
      ]
     },
     "execution_count": 8,
     "metadata": {},
     "output_type": "execute_result"
    }
   ],
   "source": [
    "# Run with 2048 shots\n",
    "shots = 2048\n",
    "t_qpe = transpile(qpe, lima, optimization_level=3)\n",
    "job = lima.run(t_qpe, shots=shots)\n",
    "job_monitor(job)\n",
    "\n",
    "# get the results from the computation\n",
    "results = job.result()\n",
    "answer = results.get_counts(qpe)\n",
    "\n",
    "plot_histogram(answer)"
   ]
  },
  {
   "cell_type": "markdown",
   "id": "d2ebc541-f684-4637-a692-72a7111ec3e1",
   "metadata": {},
   "source": [
    "1-3. 制御T$^\\dagger$\n",
    "\n",
    "T$^\\dagger$ ゲートの固有ベクトルは $|0\\rangle$ および $|1\\rangle$ 。ここでは $|1\\rangle$ を使用する。\n",
    "\n",
    "\n",
    "$T^\\dagger = \n",
    "\\begin{bmatrix}\n",
    "1 & 0 \\\\\n",
    "0 & e^{-\\frac{\\pi}{4}i} \\\\\n",
    "\\end{bmatrix}\n",
    "$\n",
    "について、$|1\\rangle = \n",
    "\\begin{bmatrix}\n",
    "0 \\\\\n",
    "1 \\\\\n",
    "\\end{bmatrix}\n",
    "$ に対する固有値は、下記の計算より $e^{-\\frac{\\pi}{4}i}$ であり、したがって $\\theta = \\frac{7}{8}$ が期待される。\n",
    "\n",
    "$$T^\\dagger|1\\rangle = \n",
    "\\begin{bmatrix}\n",
    "1 & 0 \\\\\n",
    "0 & e^{-\\frac{\\pi}{4}i} \\\\\n",
    "\\end{bmatrix}\n",
    "\\begin{bmatrix}\n",
    "0 \\\\\n",
    "1 \\\\\n",
    "\\end{bmatrix}\n",
    "= \n",
    "\\begin{bmatrix}\n",
    "0 \\\\\n",
    "e^{-\\frac{\\pi}{4}i} \\\\\n",
    "\\end{bmatrix}\n",
    "= e^{-\\frac{\\pi}{4}i}|1\\rangle\n",
    "= e^{2\\pi i\\cdot (-\\frac{1}{8}) }|1\\rangle\n",
    "= e^{2\\pi i\\cdot \\frac{7}{8} }|1\\rangle\n",
    "$$\n",
    "\n",
    "\n",
    "\n",
    "\n",
    "\n",
    "\n",
    "$|1\\rangle$ は、Xゲートによって構成できる。\n",
    "\n",
    "制御ユニタリ―演算は、$-\\pi /4$ 回転の制御Pゲートによって構成できる。\n",
    "\n",
    "1-1と同様に、コード・シミュレータおよび実機での結果を以下に示す。"
   ]
  },
  {
   "cell_type": "code",
   "execution_count": 9,
   "id": "9d55ec9f-9e99-44c7-a33f-23ca052cc6dc",
   "metadata": {},
   "outputs": [
    {
     "data": {
      "image/png": "[encoded data removed]",
      "text/plain": [
       "<Figure size 504x360 with 1 Axes>"
      ]
     },
     "execution_count": 9,
     "metadata": {},
     "output_type": "execute_result"
    }
   ],
   "source": [
    "qpe = QuantumCircuit(4, 3)\n",
    "################################\n",
    "# ユニタリ―演算子の固有状態を設定\n",
    "################################\n",
    "#Tdagゲートの場合：固有ベクトルとして|1>を使用\n",
    "qpe.x(3)\n",
    "\n",
    "for qubit in range(3):\n",
    "    qpe.h(qubit)\n",
    "\n",
    "repetitions = 1\n",
    "for counting_qubit in range(3):\n",
    "    for i in range(repetitions):\n",
    "        ################################\n",
    "        # 制御ユニタリ―演算を実行\n",
    "        ################################\n",
    "        #Tdagゲート（-π/4回転のPゲート）の場合\n",
    "        qpe.cp(-math.pi/4, counting_qubit, 3); # C-Tdag\n",
    "        \n",
    "    repetitions *= 2\n",
    "\n",
    "qpe.barrier()\n",
    "\n",
    "# 逆QFTを適用\n",
    "qft_dagger(qpe, 3)\n",
    "\n",
    "# 測定\n",
    "qpe.barrier()\n",
    "for n in range(3):\n",
    "    qpe.measure(n,n)\n",
    "\n",
    "#qpe.draw()\n",
    "aer_sim = Aer.get_backend('aer_simulator')\n",
    "shots = 2048\n",
    "t_qpe = transpile(qpe, aer_sim)\n",
    "qobj = assemble(t_qpe, shots=shots)\n",
    "results = aer_sim.run(qobj).result()\n",
    "answer = results.get_counts()\n",
    "plot_histogram(answer)"
   ]
  },
  {
   "cell_type": "markdown",
   "id": "8f002161-6c02-4d58-8481-799dcb2b2f98",
   "metadata": {},
   "source": [
    "$\\theta = \\frac{111_2}{2^3} = \\frac{7}{8}$ が得られた。\n",
    "\n",
    "実機での実行結果は次の通り。"
   ]
  },
  {
   "cell_type": "code",
   "execution_count": 10,
   "id": "46059a69-d27d-4263-b4e2-0fc408dffa6f",
   "metadata": {},
   "outputs": [
    {
     "name": "stdout",
     "output_type": "stream",
     "text": [
      "Job Status: job has successfully run\n"
     ]
    },
    {
     "data": {
      "image/png": "[encoded data removed]",
      "text/plain": [
       "<Figure size 504x360 with 1 Axes>"
      ]
     },
     "execution_count": 10,
     "metadata": {},
     "output_type": "execute_result"
    }
   ],
   "source": [
    "# Run with 2048 shots\n",
    "shots = 2048\n",
    "t_qpe = transpile(qpe, lima, optimization_level=3)\n",
    "job = lima.run(t_qpe, shots=shots)\n",
    "job_monitor(job)\n",
    "\n",
    "# get the results from the computation\n",
    "results = job.result()\n",
    "answer = results.get_counts(qpe)\n",
    "\n",
    "plot_histogram(answer)"
   ]
  },
  {
   "cell_type": "markdown",
   "id": "08008f66-001d-4ffa-a34a-872091ab3e87",
   "metadata": {},
   "source": [
    "2. 制御Y\n",
    "\n",
    "Yゲートの固有ベクトルは $|i\\rangle$ および $|i-\\rangle$ 。ここでは $|i-\\rangle$ を使用する。\n",
    "\n",
    "\n",
    "\n",
    "$Y = \n",
    "\\begin{bmatrix}\n",
    "0 & -i \\\\\n",
    "i & 0 \\\\\n",
    "\\end{bmatrix}\n",
    "$\n",
    "について、$|i-\\rangle = \n",
    "\\frac{1}{\\sqrt{2}}\n",
    "\\begin{bmatrix}\n",
    "1 \\\\\n",
    "-i \\\\\n",
    "\\end{bmatrix}\n",
    "$ に対する固有値は、下記の計算より $-1$ であり、したがって $\\theta = \\frac{1}{2}$ が期待される。\n",
    "\n",
    "$$Y|i-\\rangle = \n",
    "\\begin{bmatrix}\n",
    "0 & -i \\\\\n",
    "i & 0 \\\\\n",
    "\\end{bmatrix}\n",
    "\\frac{1}{\\sqrt{2}}\n",
    "\\begin{bmatrix}\n",
    "1 \\\\\n",
    "-i \\\\\n",
    "\\end{bmatrix}\n",
    "= \n",
    "\\frac{1}{\\sqrt{2}}\n",
    "\\begin{bmatrix}\n",
    "-1 \\\\\n",
    "i \\\\\n",
    "\\end{bmatrix}\n",
    "= -|i-\\rangle\n",
    "= e^{2\\pi i\\cdot \\frac{1}{2} }|i-\\rangle\n",
    "$$\n",
    "\n",
    "\n",
    "\n",
    "\n",
    "\n",
    "$|i-\\rangle$ は、HゲートおよびSdgゲートによって構成できる。\n",
    "\n",
    "制御ユニタリ―演算は、制御Yゲートによって構成できる。\n",
    "\n",
    "1-1と同様に、コード・シミュレータおよび実機での結果を以下に示す。"
   ]
  },
  {
   "cell_type": "code",
   "execution_count": 11,
   "id": "10fef6dc-c83b-45ba-aa89-8c7accb173ca",
   "metadata": {},
   "outputs": [
    {
     "data": {
      "image/png": "[encoded data removed]",
      "text/plain": [
       "<Figure size 504x360 with 1 Axes>"
      ]
     },
     "execution_count": 11,
     "metadata": {},
     "output_type": "execute_result"
    }
   ],
   "source": [
    "qpe = QuantumCircuit(4, 3)\n",
    "################################\n",
    "# ユニタリ―演算子の固有状態を設定\n",
    "################################\n",
    "#Yゲートの場合：固有ベクトルとして|i->を使用\n",
    "qpe.h(3)\n",
    "qpe.sdg(3)\n",
    "\n",
    "for qubit in range(3):\n",
    "    qpe.h(qubit)\n",
    "\n",
    "repetitions = 1\n",
    "for counting_qubit in range(3):\n",
    "    for i in range(repetitions):\n",
    "        ################################\n",
    "        # 制御ユニタリ―演算を実行\n",
    "        ################################\n",
    "        #Yゲートの場合\n",
    "        qpe.cy(counting_qubit, 3); # C-Y\n",
    "        \n",
    "    repetitions *= 2\n",
    "\n",
    "qpe.barrier()\n",
    "\n",
    "# 逆QFTを適用\n",
    "qft_dagger(qpe, 3)\n",
    "\n",
    "# 測定\n",
    "qpe.barrier()\n",
    "for n in range(3):\n",
    "    qpe.measure(n,n)\n",
    "\n",
    "#qpe.draw()\n",
    "aer_sim = Aer.get_backend('aer_simulator')\n",
    "shots = 2048\n",
    "t_qpe = transpile(qpe, aer_sim)\n",
    "qobj = assemble(t_qpe, shots=shots)\n",
    "results = aer_sim.run(qobj).result()\n",
    "answer = results.get_counts()\n",
    "plot_histogram(answer)"
   ]
  },
  {
   "cell_type": "markdown",
   "id": "55443f43-28c9-4be0-a50f-e976f9d25713",
   "metadata": {},
   "source": [
    "$\\theta = \\frac{100_2}{2^3} = \\frac{4}{8} = \\frac{1}{2}$ が得られた。\n",
    "\n",
    "実機での実行結果は次の通り。"
   ]
  },
  {
   "cell_type": "code",
   "execution_count": 12,
   "id": "00aa4ed4-a9ca-4e93-9af9-6d8fc65137e9",
   "metadata": {},
   "outputs": [
    {
     "name": "stdout",
     "output_type": "stream",
     "text": [
      "Job Status: job has successfully run\n"
     ]
    },
    {
     "data": {
      "image/png": "[encoded data removed]",
      "text/plain": [
       "<Figure size 504x360 with 1 Axes>"
      ]
     },
     "execution_count": 12,
     "metadata": {},
     "output_type": "execute_result"
    }
   ],
   "source": [
    "# Run with 2048 shots\n",
    "shots = 2048\n",
    "t_qpe = transpile(qpe, lima, optimization_level=3)\n",
    "job = lima.run(t_qpe, shots=shots)\n",
    "job_monitor(job)\n",
    "\n",
    "# get the results from the computation\n",
    "results = job.result()\n",
    "answer = results.get_counts(qpe)\n",
    "\n",
    "plot_histogram(answer)"
   ]
  },
  {
   "cell_type": "code",
   "execution_count": null,
   "id": "580288bf-7e01-438e-b8e6-b1d5caf82eec",
   "metadata": {},
   "outputs": [],
   "source": []
  },
  {
   "cell_type": "code",
   "execution_count": null,
   "id": "af9b1f7d-68eb-4608-9de3-792fc40e04cf",
   "metadata": {},
   "outputs": [],
   "source": []
  }
 ],
 "metadata": {
  "kernelspec": {
   "display_name": "Python 3 (ipykernel)",
   "language": "python",
   "name": "python3"
  },
  "language_info": {
   "codemirror_mode": {
    "name": "ipython",
    "version": 3
   },
   "file_extension": ".py",
   "mimetype": "text/x-python",
   "name": "python",
   "nbconvert_exporter": "python",
   "pygments_lexer": "ipython3",
   "version": "3.8.13"
  },
  "widgets": {
   "application/vnd.jupyter.widget-state+json": {
    "state": {},
    "version_major": 2,
    "version_minor": 0
   }
  }
 },
 "nbformat": 4,
 "nbformat_minor": 5
}
