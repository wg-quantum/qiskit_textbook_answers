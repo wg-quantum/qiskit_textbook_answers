{
 "cells": [
  {
   "cell_type": "markdown",
   "id": "32249f31-4e31-4f91-a44c-bee8f962962f",
   "metadata": {},
   "source": [
    "## 7.1 演習\n",
    "\n",
    "NOTゲート（Qiskitではxと表現）、CNOTゲート（Qiskitではcxと表現）、Toffoliゲート（Qiskitではccxと表現）を使用して、XOR、AND、NAND、および ORゲートを実装してください。"
   ]
  },
  {
   "cell_type": "markdown",
   "id": "5f80cf81-d17a-4fba-b4b1-a78e45121efd",
   "metadata": {},
   "source": [
    "例：NOTゲート\n",
    "\n",
    "この関数は、バイナリ文字列入力（ '0'または' 1'）を受け取り、反対のバイナリ出力 を返します。"
   ]
  },
  {
   "cell_type": "markdown",
   "id": "d1938631-1a49-435d-bff3-4dca016e4b9c",
   "metadata": {},
   "source": [
    "古典論理ゲートであるNOTゲートは、量子ゲートではXゲートにあたる。したがってNOTゲートは、Xゲートを用いることで量子回路でのNOTゲートが実装できる。"
   ]
  },
  {
   "cell_type": "code",
   "execution_count": 244,
   "id": "50115095-23bc-414b-b50f-57cf668a4c05",
   "metadata": {},
   "outputs": [],
   "source": [
    "# Qiskit をインポートする\n",
    "from qiskit import *\n",
    "from qiskit.tools.visualization import plot_histogram\n",
    "import numpy as np"
   ]
  },
  {
   "cell_type": "code",
   "execution_count": 245,
   "id": "accf4b62-d4fa-49de-af28-f386af307656",
   "metadata": {},
   "outputs": [],
   "source": [
    "def NOT(input):\n",
    "\n",
    "    q = QuantumRegister(1) # 入力を量子ビットに符号化するための量子レジスター\n",
    "    c = ClassicalRegister(1) # 出力を格納するための古典レジスター\n",
    "    qc = QuantumCircuit(q, c) # 量子回路\n",
    "    \n",
    "    # '0' を |0⟩ に, '1' を |1⟩ に符号化する\n",
    "    # '0'が入力されたら、量子ビットはデフォルトで |0⟩なので何もしない\n",
    "    # '1'が入力されたら、Xゲートを用いて |0⟩ を |1⟩ に変換する\n",
    "    if input=='1':\n",
    "        qc.x( q[0] )\n",
    "        \n",
    "    # Xゲートを用いて NOT を量子回路の上で実装する。\n",
    "    qc.x( q[0] )\n",
    "    \n",
    "    # 最後に、量子状態 |0⟩ または |1⟩ を観測し、古典ビット c[0] に格納する\n",
    "    qc.measure( q[0], c[0] )\n",
    "    \n",
    "    # シミュレーター上で実行する\n",
    "    backend = Aer.get_backend('qasm_simulator')\n",
    "    # 結果は確定的なので、一回の実行結果だけで十分\n",
    "    job = execute(qc,backend,shots=1)\n",
    "    output = next(iter(job.result().get_counts()))\n",
    "    \n",
    "    return output"
   ]
  },
  {
   "cell_type": "markdown",
   "id": "1e85e26e-5a35-47ae-af9d-f5a4858b905d",
   "metadata": {},
   "source": [
    "XORゲート\n",
    "\n",
    "2つのバイナリ文字列を入力として受け取り、1つのバイナリ文字列を出力します。\n",
    "入力が等しい場合、出力は '0'であり、そうでない場合、出力は' 1'です。"
   ]
  },
  {
   "cell_type": "markdown",
   "id": "72dce47f-95f6-40f8-94d0-fcefa18b0156",
   "metadata": {},
   "source": [
    "XORゲートは、CNOTゲートの制御ビットが$|1\\rangle$であるあらば、標的ビットの$|0\\rangle$と$|1\\rangle$を反転させるという性質を用いることで実装できる。"
   ]
  },
  {
   "cell_type": "code",
   "execution_count": 252,
   "id": "74ada725-9dcf-4574-afe0-4db5d94888dc",
   "metadata": {},
   "outputs": [],
   "source": [
    "def XOR(input1,input2):\n",
    "    \n",
    "    q = QuantumRegister(2) # 入力を格納する 2 量子ビット\n",
    "    c = ClassicalRegister(1) # 出力を格納する 1 古典ビット\n",
    "    qc = QuantumCircuit(q, c) # 量子回路\n",
    "    \n",
    "    # '0' を |0⟩ に, '1' を |1⟩ に符号化する\n",
    "    # '0'が入力されたら、量子ビットはデフォルトで |0⟩なので何もしない\n",
    "    # '1'が入力されたら、Xゲートを用いて |0⟩ を |1⟩ に変換する\n",
    "    if input1=='1':\n",
    "        qc.x( q[0] )\n",
    "    if input2=='1': \n",
    "        qc.x( q[1] )\n",
    "        \n",
    "    # CXゲートを用いて XORを量子回路の上で実装する。\n",
    "    qc.cx( q[0],q[1] )    \n",
    "    \n",
    "    qc.measure(q[1],c[0]) # 必要ならここは変更しても良い\n",
    "    \n",
    "    # シミュレーター上で実行する\n",
    "    backend = Aer.get_backend('qasm_simulator')\n",
    "    # 結果は確定的なので、一回の実行結果だけで十分\n",
    "    job = execute(qc,backend,shots=1,memory=True)\n",
    "    output = job.result().get_memory()[0]\n",
    "    \n",
    "    return output"
   ]
  },
  {
   "cell_type": "markdown",
   "id": "ca9178eb-76e5-4394-8fe6-b2f820e0553f",
   "metadata": {},
   "source": [
    "AND ゲート \n",
    "\n",
    "2つのバイナリ文字列を入力として受け取り、1つのバイナリ文字列を出力します。\n",
    "\n",
    "両方の入力が '1'の場合のみ、出力は' 1'になります"
   ]
  },
  {
   "cell_type": "markdown",
   "id": "10a85fff-e9ec-42b6-98fd-cf00976b14f2",
   "metadata": {},
   "source": [
    "ANDゲートは、2つの制御と1つの標的を持つ３量子ビットゲートである、Toffoliゲートを使用することで実装が出来る。\n",
    "Toffoliゲートの特徴は、2つの制御ビットが$|1\\rangle$の状態のときのみ標的ビットが反転することである。"
   ]
  },
  {
   "cell_type": "code",
   "execution_count": 253,
   "id": "5d3484b8-0528-41af-a222-0afec92072ab",
   "metadata": {},
   "outputs": [],
   "source": [
    "def AND(input1,input2):\n",
    "    \n",
    "    q = QuantumRegister(3) # 入力を格納する 2 量子ビットと出力を格納する 1 量子ビット\n",
    "    c = ClassicalRegister(1) # 出力を格納する 1 古典ビット\n",
    "    qc = QuantumCircuit(q, c) # 量子回路\n",
    "    \n",
    "    if input1=='1':\n",
    "        qc.x( q[0] )\n",
    "    if input2=='1': \n",
    "        qc.x( q[1] )    \n",
    "       \n",
    "    # CCXゲートを用いてANDゲートを量子回路の上で実装する。\n",
    "    qc.ccx( q[0], q[1], q[2] )\n",
    "    \n",
    "    qc.measure(q[2],c[0]) # 必要ならここは変更しても良い\n",
    "    \n",
    "    # シミュレーター上で実行する\n",
    "    backend = Aer.get_backend('qasm_simulator')\n",
    "    # 結果は確定的なので、一回の実行結果だけで十分\n",
    "    job = execute(qc,backend,shots=1,memory=True)\n",
    "    output = job.result().get_memory()[0]\n",
    "    \n",
    "    return output"
   ]
  },
  {
   "cell_type": "markdown",
   "id": "b2eca6a6-6f09-463a-9f8a-dd7134d7686f",
   "metadata": {},
   "source": [
    "NAND ゲート \n",
    "\n",
    "2つのバイナリ文字列を入力として受け取り、1つのバイナリ文字列を出力します。\n",
    "\n",
    "両方の入力が '1'の場合のみ、出力は'0'になります。"
   ]
  },
  {
   "cell_type": "markdown",
   "id": "ffad145b-3ad0-46c3-81f5-ad5dbb5b5a5b",
   "metadata": {},
   "source": [
    "NANDゲートは、Toffoliゲートを適用した後、Xゲートを適用することで実装ができる。"
   ]
  },
  {
   "cell_type": "code",
   "execution_count": null,
   "id": "358b1f54-2142-44fc-a592-8395a3ddd2ae",
   "metadata": {},
   "outputs": [],
   "source": [
    "def NAND(input1,input2):\n",
    "  \n",
    "    q = QuantumRegister(3) # 入力を格納する 2 量子ビットと出力を格納する 1 量子ビット\n",
    "    c = ClassicalRegister(1) # 出力を格納する 1 古典ビット\n",
    "    qc = QuantumCircuit(q, c) # 量子回路\n",
    "    \n",
    "    if input1=='1':\n",
    "        qc.x( q[0] )\n",
    "    if input2=='1': \n",
    "        qc.x( q[1] )\n",
    "    # CCXゲートとXゲート用いてNANDを量子回路の上で実装する。\n",
    "    qc.ccx( q[0], q[1], q[2] )\n",
    "    qc.x( q[2] )        \n",
    "    \n",
    "    \n",
    "    qc.measure(q[2],c[0]) # 必要ならここは変更しても良い\n",
    "    \n",
    "    # シミュレーター上で実行する\n",
    "    backend = Aer.get_backend('qasm_simulator')\n",
    "    # 結果は確定的なので、一回の実行結果だけで十分\n",
    "    job = execute(qc,backend,shots=1,memory=True)\n",
    "    output = job.result().get_memory()[0]\n",
    "    \n",
    "    return output"
   ]
  },
  {
   "cell_type": "markdown",
   "id": "8913daee-a719-4a2e-8389-5b0e77b84f2a",
   "metadata": {},
   "source": [
    "OR ゲート \n",
    "2つのバイナリ文字列を入力として受け取り、1つのバイナリ文字列を出力します。\n",
    "\n",
    "いずれかの入力が '1'の場合、出力は'1'になります。"
   ]
  },
  {
   "cell_type": "markdown",
   "id": "31b5f0b5-91a8-4d93-8fe8-6b0151732cc8",
   "metadata": {},
   "source": [
    "NANDゲートは、CNOTを2回適用し、Toffoliゲートを適用することで実装ができる。"
   ]
  },
  {
   "cell_type": "code",
   "execution_count": 254,
   "id": "d55cb1d8-b181-42dd-aad5-6f18790082d6",
   "metadata": {},
   "outputs": [],
   "source": [
    "def OR(input1,input2):\n",
    "  \n",
    "    q = QuantumRegister(3) # 入力を格納する 2 量子ビットと出力を格納する 1 量子ビット\n",
    "    c = ClassicalRegister(1) # 出力を格納する 1 古典ビット\n",
    "    qc = QuantumCircuit(q, c) # 量子回路\n",
    "    \n",
    "    if input1=='1':\n",
    "        qc.x( q[0] )\n",
    "    if input2=='1': \n",
    "        qc.x( q[1] )\n",
    "    \n",
    "    # CXゲートを2回、Xゲートを1回を用いてNANDを量子回路の上で実装する。\n",
    "    qc.cx( q[1], q[2] )\n",
    "    qc.cx( q[0], q[2] )\n",
    "    qc.ccx( q[0], q[1], q[2] )    \n",
    "    \n",
    "    qc.measure(q[2],c[0]) # 必要ならここは変更しても良い\n",
    "    \n",
    "    # シミュレーター上で実行する\n",
    "    backend = Aer.get_backend('qasm_simulator')\n",
    "    # 結果は確定的なので、一回の実行結果だけで十分\n",
    "    job = execute(qc,backend,shots=1,memory=True)\n",
    "    output = job.result().get_memory()[0]\n",
    "    \n",
    "    return output"
   ]
  },
  {
   "cell_type": "markdown",
   "id": "d9c4ce7b-27bb-43c4-81ef-f9d7d60c9157",
   "metadata": {},
   "source": [
    "検証\n",
    "\n",
    "次のコードを実行し、すべての可能な入力に対して上記の関数が機能するかどうかを確認してください。"
   ]
  },
  {
   "cell_type": "markdown",
   "id": "5b73bd11-76d4-4ffa-9c77-c164ab9e3d12",
   "metadata": {},
   "source": [
    "次のコードを実行することで、NOT、XOR、AND、NAND、および ORゲートの出力結果が想定通りかが確認ができる。\n",
    "出力結果の答えは、Qiskit テキストブック \"7.1\"の検証の項目で確認可能。"
   ]
  },
  {
   "cell_type": "code",
   "execution_count": 250,
   "id": "687556b1-f450-42c7-ab7c-08dad9eaddfd",
   "metadata": {},
   "outputs": [
    {
     "name": "stdout",
     "output_type": "stream",
     "text": [
      "\n",
      "Results for the NOT gate\n",
      "    Input 0 gives output 1\n",
      "    Input 1 gives output 0\n",
      "\n",
      "Results for the XOR gate\n",
      "    Inputs 0 0 give output 0\n",
      "    Inputs 0 1 give output 1\n",
      "    Inputs 1 0 give output 1\n",
      "    Inputs 1 1 give output 0\n",
      "\n",
      "Results for the AND gate\n",
      "    Inputs 0 0 give output 0\n",
      "    Inputs 0 1 give output 0\n",
      "    Inputs 1 0 give output 0\n",
      "    Inputs 1 1 give output 1\n",
      "\n",
      "Results for the NAND gate\n",
      "    Inputs 0 0 give output 1\n",
      "    Inputs 0 1 give output 1\n",
      "    Inputs 1 0 give output 1\n",
      "    Inputs 1 1 give output 0\n",
      "\n",
      "Results for the OR gate\n",
      "    Inputs 0 0 give output 0\n",
      "    Inputs 0 1 give output 1\n",
      "    Inputs 1 0 give output 1\n",
      "    Inputs 1 1 give output 1\n"
     ]
    }
   ],
   "source": [
    "print('\\nResults for the NOT gate')\n",
    "for input in ['0','1']:\n",
    "    print('    Input',input,'gives output',NOT(input))\n",
    "    \n",
    "print('\\nResults for the XOR gate')\n",
    "for input1 in ['0','1']:\n",
    "    for input2 in ['0','1']:\n",
    "        print('    Inputs',input1,input2,'give output',XOR(input1,input2))\n",
    "\n",
    "print('\\nResults for the AND gate')\n",
    "for input1 in ['0','1']:\n",
    "    for input2 in ['0','1']:\n",
    "        print('    Inputs',input1,input2,'give output',AND(input1,input2))\n",
    "\n",
    "print('\\nResults for the NAND gate')\n",
    "for input1 in ['0','1']:\n",
    "    for input2 in ['0','1']:\n",
    "        print('    Inputs',input1,input2,'give output',NAND(input1,input2))\n",
    "\n",
    "print('\\nResults for the OR gate')\n",
    "for input1 in ['0','1']:\n",
    "    for input2 in ['0','1']:\n",
    "        print('    Inputs',input1,input2,'give output',OR(input1,input2))"
   ]
  },
  {
   "cell_type": "markdown",
   "id": "6ac99135-46b9-4f50-b9ae-1ee86ff1ea4b",
   "metadata": {},
   "source": [
    "テキストブックと併せて検証の結果をみると、Input に対して outputの数字がテ期待したものであることから、関数が機能していることが確認できた。"
   ]
  },
  {
   "cell_type": "code",
   "execution_count": null,
   "id": "e63f842a-852d-455f-bf2c-46c29ea807f4",
   "metadata": {},
   "outputs": [],
   "source": []
  }
 ],
 "metadata": {
  "kernelspec": {
   "display_name": "Python 3 (ipykernel)",
   "language": "python",
   "name": "python3"
  },
  "language_info": {
   "codemirror_mode": {
    "name": "ipython",
    "version": 3
   },
   "file_extension": ".py",
   "mimetype": "text/x-python",
   "name": "python",
   "nbconvert_exporter": "python",
   "pygments_lexer": "ipython3",
   "version": "3.8.13"
  },
  "widgets": {
   "application/vnd.jupyter.widget-state+json": {
    "state": {},
    "version_major": 2,
    "version_minor": 0
   }
  }
 },
 "nbformat": 4,
 "nbformat_minor": 5
}
