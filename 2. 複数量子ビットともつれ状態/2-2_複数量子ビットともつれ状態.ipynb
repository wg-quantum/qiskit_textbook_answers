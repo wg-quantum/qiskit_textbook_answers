{
 "cells": [
  {
   "cell_type": "markdown",
   "id": "6fb6e18f",
   "metadata": {},
   "source": [
    "$$\\newcommand{\\ket}[1]{\\left|{#1}\\right\\rangle}$$\n",
    "$$\\newcommand{\\bra}[1]{\\left\\langle{#1}\\right|}$$"
   ]
  },
  {
   "cell_type": "markdown",
   "id": "3f73bb65",
   "metadata": {},
   "source": [
    "## 1.1 練習問題: "
   ]
  },
  {
   "cell_type": "markdown",
   "id": "bb2cd210",
   "metadata": {},
   "source": [
    "### 1.\n",
    "次の量子ビットのテンソル積の(状態)ベクトルを書け。\n",
    "***"
   ]
  },
  {
   "cell_type": "markdown",
   "id": "8ad9c381",
   "metadata": {},
   "source": [
    "$\n",
    "\\quad\\mathbf{a)}\n",
    "\\quad \\ket{0}\\otimes \\ket{1} = \\left[\\begin{array}{c} 1\\\\ 0\\end{array}\\right] \\otimes \\left[\\begin{array}{c} 0\\\\ 1\\end{array}\\right] = \\left[\\begin{array}{c} 0\\\\ 1\\\\ 0\\\\ 0\\end{array}\\right]\n",
    "$"
   ]
  },
  {
   "cell_type": "markdown",
   "id": "4cead110",
   "metadata": {},
   "source": [
    "$\n",
    "\\quad\\mathbf{b)}\n",
    "\\quad \\ket{0}\\otimes\\ket{+} = \\ket{0}\\otimes\\frac{1}{\\sqrt{2}}(\\ket{0}+\\ket{1}) = \\left[\\begin{array}{c} 1\\\\ 0\\end{array}\\right] \\otimes \\frac{1}{\\sqrt{2}}\\left[\\begin{array}{c} 1\\\\ 1\\end{array}\\right]\n",
    "=\\frac{1}{\\sqrt{2}}\\left[\\begin{array}{c} 1\\\\ 1\\\\ 0\\\\ 0\\end{array}\\right]\n",
    "$"
   ]
  },
  {
   "cell_type": "markdown",
   "id": "888b0c6e",
   "metadata": {},
   "source": [
    "$\n",
    "\\quad\\mathbf{c)}\n",
    "\\quad \\ket{+}\\otimes\\ket{1} = \\frac{1}{\\sqrt{2}}(\\ket{0}+\\ket{1}) \\otimes \\ket{1}= \\frac{1}{\\sqrt{2}}\\left[\\begin{array}{c} 1\\\\ 1\\end{array}\\right] \\otimes \\left[\\begin{array}{c} 0\\\\ 1\\end{array}\\right] = \\frac{1}{\\sqrt{2}}\\left[\\begin{array}{c} 0\\\\ 1\\\\ 0\\\\ 1\\end{array}\\right]\n",
    "$"
   ]
  },
  {
   "cell_type": "markdown",
   "id": "b1a806c5",
   "metadata": {},
   "source": [
    "$\n",
    "\\quad\\mathbf{d)}\n",
    "\\quad \\ket{-}\\otimes\\ket{+} = \\frac{1}{\\sqrt{2}}(\\ket{0}-\\ket{1}) \\otimes \\frac{1}{\\sqrt{2}}(\\ket{0}+\\ket{1})\n",
    "=\\frac{1}{\\sqrt{2}}\\left[\\begin{array}{c} 1\\\\ -1\\end{array}\\right] \\otimes \\frac{1}{\\sqrt{2}}\\left[\\begin{array}{c} 1\\\\ 1\\end{array}\\right] = \\frac{1}{2}\\left[\\begin{array}{c} 1\\\\ 1\\\\ -1\\\\ -1\\end{array}\\right]\n",
    "$"
   ]
  },
  {
   "cell_type": "markdown",
   "id": "c87ae696",
   "metadata": {},
   "source": [
    "### 2.\n",
    "状態を2つの別々の量子ビットとして記述せよ。 $\\ket{\\psi}=\\frac{1}{\\sqrt{2}}\\ket{00}+\\frac{i}{\\sqrt{2}}\\ket{01}$\n",
    "***"
   ]
  },
  {
   "cell_type": "markdown",
   "id": "906be1ff",
   "metadata": {},
   "source": [
    "$\n",
    "\\quad \\ket{\\psi} = \\frac{1}{\\sqrt{2}}\\ket{00}+\\frac{i}{\\sqrt{2}}\\ket{01} = \\ket{0} \\otimes \\frac{1}{\\sqrt{2}}(\\ket{0}+i\\ket{1})\n",
    "$"
   ]
  },
  {
   "cell_type": "markdown",
   "id": "9e753970",
   "metadata": {},
   "source": [
    "※注：別々の2量子ビットの積として書けるので、$\\ket{\\psi}$はもつれ状態では__ない__。"
   ]
  },
  {
   "cell_type": "markdown",
   "id": "15045186",
   "metadata": {},
   "source": [
    "================================================================================================================"
   ]
  },
  {
   "cell_type": "markdown",
   "id": "a404ca43",
   "metadata": {},
   "source": [
    "## 2.1 練習問題:"
   ]
  },
  {
   "cell_type": "markdown",
   "id": "1004541e",
   "metadata": {},
   "source": [
    "### 1.\n",
    "次の一連のゲートにより作成される単一量子ビットユニタリー (U) を計算せよ。$U=XZH$  \n",
    "結果の確認にはQiskitのunitary simulatorを使用すること。\n",
    "***"
   ]
  },
  {
   "cell_type": "markdown",
   "id": "1aa57a30",
   "metadata": {},
   "source": [
    "$\n",
    "\\quad U=XZH\n",
    "$\n",
    "をunitary simulatorで確認する。"
   ]
  },
  {
   "cell_type": "code",
   "execution_count": 1,
   "id": "6b08b8dc",
   "metadata": {},
   "outputs": [],
   "source": [
    "from qiskit import *\n",
    "from math import pi\n",
    "import numpy as np\n",
    "from qiskit.visualization import plot_bloch_multivector, plot_histogram"
   ]
  },
  {
   "cell_type": "code",
   "execution_count": 2,
   "id": "54f66166",
   "metadata": {},
   "outputs": [
    {
     "data": {
      "image/png": "[encoded data removed]",
      "text/plain": [
       "<Figure size 253.926x84.28 with 1 Axes>"
      ]
     },
     "execution_count": 2,
     "metadata": {},
     "output_type": "execute_result"
    }
   ],
   "source": [
    "qc1 = QuantumCircuit(1)\n",
    "qc1.h(0)\n",
    "qc1.z(0)\n",
    "qc1.x(0)\n",
    "qc1.draw('mpl')"
   ]
  },
  {
   "cell_type": "code",
   "execution_count": 3,
   "id": "ce4169be",
   "metadata": {},
   "outputs": [
    {
     "data": {
      "text/latex": [
       "$$\n",
       "U = XZH =\n",
       "\\begin{bmatrix}\n",
       "-\\tfrac{1}{\\sqrt{2}} & \\tfrac{1}{\\sqrt{2}}  \\\\\n",
       " \\tfrac{1}{\\sqrt{2}} & \\tfrac{1}{\\sqrt{2}}  \\\\\n",
       " \\end{bmatrix}\n",
       "$$"
      ],
      "text/plain": [
       "<IPython.core.display.Latex object>"
      ]
     },
     "execution_count": 3,
     "metadata": {},
     "output_type": "execute_result"
    }
   ],
   "source": [
    "backend = Aer.get_backend('unitary_simulator')\n",
    "unitary1 = execute(qc1,backend).result().get_unitary()\n",
    "\n",
    "from qiskit.visualization import array_to_latex\n",
    "array_to_latex(unitary1, prefix=\"U = XZH =\")"
   ]
  },
  {
   "cell_type": "markdown",
   "id": "a7ca8862",
   "metadata": {},
   "source": [
    "### 2.\n",
    "上記の回路についてゲートを変更してみよ。テンソル積を計算し、unitary simulatorを用いて答え合わせをせよ。\n",
    "***"
   ]
  },
  {
   "cell_type": "markdown",
   "id": "0ab2114b",
   "metadata": {},
   "source": [
    "例えば、テキストで例示されている $X \\otimes H$ の $X$ を $Z$ に変更してみる。"
   ]
  },
  {
   "cell_type": "code",
   "execution_count": 4,
   "id": "a817250b",
   "metadata": {},
   "outputs": [
    {
     "data": {
      "image/png": "[encoded data removed]",
      "text/plain": [
       "<Figure size 146.652x144.48 with 1 Axes>"
      ]
     },
     "execution_count": 4,
     "metadata": {},
     "output_type": "execute_result"
    }
   ],
   "source": [
    "qc2 = QuantumCircuit(2)\n",
    "qc2.h(0)\n",
    "qc2.z(1)\n",
    "qc2.draw('mpl')"
   ]
  },
  {
   "cell_type": "code",
   "execution_count": 5,
   "id": "a2c67432",
   "metadata": {},
   "outputs": [
    {
     "data": {
      "text/latex": [
       "$$\n",
       "Z \\otimes H =\n",
       "\\begin{bmatrix}\n",
       "\\tfrac{1}{\\sqrt{2}} & \\tfrac{1}{\\sqrt{2}} & 0 & 0  \\\\\n",
       " \\tfrac{1}{\\sqrt{2}} & -\\tfrac{1}{\\sqrt{2}} & 0 & 0  \\\\\n",
       " 0 & 0 & -\\tfrac{1}{\\sqrt{2}} & -\\tfrac{1}{\\sqrt{2}}  \\\\\n",
       " 0 & 0 & -\\tfrac{1}{\\sqrt{2}} & \\tfrac{1}{\\sqrt{2}}  \\\\\n",
       " \\end{bmatrix}\n",
       "$$"
      ],
      "text/plain": [
       "<IPython.core.display.Latex object>"
      ]
     },
     "execution_count": 5,
     "metadata": {},
     "output_type": "execute_result"
    }
   ],
   "source": [
    "backend = Aer.get_backend('unitary_simulator')\n",
    "unitary2 = execute(qc2,backend).result().get_unitary()\n",
    "\n",
    "from qiskit.visualization import array_to_latex\n",
    "array_to_latex(unitary2, prefix=\"Z \\otimes H =\")"
   ]
  },
  {
   "cell_type": "markdown",
   "id": "f07afdc8",
   "metadata": {},
   "source": [
    "この結果は正しい。（ $Z$ の非ゼロ要素に $H$ がブロックとしてそのまま掛かった構造になっていることからすぐに分かる）"
   ]
  },
  {
   "cell_type": "markdown",
   "id": "61de2578",
   "metadata": {},
   "source": [
    "================================================================================================================"
   ]
  },
  {
   "cell_type": "markdown",
   "id": "58708c66",
   "metadata": {},
   "source": [
    "## 3.4 練習問題:"
   ]
  },
  {
   "cell_type": "markdown",
   "id": "c6ecf4ec",
   "metadata": {},
   "source": [
    "### 1.\n",
    "以下のベル状態を作り出す量子回路を作成せよ。 $\\frac{1}{\\sqrt{2}}(\\ket{01}+\\ket{10})$  \n",
    "状態ベクトルシミュレーターを使用して結果を検証せよ。\n",
    "***"
   ]
  },
  {
   "cell_type": "markdown",
   "id": "d8664725",
   "metadata": {},
   "source": [
    "以下のように、 片方のビットの入力を$\\ket{1}$にしておいてから、 $H$, $CX$ を順に作用させることで作ることができる。"
   ]
  },
  {
   "cell_type": "markdown",
   "id": "4eb0915b",
   "metadata": {},
   "source": [
    "$\n",
    "\\ket{00} \\xrightarrow{X(\\rm{bit}1)} \\ket{01} \\xrightarrow {H(\\rm{bit}0)} \\frac{1}{\\sqrt{2}}(\\ket{01}+\\ket{11})\\xrightarrow{CX(\\rm{bit}0,\\rm{bit}1)} \\frac{1}{\\sqrt{2}}(\\ket{01}+\\ket{10})\n",
    "$"
   ]
  },
  {
   "cell_type": "code",
   "execution_count": 6,
   "id": "68d853f0",
   "metadata": {},
   "outputs": [
    {
     "data": {
      "image/png": "[encoded data removed]",
      "text/plain": [
       "<Figure size 206.852x144.48 with 1 Axes>"
      ]
     },
     "execution_count": 6,
     "metadata": {},
     "output_type": "execute_result"
    }
   ],
   "source": [
    "qc_bell = QuantumCircuit(2)\n",
    "qc_bell.x(1)\n",
    "qc_bell.h(0)\n",
    "qc_bell.cx(0,1)\n",
    "qc_bell.draw('mpl')"
   ]
  },
  {
   "cell_type": "markdown",
   "id": "9b6a6fd0",
   "metadata": {},
   "source": [
    "実際、ベクトルシミュレーターを使用して、$\\ket{01}$と$\\ket{10}$のみが等しい振幅で重ね合わせられた状態になっていることが分かる。"
   ]
  },
  {
   "cell_type": "code",
   "execution_count": 7,
   "id": "2e8ba405",
   "metadata": {},
   "outputs": [
    {
     "data": {
      "text/latex": [
       "$$\n",
       "\\text{statevector = }\n",
       "\\begin{bmatrix}\n",
       "0 & \\tfrac{1}{\\sqrt{2}} & \\tfrac{1}{\\sqrt{2}} & 0  \\\\\n",
       " \\end{bmatrix}\n",
       "$$"
      ],
      "text/plain": [
       "<IPython.core.display.Latex object>"
      ]
     },
     "execution_count": 7,
     "metadata": {},
     "output_type": "execute_result"
    }
   ],
   "source": [
    "backend = Aer.get_backend('statevector_simulator')\n",
    "final_state = execute(qc_bell,backend).result().get_statevector()\n",
    "array_to_latex(final_state, prefix=\"\\\\text{statevector = }\")"
   ]
  },
  {
   "cell_type": "code",
   "execution_count": 8,
   "id": "79549b48",
   "metadata": {},
   "outputs": [
    {
     "data": {
      "image/png": "[encoded data removed]",
      "text/plain": [
       "<Figure size 504x360 with 1 Axes>"
      ]
     },
     "execution_count": 8,
     "metadata": {},
     "output_type": "execute_result"
    }
   ],
   "source": [
    "results = execute(qc_bell,backend).result().get_counts()\n",
    "plot_histogram(results)"
   ]
  },
  {
   "cell_type": "markdown",
   "id": "8f53aec5",
   "metadata": {},
   "source": [
    "### 2. \n",
    "設問1にて作成した回路は状態$\\ket{00}$を$\\frac{1}{\\sqrt{2}}(\\ket{01}+\\ket{10})$に変換するものである。  \n",
    "この回路のユニタリー行列をQiskitシミュレータを使用して計算せよ。このユニタリー行列が正しい変換を行えることを検証せよ。\n",
    "***"
   ]
  },
  {
   "cell_type": "markdown",
   "id": "7bd2969f",
   "metadata": {},
   "source": [
    "上の問題1.で作成した回路を、unitary simulatorを用いてユニタリ行列で表示する。"
   ]
  },
  {
   "cell_type": "code",
   "execution_count": 9,
   "id": "58b4f385",
   "metadata": {},
   "outputs": [
    {
     "data": {
      "text/latex": [
       "$$\n",
       "U =\n",
       "\\begin{bmatrix}\n",
       "0 & 0 & \\tfrac{1}{\\sqrt{2}} & \\tfrac{1}{\\sqrt{2}}  \\\\\n",
       " \\tfrac{1}{\\sqrt{2}} & -\\tfrac{1}{\\sqrt{2}} & 0 & 0  \\\\\n",
       " \\tfrac{1}{\\sqrt{2}} & \\tfrac{1}{\\sqrt{2}} & 0 & 0  \\\\\n",
       " 0 & 0 & \\tfrac{1}{\\sqrt{2}} & -\\tfrac{1}{\\sqrt{2}}  \\\\\n",
       " \\end{bmatrix}\n",
       "$$"
      ],
      "text/plain": [
       "<IPython.core.display.Latex object>"
      ]
     },
     "execution_count": 9,
     "metadata": {},
     "output_type": "execute_result"
    }
   ],
   "source": [
    "backend = Aer.get_backend('unitary_simulator')\n",
    "unitary = execute(qc_bell,backend).result().get_unitary()\n",
    "\n",
    "from qiskit.visualization import array_to_latex\n",
    "array_to_latex(unitary, prefix=\"U =\")"
   ]
  },
  {
   "cell_type": "markdown",
   "id": "963a7444",
   "metadata": {},
   "source": [
    "実際,"
   ]
  },
  {
   "cell_type": "markdown",
   "id": "9314a768",
   "metadata": {},
   "source": [
    "$\n",
    "U\\ket{00}=\\begin{bmatrix} 0&0&\\frac{1}{\\sqrt{2}}&\\frac{1}{\\sqrt{2}} \\\\ \\frac{1}{\\sqrt{2}}&-\\frac{1}{\\sqrt{2}}&0&0 \n",
    "\\\\ \\frac{1}{\\sqrt{2}}&\\frac{1}{\\sqrt{2}}&0&0 \\\\ 0&0&\\frac{1}{\\sqrt{2}}&-\\frac{1}{\\sqrt{2}}\n",
    "\\end{bmatrix} \\begin{bmatrix} 1\\\\0\\\\0\\\\0\\end{bmatrix}\n",
    "=\n",
    "\\begin{bmatrix} 0\\\\\\frac{1}{\\sqrt{2}}\\\\\\frac{1}{\\sqrt{2}}\\\\0\\end{bmatrix}\n",
    "=\n",
    "\\frac{1}{\\sqrt{2}}\\begin{bmatrix} 0\\\\1\\\\0\\\\0\\end{bmatrix} + \\frac{1}{\\sqrt{2}}\\begin{bmatrix} 0\\\\0\\\\1\\\\0\\end{bmatrix}\n",
    "=\n",
    "\\frac{1}{\\sqrt{2}}(\\ket{01}+\\ket{10})\n",
    "$"
   ]
  },
  {
   "cell_type": "markdown",
   "id": "5a0ed70b",
   "metadata": {},
   "source": [
    "となり、 正しい変換になっていることが分かる。"
   ]
  },
  {
   "cell_type": "markdown",
   "id": "687c3486",
   "metadata": {},
   "source": [
    "### 3."
   ]
  },
  {
   "cell_type": "markdown",
   "id": "74379625",
   "metadata": {},
   "source": [
    "状態ベクトルを視覚的に表現する他の方法について考えてみよ。各振幅の大きさと位相を読み取ることができる、興味深い視覚化をデザインできるか？\n",
    "***"
   ]
  },
  {
   "cell_type": "markdown",
   "id": "2d68d6b4",
   "metadata": {},
   "source": [
    "例えば IBM Quantum Composer のドキュメント (https://quantum-computing.ibm.com/composer/docs/iqx/visualizations) には、Q-sphereを含むいくつかの可視化の方法が提案されている。\n",
    "\n",
    "読者も考えられたい。"
   ]
  },
  {
   "cell_type": "code",
   "execution_count": null,
   "id": "604ebd07",
   "metadata": {},
   "outputs": [],
   "source": []
  }
 ],
 "metadata": {
  "kernelspec": {
   "display_name": "Python 3 (ipykernel)",
   "language": "python",
   "name": "python3"
  },
  "language_info": {
   "codemirror_mode": {
    "name": "ipython",
    "version": 3
   },
   "file_extension": ".py",
   "mimetype": "text/x-python",
   "name": "python",
   "nbconvert_exporter": "python",
   "pygments_lexer": "ipython3",
   "version": "3.10.0"
  }
 },
 "nbformat": 4,
 "nbformat_minor": 5
}
