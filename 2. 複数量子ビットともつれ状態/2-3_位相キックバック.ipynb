{
 "cells": [
  {
   "cell_type": "markdown",
   "metadata": {},
   "source": [
    "1. 標的量子ビット（q1）が|0⟩の状態にある場合、制御量子ビット（q0）の状態はどのような結果になりますか？ Qiskitで回路を作成して、答えを確認してみましょう。"
   ]
  },
  {
   "cell_type": "code",
   "execution_count": null,
   "metadata": {},
   "outputs": [],
   "source": [
    "from qiskit import QuantumCircuit, Aer, assemble\n",
    "from math import pi\n",
    "import numpy as np\n",
    "from qiskit.visualization import plot_bloch_multivector, plot_histogram, array_to_latex\n",
    "\n",
    "qc = QuantumCircuit(2)\n",
    "# 制御量子ビットにアダマールゲートを適用\n",
    "qc.h(0)\n",
    "# 制御Tゲートを適用\n",
    "qc.cp(pi/4, 0, 1)\n",
    "display(qc.draw())\n",
    "\n",
    "# ブロッホ球に結果出力\n",
    "svsim = Aer.get_backend('aer_simulator')\n",
    "qc.save_statevector()\n",
    "qobj = assemble(qc)\n",
    "final_state = svsim.run(qobj).result().get_statevector()\n",
    "plot_bloch_multivector(final_state)"
   ]
  },
  {
   "cell_type": "markdown",
   "metadata": {},
   "source": [
    "A. 制御量子ビット（q0）の状態は変化しない、これは標的量子ビットにTゲートを適用したときの固有値が1だからである。\n",
    "$$Controlled-T\\ket{+0} = \\frac{1}{\\sqrt2} \\begin{bmatrix} 1 & 0 & 0 & 0 \\\\ 0 & 1 & 0 & 0 \\\\ 0 & 0 & 1 & 0 \\\\ 0 & 0 & 0 & \\exp(i\\pi/4) \\end{bmatrix}\\begin{bmatrix} 1 \\\\ 0 \\\\ 1 \\\\ 0 \\end{bmatrix} = \\frac{1}{\\sqrt2} \\begin{bmatrix} 1 \\\\ 0 \\\\ 1 \\\\ 0 \\end{bmatrix} = \\frac{1}{\\sqrt2} \\begin{bmatrix} 1 \\\\ 1 \\end{bmatrix} \\otimes \\begin{bmatrix} 1 \\\\ 0 \\end{bmatrix} = \\ket{+} \\otimes \\ket{0}"
   ]
  },
  {
   "cell_type": "markdown",
   "metadata": {},
   "source": [
    "2. 標的量子ビット（q1）が|1⟩の状態で、回路が制御Tではなく制御Sdgゲートを使用した場合、制御量子ビット（q0）はどうなりますか？"
   ]
  },
  {
   "cell_type": "code",
   "execution_count": null,
   "metadata": {},
   "outputs": [],
   "source": [
    "from qiskit import QuantumCircuit, Aer, assemble\n",
    "from math import pi\n",
    "import numpy as np\n",
    "from qiskit.visualization import plot_bloch_multivector, plot_histogram, array_to_latex\n",
    "\n",
    "qc = QuantumCircuit(2)\n",
    "# 制御量子ビットにアダマールゲートを適用\n",
    "qc.h(0)\n",
    "# 標的量子ビットにXゲートを適用\n",
    "qc.x(1)\n",
    "# 制御Sdgゲートを適用\n",
    "qc.cp(-pi/2, 0, 1)\n",
    "display(qc.draw())\n",
    "\n",
    "# ブロッホ球に結果出力\n",
    "svsim = Aer.get_backend('aer_simulator')\n",
    "qc.save_statevector()\n",
    "qobj = assemble(qc)\n",
    "final_state = svsim.run(qobj).result().get_statevector()\n",
    "plot_bloch_multivector(final_state)"
   ]
  },
  {
   "cell_type": "markdown",
   "metadata": {},
   "source": [
    "A. ブロッホ球のZ軸回りに-π/2回転した状態となる。これは標的量子ビットにTゲートを適用したときの固有値が$\\exp(-i\\pi /2)$だからである。\n",
    "$$Controlled-Sdg\\ket{+1} = \\frac{1}{\\sqrt2} \\begin{bmatrix} 1 & 0 & 0 & 0 \\\\ 0 & 1 & 0 & 0 \\\\ 0 & 0 & 1 & 0 \\\\ 0 & 0 & 0 & \\exp(-i\\pi/2) \\end{bmatrix}\\begin{bmatrix} 1 \\\\ 0 \\\\ 0 \\\\ 1 \\end{bmatrix} = \\frac{1}{\\sqrt2} \\begin{bmatrix} 1 \\\\ 0 \\\\ 0 \\\\ \\exp(-i\\pi/2) \\end{bmatrix} = \\frac{1}{\\sqrt2} \\begin{bmatrix} 1 \\\\ \\exp(-i\\pi/2)  \\end{bmatrix} \\otimes \\begin{bmatrix} 0 \\\\ 1 \\end{bmatrix} = \\frac{1}{\\sqrt2} (\\ket{0} + \\exp(-i\\pi/2) \\ket{1}) \\otimes \\ket{1}"
   ]
  },
  {
   "cell_type": "markdown",
   "metadata": {},
   "source": [
    "参考：制御sdgゲートを使用する前の制御量子ビット、標的量子ビットの状態"
   ]
  },
  {
   "cell_type": "code",
   "execution_count": null,
   "metadata": {},
   "outputs": [],
   "source": [
    "from qiskit import QuantumCircuit, Aer, assemble\n",
    "from math import pi\n",
    "import numpy as np\n",
    "from qiskit.visualization import plot_bloch_multivector, plot_histogram, array_to_latex\n",
    "\n",
    "qc = QuantumCircuit(2)\n",
    "# 制御量子ビットにアダマールゲートを適用\n",
    "qc.h(0)\n",
    "# 標的量子ビットにXゲートを適用\n",
    "qc.x(1)\n",
    "display(qc.draw())\n",
    "\n",
    "# ブロッホ球に結果出力\n",
    "svsim1 = Aer.get_backend('aer_simulator')\n",
    "qc.save_statevector()\n",
    "qobj1 = assemble(qc)\n",
    "first_state = svsim1.run(qobj1).result().get_statevector()\n",
    "plot_bloch_multivector(first_state)\n"
   ]
  },
  {
   "cell_type": "markdown",
   "metadata": {},
   "source": [
    "3. 制御量子ビット（q0）の制御Tを適用する前の状態が|+⟩ではなく、|1⟩の状態にあった場合、制御量子ビット（q0）はどうなりますか？"
   ]
  },
  {
   "cell_type": "code",
   "execution_count": null,
   "metadata": {},
   "outputs": [],
   "source": [
    "from qiskit import QuantumCircuit, Aer, assemble\n",
    "from math import pi\n",
    "import numpy as np\n",
    "from qiskit.visualization import plot_bloch_multivector, plot_histogram, array_to_latex\n",
    "\n",
    "qc = QuantumCircuit(2)\n",
    "# 制御量子ビットにXゲートを適用\n",
    "qc.x(0)\n",
    "# 標的量子ビットにXゲートを適用\n",
    "qc.x(1)\n",
    "# 制御Tゲートを適用\n",
    "qc.cp(pi/4, 0, 1)\n",
    "display(qc.draw())\n",
    "\n",
    "# ブロッホ球に結果出力\n",
    "svsim = Aer.get_backend('aer_simulator')\n",
    "qc.save_statevector()\n",
    "qobj = assemble(qc)\n",
    "final_state = svsim.run(qobj).result().get_statevector()\n",
    "plot_bloch_multivector(final_state)"
   ]
  },
  {
   "cell_type": "markdown",
   "metadata": {},
   "source": [
    "A. 制御量子ビット（q0）の状態は変化しない、これは標的量子ビットにTゲートを適用したときの固有値$exp(i\\pi/4)$が制御量子ビットのグローバル位相に付与されるからである。\n",
    "$$Controlled-T\\ket{11} = \\begin{bmatrix} 1 & 0 & 0 & 0 \\\\ 0 & 1 & 0 & 0 \\\\ 0 & 0 & 1 & 0 \\\\ 0 & 0 & 0 & \\exp(i\\pi/4) \\end{bmatrix}\\begin{bmatrix} 0 \\\\ 0 \\\\ 0 \\\\ 1 \\end{bmatrix} = \\begin{bmatrix} 0 \\\\ 0 \\\\ 0 \\\\ \\exp(i\\pi/4) \\end{bmatrix} = \\exp(i\\pi/4) \\begin{bmatrix} 0 \\\\ 1 \\end{bmatrix} \\otimes \\begin{bmatrix} 0 \\\\ 1 \\end{bmatrix} = \\exp(i\\pi/4) \\ket{1} \\otimes \\ket{1}"
   ]
  }
 ],
 "metadata": {
  "language_info": {
   "name": "python"
  },
  "orig_nbformat": 4
 },
 "nbformat": 4,
 "nbformat_minor": 2
}
