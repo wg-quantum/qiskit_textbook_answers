{
 "cells": [
  {
   "cell_type": "code",
   "execution_count": 1,
   "metadata": {},
   "outputs": [],
   "source": [
    "from qiskit import QuantumCircuit, QuantumRegister"
   ]
  },
  {
   "cell_type": "code",
   "execution_count": 3,
   "metadata": {},
   "outputs": [
    {
     "data": {
      "text/plain": [
       "<qiskit.circuit.instructionset.InstructionSet at 0x1e4af052c40>"
      ]
     },
     "execution_count": 3,
     "metadata": {},
     "output_type": "execute_result"
    }
   ],
   "source": [
    "# 各量子ビットを定義\n",
    "input_bit = QuantumRegister(1, 'input')\n",
    "output_bit = QuantumRegister(1, 'output')\n",
    "garbage_bit = QuantumRegister(1, 'garbage')\n",
    "\n",
    "# 量子回路（V_f）を作成\n",
    "Vf = QuantumCircuit(input_bit, output_bit, garbage_bit)\n",
    "Vf.cx(input_bit[0], garbage_bit[0])\n",
    "Vf.cx(input_bit[0], output_bit[0])\n",
    "\n",
    "# 最終出力量子ビットを定義\n",
    "final_output_bit = QuantumRegister(1, 'final-output')\n",
    "\n",
    "# outputからfinal-outputへのコピー回路を作成\n",
    "copy = QuantumCircuit(output_bit, final_output_bit)\n",
    "copy.cx(output_bit, final_output_bit)"
   ]
  },
  {
   "cell_type": "code",
   "execution_count": null,
   "metadata": {},
   "outputs": [],
   "source": [
    "# 上で作成した回路をテキストと同様に結合\n",
    "(Vf.inverse() + copy + Vf).draw('mpl')"
   ]
  },
  {
   "cell_type": "markdown",
   "metadata": {},
   "source": [
    "1. 「output」レジスターが$|0\\rangle$で初期化されているとき出力が「final output」(のみ)に正しく書き込まれることを示しましょう。"
   ]
  },
  {
   "cell_type": "markdown",
   "metadata": {},
   "source": [
    "$\\ket{\\text{input}, \\text{output}, \\text{garbage}, \\text{final-output}}$ に対して、上記の回路を適用すると、\n",
    "$$\\ket{x, 0, 0, 0} \\xrightarrow{V_f} \\ket{x, f(x), g(x), 0} \\xrightarrow{\\text{copy}} \\ket{x, f(x), g(x), f(x)} \\xrightarrow{V_f^\\dagger} \\ket{x, 0, 0, f(x)}$$  \n",
    "となる。計算結果から出力がfinal-outputのみに正しく書き込まれることが分かる。"
   ]
  },
  {
   "cell_type": "markdown",
   "metadata": {},
   "source": [
    "2. 「output」レジスターが$|1\\rangle$.で初期化されているとき何が起こるでしょう。"
   ]
  },
  {
   "cell_type": "markdown",
   "metadata": {},
   "source": [
    "$\\ket{\\text{input}, \\text{output}, \\text{garbage}, \\text{final-output}}$ に対して、上記の回路を適用すると、\n",
    "$$\\ket{x, 1, 0, 0} \\xrightarrow{V_f} \\ket{x, 1 \\oplus f(x), g(x), 0} \\xrightarrow{\\text{copy}} \\ket{x, 1 \\oplus f(x), g(x), 1 \\oplus f(x)} \\xrightarrow{V_f^\\dagger} \\ket{x, 1, 0, 1 \\oplus f(x)}$$  \n",
    "となる。計算結果から出力(final-output)は、$1 \\oplus f(x)$。"
   ]
  }
 ],
 "metadata": {
  "kernelspec": {
   "display_name": "Python 3.9.6 64-bit ('knowledgemall': venv)",
   "language": "python",
   "name": "python3"
  },
  "language_info": {
   "codemirror_mode": {
    "name": "ipython",
    "version": 3
   },
   "file_extension": ".py",
   "mimetype": "text/x-python",
   "name": "python",
   "nbconvert_exporter": "python",
   "pygments_lexer": "ipython3",
   "version": "3.9.6"
  },
  "orig_nbformat": 4,
  "vscode": {
   "interpreter": {
    "hash": "d05a638398e64313926bda0c006a70ce2b3ef253f8ae895e0079e883a99603f6"
   }
  }
 },
 "nbformat": 4,
 "nbformat_minor": 2
}
