{
 "cells": [
  {
   "cell_type": "markdown",
   "id": "83b55324-9e2b-4941-ac29-b7ba4200ddf4",
   "metadata": {},
   "source": [
    "練習問題：\n",
    "状態 |+⟩  と  |−⟩  で量子ビットをスワップする回路を作り、それが上記の回路（CNOTゲートの順序の変更した場合)と等価であることを示してください。"
   ]
  },
  {
   "cell_type": "code",
   "execution_count": 1,
   "id": "0e46ee50-8be3-447b-9107-a039b4616511",
   "metadata": {},
   "outputs": [],
   "source": [
    "# Qiskit をインポートする\n",
    "from qiskit import QuantumCircuit\n",
    "from qiskit.circuit import Gate\n",
    "from math import pi\n",
    "qc = QuantumCircuit(2)\n",
    "c = 0\n",
    "t = 1"
   ]
  },
  {
   "cell_type": "markdown",
   "id": "4e78f88e-f4f9-4549-89e1-417f07c62f68",
   "metadata": {},
   "source": [
    "練習問題と等価となる「①CNOTゲートの順序を変更した場合」のSWAPゲートの回路は以下であった（テキストブックより引用）。"
   ]
  },
  {
   "cell_type": "code",
   "execution_count": 2,
   "id": "aa2ed8c6-1929-4d74-a0d9-01fb346a35e6",
   "metadata": {},
   "outputs": [
    {
     "data": {
      "image/png": "[encoded data removed]",
      "text/plain": [
       "<Figure size 267.052x144.48 with 1 Axes>"
      ]
     },
     "execution_count": 2,
     "metadata": {},
     "output_type": "execute_result"
    }
   ],
   "source": [
    "# aとbの値を準備\n",
    "a = 0\n",
    "b = 1\n",
    "qc = QuantumCircuit(2)\n",
    "# 量子ビットaとbの状態を入れ替える\n",
    "qc.cx(a,b)  #1回目CNOT\n",
    "qc.cx(b,a)  #2回目CNOT\n",
    "qc.cx(a,b)  #3回目CNOT\n",
    "qc.draw()"
   ]
  },
  {
   "cell_type": "markdown",
   "id": "9ac90bee-85ee-4674-b5de-b46c8c5f8bc5",
   "metadata": {},
   "source": [
    "上記の回路について、数式を用いて示していく。　　\n",
    "\n",
    "まず、$q_0, q_1$ の回路は数式で書くと\n",
    "$$\n",
    "\\begin{align*}\n",
    "q_0 \\otimes q_1 &=\\frac{1}{\\sqrt{2}}{(|0\\rangle+|1\\rangle)} \\otimes \\frac{1}{\\sqrt{2}}{(|0\\rangle+|1\\rangle)}\\\\ \n",
    "&= \\frac{1}{2}{(|0\\rangle|0\\rangle)}+\\frac{1}{2}{|(|0\\rangle|1\\rangle)}+\\frac{1}{2}{(|1\\rangle|0\\rangle)}+\\frac{1}{2}{(|1\\rangle|1\\rangle)} \\qquad -*式 　\\\\\n",
    "\\end{align*} \n",
    "$$\n",
    "\n",
    "\n",
    "である。\n",
    "さらに回路見ていくと、CNOTを複数回適用することで2つの量子ビット間の状態を移動し、量子状態を入れ替えているという事がわかる。\n",
    "\n",
    "ではCNOTを複数回適用することで、量子状態が入れ替わっているのかを$*$ 式からも確認していく。"
   ]
  },
  {
   "cell_type": "markdown",
   "id": "33c237ce-a544-4761-afcf-25bf207cb908",
   "metadata": {},
   "source": [
    "1回目CNOT \n",
    "\\begin{align*}\n",
    "\\frac{1}{2}{(|0\\rangle|0\\rangle)} \\xrightarrow {CX(\\rm{a},\\rm{b})} \\frac{1}{2}{(|0\\rangle|0\\rangle)} \\\\ \n",
    "\\frac{1}{2}{(|0\\rangle|1\\rangle)} \\xrightarrow {CX(\\rm{a},\\rm{b})} \\frac{1}{2}{(|0\\rangle|1\\rangle)} \\\\\n",
    "\\frac{1}{2}{(|1\\rangle|0\\rangle)} \\xrightarrow {CX(\\rm{a},\\rm{b})} \\frac{1}{2}{(|1\\rangle|1\\rangle)} \\\\\n",
    "\\frac{1}{2}{(|1\\rangle|1\\rangle)} \\xrightarrow {CX(\\rm{a},\\rm{b})} \\frac{1}{2}{(|1\\rangle|0\\rangle)} \\\\\n",
    "\\therefore \\frac{1}{2}{(|0\\rangle|0\\rangle)} +\\frac{1}{2}{(|0\\rangle|1\\rangle)} +\\frac{1}{2}{(|1\\rangle|1\\rangle)} +\\frac{1}{2}{(|1\\rangle|0\\rangle)}\n",
    "\\end{align*}\n",
    "2回目CNOT\n",
    "\\begin{align*}\n",
    "\\frac{1}{2}{(|0\\rangle|0\\rangle)} \\xrightarrow {CX(\\rm{b},\\rm{a})} \\frac{1}{2}{(|0\\rangle|0\\rangle)} \\\\ \n",
    "\\frac{1}{2}{(|0\\rangle|1\\rangle)} \\xrightarrow {CX(\\rm{b},\\rm{a})} \\frac{1}{2}{(|1\\rangle|1\\rangle)} \\\\\n",
    "\\frac{1}{2}{(|1\\rangle|1\\rangle)} \\xrightarrow {CX(\\rm{b},\\rm{a})} \\frac{1}{2}{(|0\\rangle|1\\rangle)} \\\\\n",
    "\\frac{1}{2}{(|1\\rangle|0\\rangle)} \\xrightarrow {CX(\\rm{b},\\rm{a})} \\frac{1}{2}{(|1\\rangle|0\\rangle)} \\\\\n",
    "\\therefore \\frac{1}{2}{(|0\\rangle|0\\rangle)} +\\frac{1}{2}{(|1\\rangle|1\\rangle)} +\\frac{1}{2}{(|0\\rangle|1\\rangle)} +\\frac{1}{2}{(|1\\rangle|0\\rangle)}\n",
    "\\end{align*}\n",
    "3回目CNOT\n",
    "\\begin{align*}\n",
    "\\frac{1}{2}{(|0\\rangle|0\\rangle)} \\xrightarrow {CX(\\rm{a},\\rm{b})} \\frac{1}{2}{(|0\\rangle|0\\rangle)} \\\\ \n",
    "\\frac{1}{2}{(|1\\rangle|1\\rangle)} \\xrightarrow {CX(\\rm{a},\\rm{b})} \\frac{1}{2}{(|1\\rangle|0\\rangle)} \\\\\n",
    "\\frac{1}{2}{(|0\\rangle|1\\rangle)} \\xrightarrow {CX(\\rm{a},\\rm{b})} \\frac{1}{2}{(|0\\rangle|1\\rangle)} \\\\\n",
    "\\frac{1}{2}{(|1\\rangle|0\\rangle)} \\xrightarrow {CX(\\rm{a},\\rm{b})} \\frac{1}{2}{(|1\\rangle|1\\rangle)} \\\\\n",
    "\\therefore \\frac{1}{2}{(|0\\rangle|0\\rangle)} +\\frac{1}{2}{(|1\\rangle|0\\rangle)} +\\frac{1}{2}{(|0\\rangle|1\\rangle)} +\\frac{1}{2}{(|1\\rangle|1\\rangle)} \n",
    "= q_1 \\otimes q_0\n",
    "\\end{align*}\n",
    "\n",
    "$＊$式と量子状態が入れ替わっていることが確認できた。"
   ]
  },
  {
   "cell_type": "markdown",
   "id": "7fb1f2ae-1a9c-4743-9266-09672d6f7ceb",
   "metadata": {},
   "source": [
    "次に、①と等価である「②状態 |+⟩  と  |−⟩  で量子ビットをスワップする回路」を作成する。"
   ]
  },
  {
   "cell_type": "code",
   "execution_count": 3,
   "id": "94fd36be-ff23-4ec4-8470-77210b6e07a0",
   "metadata": {},
   "outputs": [
    {
     "data": {
      "image/png": "[encoded data removed]",
      "text/plain": [
       "<Figure size 989.452x144.48 with 1 Axes>"
      ]
     },
     "execution_count": 3,
     "metadata": {},
     "output_type": "execute_result"
    }
   ],
   "source": [
    "qc = QuantumCircuit(2)\n",
    "# 量子ビットaとbの状態を入れ替える\n",
    "qc.h(a)\n",
    "qc.h(b)\n",
    "qc.barrier() \n",
    "# 今回は回路を見やすくするためにバリアを入れる\n",
    "# hで挟んでいるのは、CNOTの前後に正しい回転を配置することによってブロッホ球での角度πの任意の回転の制御バージョンに変更できる性質を利用しているため\n",
    "qc.h(a)\n",
    "qc.cx(b,a)  #1回目CNOT\n",
    "qc.h(a)\n",
    "qc.barrier()\n",
    "qc.h(b)\n",
    "qc.cx(a,b)  #2回目CNOT\n",
    "qc.h(b)\n",
    "qc.barrier()\n",
    "qc.h(a)\n",
    "qc.cx(b,a)  #3回目CNOT\n",
    "qc.h(a)\n",
    "qc.barrier()\n",
    "qc.h(a)\n",
    "qc.h(b)\n",
    "qc.draw()"
   ]
  },
  {
   "cell_type": "markdown",
   "id": "a88de090-2f23-4644-824a-e06adbd90b35",
   "metadata": {},
   "source": [
    "回路図から①と②は等価であることがわかった。\n",
    "\n",
    "\n",
    "パラメータと回路図の内容を式を用いて解説していく。\n",
    "\n",
    "まず、前提として$|+\\rangle, |-\\rangle$ は以下のように定義される。\n",
    "$$\n",
    "H|0\\rangle \n",
    "=\\frac{1}{\\sqrt{2}}{(|0\\rangle+|1\\rangle)} = |+\\rangle , \\\\ \n",
    "H|1\\rangle \n",
    "=\\frac{1}{\\sqrt{2}}{(|0\\rangle-|1\\rangle)} = |-\\rangle \\\\\n",
    "$$\n",
    "このことより、\n",
    "$$\n",
    "|+\\rangle \\otimes  |-\\rangle = \\frac{1}{\\sqrt{2}}{(|0\\rangle+|1\\rangle)}\\otimes \\frac{1}{\\sqrt{2}}{(|0\\rangle-|1\\rangle)} 　－＊＊式\n",
    "$$\n",
    "となる。"
   ]
  },
  {
   "cell_type": "markdown",
   "id": "f936548e-39a0-4d4c-ae12-cddd35dada6c",
   "metadata": {
    "tags": []
   },
   "source": [
    "また、$|+\\rangle , |-\\rangle$ にそれぞれHを適用すると以下となる性質を利用する。\n",
    "$$\n",
    "H|+\\rangle=H\\frac{1}{\\sqrt{2}}{(|0\\rangle+|1\\rangle)} = |0\\rangle \\\\ H|-\\rangle=H\\frac{1}{\\sqrt{2}}{(|0\\rangle-|1\\rangle)} = |1\\rangle \n",
    "$$"
   ]
  },
  {
   "cell_type": "markdown",
   "id": "0ba6ab24-e9cf-475a-9028-2d72f4ed6822",
   "metadata": {},
   "source": [
    "＊＊式より、\n",
    "\n",
    "$$\n",
    "\\frac{1}{\\sqrt{2}}{(|0\\rangle+|1\\rangle)}\\otimes \\frac{1}{\\sqrt{2}}{(|0\\rangle-|1\\rangle)} = \\frac{1}{2}{(|0\\rangle|0\\rangle)}-\\frac{1}{2}{(|0\\rangle|1\\rangle)}+\\frac{1}{2}{(|1\\rangle|0\\rangle)}-\\frac{1}{2}{(|1\\rangle|1\\rangle)}\n",
    "$$\n",
    "\n",
    "\n",
    "\n",
    "1回目CNOT \n",
    "\n",
    "\\begin{align*}\n",
    "\\frac{1}{2}{(|0\\rangle|0\\rangle)} \\xrightarrow {CX(\\rm{b},\\rm{a})} \\frac{1}{2}{(|0\\rangle|0\\rangle)} \\\\ \n",
    "\\frac{1}{2}{(|0\\rangle|1\\rangle)} \\xrightarrow {CX(\\rm{b},\\rm{a})} \\frac{1}{2}{(|1\\rangle|1\\rangle)} \\\\\n",
    "\\frac{1}{2}{(|1\\rangle|0\\rangle)} \\xrightarrow {CX(\\rm{b},\\rm{a})} \\frac{1}{2}{(|1\\rangle|0\\rangle)} \\\\\n",
    "\\frac{1}{2}{(|1\\rangle|1\\rangle)} \\xrightarrow {CX(\\rm{b},\\rm{a})} \\frac{1}{2}{(|0\\rangle|1\\rangle)} \\\\\n",
    "\\therefore \\frac{1}{2}{(|0\\rangle|0\\rangle)} -\\frac{1}{2}{(|0\\rangle|1\\rangle)} +\\frac{1}{2}{(|1\\rangle|1\\rangle)} -\\frac{1}{2}{(|1\\rangle|0\\rangle)}\n",
    "\\end{align*}\n",
    "2回目CNOT\n",
    "\\begin{align*}\n",
    "\\frac{1}{2}{(|0\\rangle|0\\rangle)} \\xrightarrow {CX(\\rm{a},\\rm{b})} \\frac{1}{2}{(|0\\rangle|0\\rangle)} \\\\ \n",
    "\\frac{1}{2}{(|1\\rangle|1\\rangle)} \\xrightarrow {CX(\\rm{a},\\rm{b})} \\frac{1}{2}{(|1\\rangle|0\\rangle)} \\\\\n",
    "\\frac{1}{2}{(|1\\rangle|0\\rangle)} \\xrightarrow {CX(\\rm{a},\\rm{b})} \\frac{1}{2}{(|1\\rangle|1\\rangle)} \\\\\n",
    "\\frac{1}{2}{(|0\\rangle|1\\rangle)} \\xrightarrow {CX(\\rm{a},\\rm{b})} \\frac{1}{2}{(|0\\rangle|1\\rangle)} \\\\\n",
    "\\therefore \\frac{1}{2}{(|0\\rangle|0\\rangle)} -\\frac{1}{2}{(|1\\rangle|0\\rangle)} +\\frac{1}{2}{(|1\\rangle|1\\rangle)} -\\frac{1}{2}{(|0\\rangle|1\\rangle)}\n",
    "\\end{align*}\n",
    "3回目CNOT\n",
    "\\begin{align*}\n",
    "\\frac{1}{2}{(|0\\rangle|0\\rangle)} \\xrightarrow {CX(\\rm{b},\\rm{a})} \\frac{1}{2}{(|0\\rangle|0\\rangle)} \\\\ \n",
    "\\frac{1}{2}{(|1\\rangle|0\\rangle)} \\xrightarrow {CX(\\rm{b},\\rm{a})} \\frac{1}{2}{(|1\\rangle|0\\rangle)} \\\\\n",
    "\\frac{1}{2}{(|1\\rangle|1\\rangle)} \\xrightarrow {CX(\\rm{b},\\rm{a})} \\frac{1}{2}{(|0\\rangle|1\\rangle)} \\\\\n",
    "\\frac{1}{2}{(|0\\rangle|1\\rangle)} \\xrightarrow {CX(\\rm{b},\\rm{a})} \\frac{1}{2}{(|1\\rangle|1\\rangle)} \\\\\n",
    "\\end{align*}\n",
    "$$\n",
    "\\begin{align*}\n",
    "\\therefore &\\frac{1}{2}{(|0\\rangle|0\\rangle)} -\\frac{1}{2}{(|1\\rangle|0\\rangle)} +\\frac{1}{2}{(|0\\rangle|1\\rangle)} -\\frac{1}{2}{(|1\\rangle|1\\rangle)}　\\\\ \n",
    "&= \\frac{1}{\\sqrt{2}}{(|0\\rangle-|1\\rangle)}\\otimes \\frac{1}{\\sqrt{2}}{(|0\\rangle+|1\\rangle)} \\\\\n",
    "&= |-\\rangle \\otimes  |+\\rangle\n",
    "\\end{align*}\n",
    "$$\n",
    "\n",
    "以上より、式からも＊＊式と量子状態が入れ替わることが確認でき、この結果は①と等価であるとも言える。"
   ]
  },
  {
   "cell_type": "code",
   "execution_count": null,
   "id": "f78e4cf7-016f-4f5e-aaf1-f7bca41edadb",
   "metadata": {},
   "outputs": [],
   "source": []
  }
 ],
 "metadata": {
  "kernelspec": {
   "display_name": "Python 3 (ipykernel)",
   "language": "python",
   "name": "python3"
  },
  "language_info": {
   "codemirror_mode": {
    "name": "ipython",
    "version": 3
   },
   "file_extension": ".py",
   "mimetype": "text/x-python",
   "name": "python",
   "nbconvert_exporter": "python",
   "pygments_lexer": "ipython3",
   "version": "3.8.13"
  },
  "widgets": {
   "application/vnd.jupyter.widget-state+json": {
    "state": {},
    "version_major": 2,
    "version_minor": 0
   }
  }
 },
 "nbformat": 4,
 "nbformat_minor": 5
}
